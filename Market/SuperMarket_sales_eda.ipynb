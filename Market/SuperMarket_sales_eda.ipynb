{
 "cells": [
  {
   "cell_type": "markdown",
   "id": "f677ac61",
   "metadata": {
    "id": "f677ac61"
   },
   "source": [
    "![supermarkets.png](attachment:supermarkets.png)"
   ]
  },
  {
   "cell_type": "markdown",
   "id": "f6a93c43",
   "metadata": {
    "id": "f6a93c43"
   },
   "source": [
    "##### Importing Libraries"
   ]
  },
  {
   "cell_type": "code",
   "execution_count": 5,
   "id": "df750ca9",
   "metadata": {
    "id": "df750ca9"
   },
   "outputs": [],
   "source": [
    "#importing core libraries\n",
    "import numpy as np\n",
    "import pandas as pd\n",
    "import matplotlib.pyplot as plt\n",
    "import seaborn as sns\n",
    "\n",
    "#Geo visualisations\n",
    "import folium\n",
    "\n",
    "\n",
    "%matplotlib inline   \n"
   ]
  },
  {
   "cell_type": "code",
   "execution_count": 6,
   "id": "16aa6dbb",
   "metadata": {
    "id": "16aa6dbb"
   },
   "outputs": [],
   "source": [
    "# For suppressing warning messages\n",
    "import warnings\n",
    "\n",
    "warnings.filterwarnings('ignore')"
   ]
  },
  {
   "cell_type": "markdown",
   "id": "eee518dd",
   "metadata": {
    "id": "eee518dd"
   },
   "source": [
    "##### Changing default figure size "
   ]
  },
  {
   "cell_type": "code",
   "execution_count": 7,
   "id": "dc9e28ff",
   "metadata": {
    "id": "dc9e28ff",
    "outputId": "13cdad22-6823-4b73-8232-0ad111328e0e",
    "scrolled": true
   },
   "outputs": [
    {
     "name": "stdout",
     "output_type": "stream",
     "text": [
      "Earlier, figure default size was:  [6.4, 4.8]\n",
      "Now, figure default size is:  [10.0, 5.0]\n"
     ]
    }
   ],
   "source": [
    "## Changing default figure size using rcParams\n",
    "\n",
    "print(\"Earlier, figure default size was: \", plt.rcParams[\"figure.figsize\"])\n",
    "plt.rcParams[\"figure.figsize\"] = (10, 5)\n",
    "print(\"Now, figure default size is: \", plt.rcParams[\"figure.figsize\"])"
   ]
  },
  {
   "cell_type": "markdown",
   "id": "1b03aebd",
   "metadata": {
    "id": "1b03aebd"
   },
   "source": [
    "##### Applying theme for notebook"
   ]
  },
  {
   "cell_type": "code",
   "execution_count": 8,
   "id": "d5acd51e",
   "metadata": {
    "id": "d5acd51e"
   },
   "outputs": [],
   "source": [
    "# Setting theme for charts\n",
    "\n",
    "plt.style.use('ggplot')"
   ]
  },
  {
   "cell_type": "markdown",
   "id": "96891e11",
   "metadata": {
    "id": "96891e11"
   },
   "source": [
    "##### Increasing Row/Col display limit "
   ]
  },
  {
   "cell_type": "code",
   "execution_count": 9,
   "id": "ad6aa140",
   "metadata": {
    "id": "ad6aa140"
   },
   "outputs": [],
   "source": [
    "# NOTE : New function\n",
    "\n",
    "# Extending the default setting for maximum displayable rows/columns in Jupyter\n",
    "# If not used, Jupyter wll truncate some rows and columns by default. \n",
    "\n",
    "pd.options.display.max_rows = 4000\n",
    "pd.options.display.max_columns = 1000"
   ]
  },
  {
   "cell_type": "markdown",
   "id": "e71d75d5",
   "metadata": {
    "id": "e71d75d5"
   },
   "source": [
    "# EDA - Supermarket Sales"
   ]
  },
  {
   "cell_type": "markdown",
   "id": "16378d7a",
   "metadata": {
    "id": "16378d7a"
   },
   "source": [
    "## 1.  Introduction"
   ]
  },
  {
   "cell_type": "markdown",
   "id": "2d2111a1",
   "metadata": {
    "id": "2d2111a1"
   },
   "source": [
    "This case study presents a real world alike scenario where important decisions are influenced by the data driven insights. We'll explore the transaction level data sales data of a supermarket chain , and derive useful business insights."
   ]
  },
  {
   "cell_type": "markdown",
   "id": "d8d6643e",
   "metadata": {
    "id": "d8d6643e"
   },
   "source": [
    "### Objective"
   ]
  },
  {
   "cell_type": "markdown",
   "id": "bfa6c67b",
   "metadata": {
    "id": "bfa6c67b"
   },
   "source": [
    "The supermarket chain wants to run some promotions and they have a fixed budget for the same. Business wants insights from the data on how to most efficiently allocate these funds.\n",
    "\n",
    "The objectives are as following -\n",
    "\n",
    "•\tProvide insights to Marketing head for allocating funds. The funds should be allocated in such a way so that the promotional return can be maximized.\n",
    "\n",
    "•\tAny new Strategy or strategy changes suggestions to improve revenue.\n"
   ]
  },
  {
   "cell_type": "markdown",
   "id": "648be95c",
   "metadata": {
    "id": "648be95c"
   },
   "source": [
    "### Data \n",
    "\n",
    "•\tThe data belongs to a supermarket chain in Myanmar, with stores in 3 cities.\n",
    "\n",
    "•\tThis is a sampled data of 1000 transactions and 20 fields for each transaction\n",
    "\n",
    "•\tAll transactions belong to year 2019\n"
   ]
  },
  {
   "cell_type": "markdown",
   "id": "5ec23b6f",
   "metadata": {
    "id": "5ec23b6f"
   },
   "source": [
    "### Data Dictionary"
   ]
  },
  {
   "cell_type": "markdown",
   "id": "e30a544a",
   "metadata": {
    "id": "e30a544a"
   },
   "source": [
    "Reading data dictionary - "
   ]
  },
  {
   "cell_type": "code",
   "execution_count": 10,
   "id": "2393ffa4",
   "metadata": {
    "id": "2393ffa4",
    "outputId": "648276c9-548d-438e-f939-93cb70102b2a"
   },
   "outputs": [
    {
     "data": {
      "text/html": [
       "<div>\n",
       "<style scoped>\n",
       "    .dataframe tbody tr th:only-of-type {\n",
       "        vertical-align: middle;\n",
       "    }\n",
       "\n",
       "    .dataframe tbody tr th {\n",
       "        vertical-align: top;\n",
       "    }\n",
       "\n",
       "    .dataframe thead th {\n",
       "        text-align: right;\n",
       "    }\n",
       "</style>\n",
       "<table border=\"1\" class=\"dataframe\">\n",
       "  <thead>\n",
       "    <tr style=\"text-align: right;\">\n",
       "      <th></th>\n",
       "      <th>Field</th>\n",
       "      <th>Description</th>\n",
       "    </tr>\n",
       "  </thead>\n",
       "  <tbody>\n",
       "    <tr>\n",
       "      <th>0</th>\n",
       "      <td>Invoice ID</td>\n",
       "      <td>Invoice ID of the transaction</td>\n",
       "    </tr>\n",
       "    <tr>\n",
       "      <th>1</th>\n",
       "      <td>Branch</td>\n",
       "      <td>One out of 3 branches. Every city belongs to a...</td>\n",
       "    </tr>\n",
       "    <tr>\n",
       "      <th>2</th>\n",
       "      <td>CustomerID</td>\n",
       "      <td>Customer ID of the cutomer doing transaction</td>\n",
       "    </tr>\n",
       "    <tr>\n",
       "      <th>3</th>\n",
       "      <td>City</td>\n",
       "      <td>City where the tx took place. The chain has st...</td>\n",
       "    </tr>\n",
       "    <tr>\n",
       "      <th>4</th>\n",
       "      <td>Customer Type</td>\n",
       "      <td>Where a member or normal customer</td>\n",
       "    </tr>\n",
       "    <tr>\n",
       "      <th>5</th>\n",
       "      <td>Gender</td>\n",
       "      <td>Male or Female</td>\n",
       "    </tr>\n",
       "    <tr>\n",
       "      <th>6</th>\n",
       "      <td>Product Line</td>\n",
       "      <td>Product line of the product purchased</td>\n",
       "    </tr>\n",
       "    <tr>\n",
       "      <th>7</th>\n",
       "      <td>Unit Price</td>\n",
       "      <td>Unit price of product purchased</td>\n",
       "    </tr>\n",
       "    <tr>\n",
       "      <th>8</th>\n",
       "      <td>Quantity</td>\n",
       "      <td>Qty purchased</td>\n",
       "    </tr>\n",
       "    <tr>\n",
       "      <th>9</th>\n",
       "      <td>Tax 5%</td>\n",
       "      <td>Tax as a fixed % of invoice</td>\n",
       "    </tr>\n",
       "    <tr>\n",
       "      <th>10</th>\n",
       "      <td>Total</td>\n",
       "      <td>Total Invoice amount</td>\n",
       "    </tr>\n",
       "    <tr>\n",
       "      <th>11</th>\n",
       "      <td>Date</td>\n",
       "      <td>Date of tx</td>\n",
       "    </tr>\n",
       "    <tr>\n",
       "      <th>12</th>\n",
       "      <td>Time</td>\n",
       "      <td>Time of tx</td>\n",
       "    </tr>\n",
       "    <tr>\n",
       "      <th>13</th>\n",
       "      <td>Payment</td>\n",
       "      <td>Payment mode</td>\n",
       "    </tr>\n",
       "    <tr>\n",
       "      <th>14</th>\n",
       "      <td>cogs</td>\n",
       "      <td>Cost of goods sold</td>\n",
       "    </tr>\n",
       "    <tr>\n",
       "      <th>15</th>\n",
       "      <td>gross margin</td>\n",
       "      <td>Margin %</td>\n",
       "    </tr>\n",
       "    <tr>\n",
       "      <th>16</th>\n",
       "      <td>gross income</td>\n",
       "      <td>Margin amount</td>\n",
       "    </tr>\n",
       "    <tr>\n",
       "      <th>17</th>\n",
       "      <td>Rating</td>\n",
       "      <td>Rating given by cx out of 10</td>\n",
       "    </tr>\n",
       "    <tr>\n",
       "      <th>18</th>\n",
       "      <td>Longitude</td>\n",
       "      <td>Geo field for tx location</td>\n",
       "    </tr>\n",
       "    <tr>\n",
       "      <th>19</th>\n",
       "      <td>Latitude</td>\n",
       "      <td>Geo field for tx location</td>\n",
       "    </tr>\n",
       "  </tbody>\n",
       "</table>\n",
       "</div>"
      ],
      "text/plain": [
       "            Field                                        Description\n",
       "0      Invoice ID                      Invoice ID of the transaction\n",
       "1         Branch   One out of 3 branches. Every city belongs to a...\n",
       "2      CustomerID       Customer ID of the cutomer doing transaction\n",
       "3            City  City where the tx took place. The chain has st...\n",
       "4   Customer Type                  Where a member or normal customer\n",
       "5          Gender                                     Male or Female\n",
       "6    Product Line              Product line of the product purchased\n",
       "7      Unit Price                    Unit price of product purchased\n",
       "8        Quantity                                      Qty purchased\n",
       "9          Tax 5%                        Tax as a fixed % of invoice\n",
       "10          Total                               Total Invoice amount\n",
       "11           Date                                         Date of tx\n",
       "12           Time                                         Time of tx\n",
       "13        Payment                                       Payment mode\n",
       "14           cogs                                 Cost of goods sold\n",
       "15   gross margin                                           Margin %\n",
       "16   gross income                                      Margin amount\n",
       "17         Rating                       Rating given by cx out of 10\n",
       "18      Longitude                          Geo field for tx location\n",
       "19       Latitude                          Geo field for tx location"
      ]
     },
     "execution_count": 10,
     "metadata": {},
     "output_type": "execute_result"
    }
   ],
   "source": [
    "data_dict = pd.read_csv(\"data_dict.csv\")\n",
    "\n",
    "data_dict.head(20)"
   ]
  },
  {
   "cell_type": "markdown",
   "id": "17be877a",
   "metadata": {
    "id": "17be877a"
   },
   "source": [
    "## 2. Data Wrangling"
   ]
  },
  {
   "cell_type": "markdown",
   "id": "2977b300",
   "metadata": {
    "id": "2977b300"
   },
   "source": [
    "Reading data file using pandas - "
   ]
  },
  {
   "cell_type": "markdown",
   "id": "0a584333",
   "metadata": {
    "id": "0a584333"
   },
   "source": [
    "(Please note the style function used to color code the quantitative fields. A really useful method to visualise the data with the data ingestion  )"
   ]
  },
  {
   "cell_type": "code",
   "execution_count": 11,
   "id": "56b13bbd",
   "metadata": {
    "id": "56b13bbd",
    "outputId": "afefc20c-8e6d-49f7-b22f-4d0d11e030cf",
    "scrolled": true
   },
   "outputs": [
    {
     "data": {
      "text/html": [
       "<style type=\"text/css\">\n",
       "#T_71b30_row0_col7 {\n",
       "  background-color: #2889bc;\n",
       "  color: #f1f1f1;\n",
       "}\n",
       "#T_71b30_row0_col8, #T_71b30_row13_col8, #T_71b30_row14_col8, #T_71b30_row16_col8 {\n",
       "  background-color: #1d7eb7;\n",
       "  color: #f1f1f1;\n",
       "}\n",
       "#T_71b30_row0_col9, #T_71b30_row0_col17 {\n",
       "  background-color: #1373b2;\n",
       "  color: #f1f1f1;\n",
       "}\n",
       "#T_71b30_row0_col10, #T_71b30_row3_col17 {\n",
       "  background-color: #379ac5;\n",
       "  color: #f1f1f1;\n",
       "}\n",
       "#T_71b30_row0_col14 {\n",
       "  background-color: #084b8d;\n",
       "  color: #f1f1f1;\n",
       "}\n",
       "#T_71b30_row0_col15, #T_71b30_row0_col19, #T_71b30_row1_col15, #T_71b30_row1_col18, #T_71b30_row2_col15, #T_71b30_row2_col16, #T_71b30_row2_col19, #T_71b30_row3_col15, #T_71b30_row3_col19, #T_71b30_row4_col15, #T_71b30_row4_col16, #T_71b30_row4_col19, #T_71b30_row5_col15, #T_71b30_row5_col18, #T_71b30_row6_col15, #T_71b30_row6_col16, #T_71b30_row6_col19, #T_71b30_row7_col15, #T_71b30_row7_col18, #T_71b30_row8_col8, #T_71b30_row8_col9, #T_71b30_row8_col10, #T_71b30_row8_col15, #T_71b30_row8_col16, #T_71b30_row8_col19, #T_71b30_row9_col15, #T_71b30_row10_col7, #T_71b30_row10_col14, #T_71b30_row10_col15, #T_71b30_row11_col15, #T_71b30_row12_col15, #T_71b30_row12_col16, #T_71b30_row12_col19, #T_71b30_row13_col15, #T_71b30_row13_col16, #T_71b30_row13_col19, #T_71b30_row14_col15, #T_71b30_row14_col16, #T_71b30_row14_col19, #T_71b30_row15_col15, #T_71b30_row16_col15, #T_71b30_row16_col17, #T_71b30_row16_col19, #T_71b30_row17_col15, #T_71b30_row17_col16, #T_71b30_row17_col19, #T_71b30_row18_col15, #T_71b30_row18_col16, #T_71b30_row18_col19, #T_71b30_row19_col15 {\n",
       "  background-color: #f7fcf0;\n",
       "  color: #000000;\n",
       "}\n",
       "#T_71b30_row0_col16 {\n",
       "  background-color: #e9f7e3;\n",
       "  color: #000000;\n",
       "}\n",
       "#T_71b30_row0_col18, #T_71b30_row1_col17, #T_71b30_row2_col18, #T_71b30_row3_col18, #T_71b30_row4_col18, #T_71b30_row6_col18, #T_71b30_row7_col8, #T_71b30_row7_col9, #T_71b30_row7_col14, #T_71b30_row8_col18, #T_71b30_row9_col19, #T_71b30_row10_col19, #T_71b30_row11_col19, #T_71b30_row12_col18, #T_71b30_row13_col18, #T_71b30_row14_col18, #T_71b30_row15_col7, #T_71b30_row15_col10, #T_71b30_row15_col16, #T_71b30_row15_col19, #T_71b30_row16_col18, #T_71b30_row17_col18, #T_71b30_row18_col18, #T_71b30_row19_col19 {\n",
       "  background-color: #084081;\n",
       "  color: #f1f1f1;\n",
       "}\n",
       "#T_71b30_row1_col7 {\n",
       "  background-color: #f6fbef;\n",
       "  color: #000000;\n",
       "}\n",
       "#T_71b30_row1_col8, #T_71b30_row2_col7, #T_71b30_row6_col8, #T_71b30_row10_col8, #T_71b30_row11_col8, #T_71b30_row17_col8 {\n",
       "  background-color: #9fdab8;\n",
       "  color: #000000;\n",
       "}\n",
       "#T_71b30_row1_col9, #T_71b30_row1_col14 {\n",
       "  background-color: #f3faec;\n",
       "  color: #000000;\n",
       "}\n",
       "#T_71b30_row1_col10, #T_71b30_row8_col14 {\n",
       "  background-color: #f3fbed;\n",
       "  color: #000000;\n",
       "}\n",
       "#T_71b30_row1_col16, #T_71b30_row19_col14 {\n",
       "  background-color: #f1faeb;\n",
       "  color: #000000;\n",
       "}\n",
       "#T_71b30_row1_col19, #T_71b30_row5_col19, #T_71b30_row7_col19 {\n",
       "  background-color: #61bdcd;\n",
       "  color: #000000;\n",
       "}\n",
       "#T_71b30_row2_col8, #T_71b30_row4_col8 {\n",
       "  background-color: #7accc4;\n",
       "  color: #000000;\n",
       "}\n",
       "#T_71b30_row2_col9 {\n",
       "  background-color: #bbe4bd;\n",
       "  color: #000000;\n",
       "}\n",
       "#T_71b30_row2_col10 {\n",
       "  background-color: #c8eac3;\n",
       "  color: #000000;\n",
       "}\n",
       "#T_71b30_row2_col14 {\n",
       "  background-color: #a2dbb7;\n",
       "  color: #000000;\n",
       "}\n",
       "#T_71b30_row2_col17 {\n",
       "  background-color: #75c8c6;\n",
       "  color: #000000;\n",
       "}\n",
       "#T_71b30_row3_col7, #T_71b30_row13_col14 {\n",
       "  background-color: #68c1ca;\n",
       "  color: #000000;\n",
       "}\n",
       "#T_71b30_row3_col8, #T_71b30_row15_col8 {\n",
       "  background-color: #085fa3;\n",
       "  color: #f1f1f1;\n",
       "}\n",
       "#T_71b30_row3_col9 {\n",
       "  background-color: #389bc6;\n",
       "  color: #f1f1f1;\n",
       "}\n",
       "#T_71b30_row3_col10 {\n",
       "  background-color: #5abacf;\n",
       "  color: #000000;\n",
       "}\n",
       "#T_71b30_row3_col14 {\n",
       "  background-color: #56b7d0;\n",
       "  color: #f1f1f1;\n",
       "}\n",
       "#T_71b30_row3_col16, #T_71b30_row13_col10 {\n",
       "  background-color: #a9ddb5;\n",
       "  color: #000000;\n",
       "}\n",
       "#T_71b30_row4_col7 {\n",
       "  background-color: #085da0;\n",
       "  color: #f1f1f1;\n",
       "}\n",
       "#T_71b30_row4_col9 {\n",
       "  background-color: #46aace;\n",
       "  color: #f1f1f1;\n",
       "}\n",
       "#T_71b30_row4_col10, #T_71b30_row17_col14 {\n",
       "  background-color: #67c1cb;\n",
       "  color: #000000;\n",
       "}\n",
       "#T_71b30_row4_col14 {\n",
       "  background-color: #1b7bb6;\n",
       "  color: #f1f1f1;\n",
       "}\n",
       "#T_71b30_row4_col17, #T_71b30_row5_col17, #T_71b30_row6_col17, #T_71b30_row7_col17, #T_71b30_row8_col17, #T_71b30_row9_col17, #T_71b30_row10_col17, #T_71b30_row11_col9, #T_71b30_row11_col17, #T_71b30_row12_col9, #T_71b30_row12_col17, #T_71b30_row13_col9, #T_71b30_row14_col9, #T_71b30_row15_col9, #T_71b30_row16_col9, #T_71b30_row17_col9, #T_71b30_row18_col9, #T_71b30_row19_col9 {\n",
       "  background-color: #000000;\n",
       "  color: #f1f1f1;\n",
       "}\n",
       "#T_71b30_row5_col7 {\n",
       "  background-color: #0861a4;\n",
       "  color: #f1f1f1;\n",
       "}\n",
       "#T_71b30_row5_col8 {\n",
       "  background-color: #57b8d0;\n",
       "  color: #000000;\n",
       "}\n",
       "#T_71b30_row5_col9 {\n",
       "  background-color: #2a8bbe;\n",
       "  color: #f1f1f1;\n",
       "}\n",
       "#T_71b30_row5_col10 {\n",
       "  background-color: #4aafd1;\n",
       "  color: #f1f1f1;\n",
       "}\n",
       "#T_71b30_row5_col14 {\n",
       "  background-color: #1e7fb7;\n",
       "  color: #f1f1f1;\n",
       "}\n",
       "#T_71b30_row5_col16, #T_71b30_row9_col9 {\n",
       "  background-color: #d7efd1;\n",
       "  color: #000000;\n",
       "}\n",
       "#T_71b30_row6_col7, #T_71b30_row16_col7 {\n",
       "  background-color: #3da0c9;\n",
       "  color: #f1f1f1;\n",
       "}\n",
       "#T_71b30_row6_col9 {\n",
       "  background-color: #98d7ba;\n",
       "  color: #000000;\n",
       "}\n",
       "#T_71b30_row6_col10 {\n",
       "  background-color: #aedfb8;\n",
       "  color: #000000;\n",
       "}\n",
       "#T_71b30_row6_col14 {\n",
       "  background-color: #72c7c7;\n",
       "  color: #000000;\n",
       "}\n",
       "#T_71b30_row7_col7, #T_71b30_row15_col14 {\n",
       "  background-color: #2c8ebf;\n",
       "  color: #f1f1f1;\n",
       "}\n",
       "#T_71b30_row7_col10 {\n",
       "  background-color: #1070b0;\n",
       "  color: #f1f1f1;\n",
       "}\n",
       "#T_71b30_row7_col16 {\n",
       "  background-color: #bae4bd;\n",
       "  color: #000000;\n",
       "}\n",
       "#T_71b30_row8_col7 {\n",
       "  background-color: #c5e8c2;\n",
       "  color: #000000;\n",
       "}\n",
       "#T_71b30_row9_col7 {\n",
       "  background-color: #77cac5;\n",
       "  color: #000000;\n",
       "}\n",
       "#T_71b30_row9_col8 {\n",
       "  background-color: #d4eece;\n",
       "  color: #000000;\n",
       "}\n",
       "#T_71b30_row9_col10 {\n",
       "  background-color: #dcf1d6;\n",
       "  color: #000000;\n",
       "}\n",
       "#T_71b30_row9_col14, #T_71b30_row18_col14 {\n",
       "  background-color: #dbf1d5;\n",
       "  color: #000000;\n",
       "}\n",
       "#T_71b30_row9_col16 {\n",
       "  background-color: #e2f4dd;\n",
       "  color: #000000;\n",
       "}\n",
       "#T_71b30_row9_col18, #T_71b30_row10_col18, #T_71b30_row11_col18, #T_71b30_row15_col18, #T_71b30_row19_col18 {\n",
       "  background-color: #e3f4de;\n",
       "  color: #000000;\n",
       "}\n",
       "#T_71b30_row10_col9 {\n",
       "  background-color: #f4fbed;\n",
       "  color: #000000;\n",
       "}\n",
       "#T_71b30_row10_col10 {\n",
       "  background-color: #f5fbee;\n",
       "  color: #000000;\n",
       "}\n",
       "#T_71b30_row10_col16 {\n",
       "  background-color: #ecf8e6;\n",
       "  color: #000000;\n",
       "}\n",
       "#T_71b30_row11_col7 {\n",
       "  background-color: #def2d9;\n",
       "  color: #000000;\n",
       "}\n",
       "#T_71b30_row11_col10 {\n",
       "  background-color: #e8f6e2;\n",
       "  color: #000000;\n",
       "}\n",
       "#T_71b30_row11_col14 {\n",
       "  background-color: #ebf7e5;\n",
       "  color: #000000;\n",
       "}\n",
       "#T_71b30_row11_col16 {\n",
       "  background-color: #e4f4de;\n",
       "  color: #000000;\n",
       "}\n",
       "#T_71b30_row12_col7 {\n",
       "  background-color: #9cd9b9;\n",
       "  color: #000000;\n",
       "}\n",
       "#T_71b30_row12_col8 {\n",
       "  background-color: #bee6bf;\n",
       "  color: #000000;\n",
       "}\n",
       "#T_71b30_row12_col10 {\n",
       "  background-color: #d9f0d3;\n",
       "  color: #000000;\n",
       "}\n",
       "#T_71b30_row12_col14 {\n",
       "  background-color: #c9eac4;\n",
       "  color: #000000;\n",
       "}\n",
       "#T_71b30_row13_col7 {\n",
       "  background-color: #acdfb7;\n",
       "  color: #000000;\n",
       "}\n",
       "#T_71b30_row13_col17 {\n",
       "  background-color: #42a6cc;\n",
       "  color: #f1f1f1;\n",
       "}\n",
       "#T_71b30_row14_col7 {\n",
       "  background-color: #3496c3;\n",
       "  color: #f1f1f1;\n",
       "}\n",
       "#T_71b30_row14_col10 {\n",
       "  background-color: #41a5cb;\n",
       "  color: #f1f1f1;\n",
       "}\n",
       "#T_71b30_row14_col14 {\n",
       "  background-color: #084a8c;\n",
       "  color: #f1f1f1;\n",
       "}\n",
       "#T_71b30_row14_col17 {\n",
       "  background-color: #d3eecd;\n",
       "  color: #000000;\n",
       "}\n",
       "#T_71b30_row15_col17 {\n",
       "  background-color: #ddf2d7;\n",
       "  color: #000000;\n",
       "}\n",
       "#T_71b30_row16_col10 {\n",
       "  background-color: #49add0;\n",
       "  color: #f1f1f1;\n",
       "}\n",
       "#T_71b30_row16_col14 {\n",
       "  background-color: #4db2d3;\n",
       "  color: #f1f1f1;\n",
       "}\n",
       "#T_71b30_row16_col16 {\n",
       "  background-color: #91d4bd;\n",
       "  color: #000000;\n",
       "}\n",
       "#T_71b30_row17_col7 {\n",
       "  background-color: #3091c1;\n",
       "  color: #f1f1f1;\n",
       "}\n",
       "#T_71b30_row17_col10 {\n",
       "  background-color: #a7ddb5;\n",
       "  color: #000000;\n",
       "}\n",
       "#T_71b30_row17_col17 {\n",
       "  background-color: #95d6bb;\n",
       "  color: #000000;\n",
       "}\n",
       "#T_71b30_row18_col7 {\n",
       "  background-color: #79cbc5;\n",
       "  color: #000000;\n",
       "}\n",
       "#T_71b30_row18_col8, #T_71b30_row19_col8 {\n",
       "  background-color: #e5f5e0;\n",
       "  color: #000000;\n",
       "}\n",
       "#T_71b30_row18_col10 {\n",
       "  background-color: #e6f5e0;\n",
       "  color: #000000;\n",
       "}\n",
       "#T_71b30_row18_col17 {\n",
       "  background-color: #2d8fbf;\n",
       "  color: #f1f1f1;\n",
       "}\n",
       "#T_71b30_row19_col7 {\n",
       "  background-color: #b6e3bb;\n",
       "  color: #000000;\n",
       "}\n",
       "#T_71b30_row19_col10 {\n",
       "  background-color: #eef9e8;\n",
       "  color: #000000;\n",
       "}\n",
       "#T_71b30_row19_col16 {\n",
       "  background-color: #e7f6e2;\n",
       "  color: #000000;\n",
       "}\n",
       "#T_71b30_row19_col17 {\n",
       "  background-color: #e0f3db;\n",
       "  color: #000000;\n",
       "}\n",
       "</style>\n",
       "<table id=\"T_71b30\">\n",
       "  <thead>\n",
       "    <tr>\n",
       "      <th class=\"blank level0\" >&nbsp;</th>\n",
       "      <th id=\"T_71b30_level0_col0\" class=\"col_heading level0 col0\" >Invoice ID</th>\n",
       "      <th id=\"T_71b30_level0_col1\" class=\"col_heading level0 col1\" >Branch</th>\n",
       "      <th id=\"T_71b30_level0_col2\" class=\"col_heading level0 col2\" >CustomerID</th>\n",
       "      <th id=\"T_71b30_level0_col3\" class=\"col_heading level0 col3\" >City</th>\n",
       "      <th id=\"T_71b30_level0_col4\" class=\"col_heading level0 col4\" >Customer type</th>\n",
       "      <th id=\"T_71b30_level0_col5\" class=\"col_heading level0 col5\" >Gender</th>\n",
       "      <th id=\"T_71b30_level0_col6\" class=\"col_heading level0 col6\" >Product line</th>\n",
       "      <th id=\"T_71b30_level0_col7\" class=\"col_heading level0 col7\" >Unit price</th>\n",
       "      <th id=\"T_71b30_level0_col8\" class=\"col_heading level0 col8\" >Quantity</th>\n",
       "      <th id=\"T_71b30_level0_col9\" class=\"col_heading level0 col9\" >Tax 5%</th>\n",
       "      <th id=\"T_71b30_level0_col10\" class=\"col_heading level0 col10\" >Total</th>\n",
       "      <th id=\"T_71b30_level0_col11\" class=\"col_heading level0 col11\" >Date</th>\n",
       "      <th id=\"T_71b30_level0_col12\" class=\"col_heading level0 col12\" >Time</th>\n",
       "      <th id=\"T_71b30_level0_col13\" class=\"col_heading level0 col13\" >Payment</th>\n",
       "      <th id=\"T_71b30_level0_col14\" class=\"col_heading level0 col14\" >cogs</th>\n",
       "      <th id=\"T_71b30_level0_col15\" class=\"col_heading level0 col15\" >gross margin percentage</th>\n",
       "      <th id=\"T_71b30_level0_col16\" class=\"col_heading level0 col16\" >gross income</th>\n",
       "      <th id=\"T_71b30_level0_col17\" class=\"col_heading level0 col17\" >Rating</th>\n",
       "      <th id=\"T_71b30_level0_col18\" class=\"col_heading level0 col18\" >Longitude</th>\n",
       "      <th id=\"T_71b30_level0_col19\" class=\"col_heading level0 col19\" >Latitude</th>\n",
       "    </tr>\n",
       "  </thead>\n",
       "  <tbody>\n",
       "    <tr>\n",
       "      <th id=\"T_71b30_level0_row0\" class=\"row_heading level0 row0\" >0</th>\n",
       "      <td id=\"T_71b30_row0_col0\" class=\"data row0 col0\" >750-67-8428</td>\n",
       "      <td id=\"T_71b30_row0_col1\" class=\"data row0 col1\" >A</td>\n",
       "      <td id=\"T_71b30_row0_col2\" class=\"data row0 col2\" >C1888</td>\n",
       "      <td id=\"T_71b30_row0_col3\" class=\"data row0 col3\" >Yangon</td>\n",
       "      <td id=\"T_71b30_row0_col4\" class=\"data row0 col4\" >Member</td>\n",
       "      <td id=\"T_71b30_row0_col5\" class=\"data row0 col5\" >Female</td>\n",
       "      <td id=\"T_71b30_row0_col6\" class=\"data row0 col6\" >Health and beauty</td>\n",
       "      <td id=\"T_71b30_row0_col7\" class=\"data row0 col7\" >74.690000</td>\n",
       "      <td id=\"T_71b30_row0_col8\" class=\"data row0 col8\" >10</td>\n",
       "      <td id=\"T_71b30_row0_col9\" class=\"data row0 col9\" >37.345000</td>\n",
       "      <td id=\"T_71b30_row0_col10\" class=\"data row0 col10\" >746.900000</td>\n",
       "      <td id=\"T_71b30_row0_col11\" class=\"data row0 col11\" >21-02-2019</td>\n",
       "      <td id=\"T_71b30_row0_col12\" class=\"data row0 col12\" >13:08</td>\n",
       "      <td id=\"T_71b30_row0_col13\" class=\"data row0 col13\" >Ewallet</td>\n",
       "      <td id=\"T_71b30_row0_col14\" class=\"data row0 col14\" >711.333333</td>\n",
       "      <td id=\"T_71b30_row0_col15\" class=\"data row0 col15\" >4.761905</td>\n",
       "      <td id=\"T_71b30_row0_col16\" class=\"data row0 col16\" >35.566667</td>\n",
       "      <td id=\"T_71b30_row0_col17\" class=\"data row0 col17\" >9.100000</td>\n",
       "      <td id=\"T_71b30_row0_col18\" class=\"data row0 col18\" >96.173500</td>\n",
       "      <td id=\"T_71b30_row0_col19\" class=\"data row0 col19\" >16.840900</td>\n",
       "    </tr>\n",
       "    <tr>\n",
       "      <th id=\"T_71b30_level0_row1\" class=\"row_heading level0 row1\" >1</th>\n",
       "      <td id=\"T_71b30_row1_col0\" class=\"data row1 col0\" >226-31-3081</td>\n",
       "      <td id=\"T_71b30_row1_col1\" class=\"data row1 col1\" >C</td>\n",
       "      <td id=\"T_71b30_row1_col2\" class=\"data row1 col2\" >C1475</td>\n",
       "      <td id=\"T_71b30_row1_col3\" class=\"data row1 col3\" >Naypyitaw</td>\n",
       "      <td id=\"T_71b30_row1_col4\" class=\"data row1 col4\" >Normal</td>\n",
       "      <td id=\"T_71b30_row1_col5\" class=\"data row1 col5\" >Female</td>\n",
       "      <td id=\"T_71b30_row1_col6\" class=\"data row1 col6\" >Health and beauty</td>\n",
       "      <td id=\"T_71b30_row1_col7\" class=\"data row1 col7\" >15.280000</td>\n",
       "      <td id=\"T_71b30_row1_col8\" class=\"data row1 col8\" >6</td>\n",
       "      <td id=\"T_71b30_row1_col9\" class=\"data row1 col9\" >4.584000</td>\n",
       "      <td id=\"T_71b30_row1_col10\" class=\"data row1 col10\" >91.680000</td>\n",
       "      <td id=\"T_71b30_row1_col11\" class=\"data row1 col11\" >27-05-2019</td>\n",
       "      <td id=\"T_71b30_row1_col12\" class=\"data row1 col12\" >10:29</td>\n",
       "      <td id=\"T_71b30_row1_col13\" class=\"data row1 col13\" >Cash</td>\n",
       "      <td id=\"T_71b30_row1_col14\" class=\"data row1 col14\" >76.400000</td>\n",
       "      <td id=\"T_71b30_row1_col15\" class=\"data row1 col15\" >4.761905</td>\n",
       "      <td id=\"T_71b30_row1_col16\" class=\"data row1 col16\" >15.280000</td>\n",
       "      <td id=\"T_71b30_row1_col17\" class=\"data row1 col17\" >10.000000</td>\n",
       "      <td id=\"T_71b30_row1_col18\" class=\"data row1 col18\" >96.078500</td>\n",
       "      <td id=\"T_71b30_row1_col19\" class=\"data row1 col19\" >19.763300</td>\n",
       "    </tr>\n",
       "    <tr>\n",
       "      <th id=\"T_71b30_level0_row2\" class=\"row_heading level0 row2\" >2</th>\n",
       "      <td id=\"T_71b30_row2_col0\" class=\"data row2 col0\" >631-41-3108</td>\n",
       "      <td id=\"T_71b30_row2_col1\" class=\"data row2 col1\" >A</td>\n",
       "      <td id=\"T_71b30_row2_col2\" class=\"data row2 col2\" >C1746</td>\n",
       "      <td id=\"T_71b30_row2_col3\" class=\"data row2 col3\" >Yangon</td>\n",
       "      <td id=\"T_71b30_row2_col4\" class=\"data row2 col4\" >Normal</td>\n",
       "      <td id=\"T_71b30_row2_col5\" class=\"data row2 col5\" >Male</td>\n",
       "      <td id=\"T_71b30_row2_col6\" class=\"data row2 col6\" >Health and beauty</td>\n",
       "      <td id=\"T_71b30_row2_col7\" class=\"data row2 col7\" >46.330000</td>\n",
       "      <td id=\"T_71b30_row2_col8\" class=\"data row2 col8\" >7</td>\n",
       "      <td id=\"T_71b30_row2_col9\" class=\"data row2 col9\" >16.215500</td>\n",
       "      <td id=\"T_71b30_row2_col10\" class=\"data row2 col10\" >324.310000</td>\n",
       "      <td id=\"T_71b30_row2_col11\" class=\"data row2 col11\" >27-12-2019</td>\n",
       "      <td id=\"T_71b30_row2_col12\" class=\"data row2 col12\" >13:23</td>\n",
       "      <td id=\"T_71b30_row2_col13\" class=\"data row2 col13\" >Credit card</td>\n",
       "      <td id=\"T_71b30_row2_col14\" class=\"data row2 col14\" >324.310000</td>\n",
       "      <td id=\"T_71b30_row2_col15\" class=\"data row2 col15\" >4.761905</td>\n",
       "      <td id=\"T_71b30_row2_col16\" class=\"data row2 col16\" >0.000000</td>\n",
       "      <td id=\"T_71b30_row2_col17\" class=\"data row2 col17\" >7.400000</td>\n",
       "      <td id=\"T_71b30_row2_col18\" class=\"data row2 col18\" >96.173500</td>\n",
       "      <td id=\"T_71b30_row2_col19\" class=\"data row2 col19\" >16.840900</td>\n",
       "    </tr>\n",
       "    <tr>\n",
       "      <th id=\"T_71b30_level0_row3\" class=\"row_heading level0 row3\" >3</th>\n",
       "      <td id=\"T_71b30_row3_col0\" class=\"data row3 col0\" >123-19-1176</td>\n",
       "      <td id=\"T_71b30_row3_col1\" class=\"data row3 col1\" >A</td>\n",
       "      <td id=\"T_71b30_row3_col2\" class=\"data row3 col2\" >C1896</td>\n",
       "      <td id=\"T_71b30_row3_col3\" class=\"data row3 col3\" >Yangon</td>\n",
       "      <td id=\"T_71b30_row3_col4\" class=\"data row3 col4\" >Member</td>\n",
       "      <td id=\"T_71b30_row3_col5\" class=\"data row3 col5\" >Male</td>\n",
       "      <td id=\"T_71b30_row3_col6\" class=\"data row3 col6\" >Health and beauty</td>\n",
       "      <td id=\"T_71b30_row3_col7\" class=\"data row3 col7\" >58.220000</td>\n",
       "      <td id=\"T_71b30_row3_col8\" class=\"data row3 col8\" >11</td>\n",
       "      <td id=\"T_71b30_row3_col9\" class=\"data row3 col9\" >32.021000</td>\n",
       "      <td id=\"T_71b30_row3_col10\" class=\"data row3 col10\" >640.420000</td>\n",
       "      <td id=\"T_71b30_row3_col11\" class=\"data row3 col11\" >15-11-2019</td>\n",
       "      <td id=\"T_71b30_row3_col12\" class=\"data row3 col12\" >20:33</td>\n",
       "      <td id=\"T_71b30_row3_col13\" class=\"data row3 col13\" >Ewallet</td>\n",
       "      <td id=\"T_71b30_row3_col14\" class=\"data row3 col14\" >465.760000</td>\n",
       "      <td id=\"T_71b30_row3_col15\" class=\"data row3 col15\" >4.761905</td>\n",
       "      <td id=\"T_71b30_row3_col16\" class=\"data row3 col16\" >174.660000</td>\n",
       "      <td id=\"T_71b30_row3_col17\" class=\"data row3 col17\" >8.400000</td>\n",
       "      <td id=\"T_71b30_row3_col18\" class=\"data row3 col18\" >96.173500</td>\n",
       "      <td id=\"T_71b30_row3_col19\" class=\"data row3 col19\" >16.840900</td>\n",
       "    </tr>\n",
       "    <tr>\n",
       "      <th id=\"T_71b30_level0_row4\" class=\"row_heading level0 row4\" >4</th>\n",
       "      <td id=\"T_71b30_row4_col0\" class=\"data row4 col0\" >373-73-7910</td>\n",
       "      <td id=\"T_71b30_row4_col1\" class=\"data row4 col1\" >A</td>\n",
       "      <td id=\"T_71b30_row4_col2\" class=\"data row4 col2\" >C1790</td>\n",
       "      <td id=\"T_71b30_row4_col3\" class=\"data row4 col3\" >Yangon</td>\n",
       "      <td id=\"T_71b30_row4_col4\" class=\"data row4 col4\" >Normal</td>\n",
       "      <td id=\"T_71b30_row4_col5\" class=\"data row4 col5\" >Male</td>\n",
       "      <td id=\"T_71b30_row4_col6\" class=\"data row4 col6\" >Health and beauty</td>\n",
       "      <td id=\"T_71b30_row4_col7\" class=\"data row4 col7\" >86.310000</td>\n",
       "      <td id=\"T_71b30_row4_col8\" class=\"data row4 col8\" >7</td>\n",
       "      <td id=\"T_71b30_row4_col9\" class=\"data row4 col9\" >30.208500</td>\n",
       "      <td id=\"T_71b30_row4_col10\" class=\"data row4 col10\" >604.170000</td>\n",
       "      <td id=\"T_71b30_row4_col11\" class=\"data row4 col11\" >31-03-2019</td>\n",
       "      <td id=\"T_71b30_row4_col12\" class=\"data row4 col12\" >10:37</td>\n",
       "      <td id=\"T_71b30_row4_col13\" class=\"data row4 col13\" >Ewallet</td>\n",
       "      <td id=\"T_71b30_row4_col14\" class=\"data row4 col14\" >604.170000</td>\n",
       "      <td id=\"T_71b30_row4_col15\" class=\"data row4 col15\" >4.761905</td>\n",
       "      <td id=\"T_71b30_row4_col16\" class=\"data row4 col16\" >0.000000</td>\n",
       "      <td id=\"T_71b30_row4_col17\" class=\"data row4 col17\" >nan</td>\n",
       "      <td id=\"T_71b30_row4_col18\" class=\"data row4 col18\" >96.173500</td>\n",
       "      <td id=\"T_71b30_row4_col19\" class=\"data row4 col19\" >16.840900</td>\n",
       "    </tr>\n",
       "    <tr>\n",
       "      <th id=\"T_71b30_level0_row5\" class=\"row_heading level0 row5\" >5</th>\n",
       "      <td id=\"T_71b30_row5_col0\" class=\"data row5 col0\" >699-14-3026</td>\n",
       "      <td id=\"T_71b30_row5_col1\" class=\"data row5 col1\" >C</td>\n",
       "      <td id=\"T_71b30_row5_col2\" class=\"data row5 col2\" >C1423</td>\n",
       "      <td id=\"T_71b30_row5_col3\" class=\"data row5 col3\" >Naypyitaw</td>\n",
       "      <td id=\"T_71b30_row5_col4\" class=\"data row5 col4\" >Normal</td>\n",
       "      <td id=\"T_71b30_row5_col5\" class=\"data row5 col5\" >Male</td>\n",
       "      <td id=\"T_71b30_row5_col6\" class=\"data row5 col6\" >Health and beauty</td>\n",
       "      <td id=\"T_71b30_row5_col7\" class=\"data row5 col7\" >85.390000</td>\n",
       "      <td id=\"T_71b30_row5_col8\" class=\"data row5 col8\" >8</td>\n",
       "      <td id=\"T_71b30_row5_col9\" class=\"data row5 col9\" >34.156000</td>\n",
       "      <td id=\"T_71b30_row5_col10\" class=\"data row5 col10\" >683.120000</td>\n",
       "      <td id=\"T_71b30_row5_col11\" class=\"data row5 col11\" >06-01-2019</td>\n",
       "      <td id=\"T_71b30_row5_col12\" class=\"data row5 col12\" >18:30</td>\n",
       "      <td id=\"T_71b30_row5_col13\" class=\"data row5 col13\" >Ewallet</td>\n",
       "      <td id=\"T_71b30_row5_col14\" class=\"data row5 col14\" >597.730000</td>\n",
       "      <td id=\"T_71b30_row5_col15\" class=\"data row5 col15\" >4.761905</td>\n",
       "      <td id=\"T_71b30_row5_col16\" class=\"data row5 col16\" >85.390000</td>\n",
       "      <td id=\"T_71b30_row5_col17\" class=\"data row5 col17\" >nan</td>\n",
       "      <td id=\"T_71b30_row5_col18\" class=\"data row5 col18\" >96.078500</td>\n",
       "      <td id=\"T_71b30_row5_col19\" class=\"data row5 col19\" >19.763300</td>\n",
       "    </tr>\n",
       "    <tr>\n",
       "      <th id=\"T_71b30_level0_row6\" class=\"row_heading level0 row6\" >6</th>\n",
       "      <td id=\"T_71b30_row6_col0\" class=\"data row6 col0\" >355-53-5943</td>\n",
       "      <td id=\"T_71b30_row6_col1\" class=\"data row6 col1\" >A</td>\n",
       "      <td id=\"T_71b30_row6_col2\" class=\"data row6 col2\" >C1723</td>\n",
       "      <td id=\"T_71b30_row6_col3\" class=\"data row6 col3\" >Yangon</td>\n",
       "      <td id=\"T_71b30_row6_col4\" class=\"data row6 col4\" >Normal</td>\n",
       "      <td id=\"T_71b30_row6_col5\" class=\"data row6 col5\" >Female</td>\n",
       "      <td id=\"T_71b30_row6_col6\" class=\"data row6 col6\" >Health and beauty</td>\n",
       "      <td id=\"T_71b30_row6_col7\" class=\"data row6 col7\" >68.840000</td>\n",
       "      <td id=\"T_71b30_row6_col8\" class=\"data row6 col8\" >6</td>\n",
       "      <td id=\"T_71b30_row6_col9\" class=\"data row6 col9\" >20.652000</td>\n",
       "      <td id=\"T_71b30_row6_col10\" class=\"data row6 col10\" >413.040000</td>\n",
       "      <td id=\"T_71b30_row6_col11\" class=\"data row6 col11\" >15-12-2019</td>\n",
       "      <td id=\"T_71b30_row6_col12\" class=\"data row6 col12\" >14:36</td>\n",
       "      <td id=\"T_71b30_row6_col13\" class=\"data row6 col13\" >Ewallet</td>\n",
       "      <td id=\"T_71b30_row6_col14\" class=\"data row6 col14\" >413.040000</td>\n",
       "      <td id=\"T_71b30_row6_col15\" class=\"data row6 col15\" >4.761905</td>\n",
       "      <td id=\"T_71b30_row6_col16\" class=\"data row6 col16\" >0.000000</td>\n",
       "      <td id=\"T_71b30_row6_col17\" class=\"data row6 col17\" >nan</td>\n",
       "      <td id=\"T_71b30_row6_col18\" class=\"data row6 col18\" >96.173500</td>\n",
       "      <td id=\"T_71b30_row6_col19\" class=\"data row6 col19\" >16.840900</td>\n",
       "    </tr>\n",
       "    <tr>\n",
       "      <th id=\"T_71b30_level0_row7\" class=\"row_heading level0 row7\" >7</th>\n",
       "      <td id=\"T_71b30_row7_col0\" class=\"data row7 col0\" >315-22-5665</td>\n",
       "      <td id=\"T_71b30_row7_col1\" class=\"data row7 col1\" >C</td>\n",
       "      <td id=\"T_71b30_row7_col2\" class=\"data row7 col2\" >C1471</td>\n",
       "      <td id=\"T_71b30_row7_col3\" class=\"data row7 col3\" >Naypyitaw</td>\n",
       "      <td id=\"T_71b30_row7_col4\" class=\"data row7 col4\" >nan</td>\n",
       "      <td id=\"T_71b30_row7_col5\" class=\"data row7 col5\" >Female</td>\n",
       "      <td id=\"T_71b30_row7_col6\" class=\"data row7 col6\" >Health and beauty</td>\n",
       "      <td id=\"T_71b30_row7_col7\" class=\"data row7 col7\" >73.560000</td>\n",
       "      <td id=\"T_71b30_row7_col8\" class=\"data row7 col8\" >12</td>\n",
       "      <td id=\"T_71b30_row7_col9\" class=\"data row7 col9\" >44.136000</td>\n",
       "      <td id=\"T_71b30_row7_col10\" class=\"data row7 col10\" >882.720000</td>\n",
       "      <td id=\"T_71b30_row7_col11\" class=\"data row7 col11\" >14-06-2019</td>\n",
       "      <td id=\"T_71b30_row7_col12\" class=\"data row7 col12\" >11:38</td>\n",
       "      <td id=\"T_71b30_row7_col13\" class=\"data row7 col13\" >Ewallet</td>\n",
       "      <td id=\"T_71b30_row7_col14\" class=\"data row7 col14\" >735.600000</td>\n",
       "      <td id=\"T_71b30_row7_col15\" class=\"data row7 col15\" >4.761905</td>\n",
       "      <td id=\"T_71b30_row7_col16\" class=\"data row7 col16\" >147.120000</td>\n",
       "      <td id=\"T_71b30_row7_col17\" class=\"data row7 col17\" >nan</td>\n",
       "      <td id=\"T_71b30_row7_col18\" class=\"data row7 col18\" >96.078500</td>\n",
       "      <td id=\"T_71b30_row7_col19\" class=\"data row7 col19\" >19.763300</td>\n",
       "    </tr>\n",
       "    <tr>\n",
       "      <th id=\"T_71b30_level0_row8\" class=\"row_heading level0 row8\" >8</th>\n",
       "      <td id=\"T_71b30_row8_col0\" class=\"data row8 col0\" >665-32-9167</td>\n",
       "      <td id=\"T_71b30_row8_col1\" class=\"data row8 col1\" >A</td>\n",
       "      <td id=\"T_71b30_row8_col2\" class=\"data row8 col2\" >C1707</td>\n",
       "      <td id=\"T_71b30_row8_col3\" class=\"data row8 col3\" >Yangon</td>\n",
       "      <td id=\"T_71b30_row8_col4\" class=\"data row8 col4\" >nan</td>\n",
       "      <td id=\"T_71b30_row8_col5\" class=\"data row8 col5\" >Female</td>\n",
       "      <td id=\"T_71b30_row8_col6\" class=\"data row8 col6\" >Health and beauty</td>\n",
       "      <td id=\"T_71b30_row8_col7\" class=\"data row8 col7\" >36.260000</td>\n",
       "      <td id=\"T_71b30_row8_col8\" class=\"data row8 col8\" >2</td>\n",
       "      <td id=\"T_71b30_row8_col9\" class=\"data row8 col9\" >3.626000</td>\n",
       "      <td id=\"T_71b30_row8_col10\" class=\"data row8 col10\" >72.520000</td>\n",
       "      <td id=\"T_71b30_row8_col11\" class=\"data row8 col11\" >25-11-2019</td>\n",
       "      <td id=\"T_71b30_row8_col12\" class=\"data row8 col12\" >17:15</td>\n",
       "      <td id=\"T_71b30_row8_col13\" class=\"data row8 col13\" >Credit card</td>\n",
       "      <td id=\"T_71b30_row8_col14\" class=\"data row8 col14\" >72.520000</td>\n",
       "      <td id=\"T_71b30_row8_col15\" class=\"data row8 col15\" >4.761905</td>\n",
       "      <td id=\"T_71b30_row8_col16\" class=\"data row8 col16\" >0.000000</td>\n",
       "      <td id=\"T_71b30_row8_col17\" class=\"data row8 col17\" >nan</td>\n",
       "      <td id=\"T_71b30_row8_col18\" class=\"data row8 col18\" >96.173500</td>\n",
       "      <td id=\"T_71b30_row8_col19\" class=\"data row8 col19\" >16.840900</td>\n",
       "    </tr>\n",
       "    <tr>\n",
       "      <th id=\"T_71b30_level0_row9\" class=\"row_heading level0 row9\" >9</th>\n",
       "      <td id=\"T_71b30_row9_col0\" class=\"data row9 col0\" >692-92-5582</td>\n",
       "      <td id=\"T_71b30_row9_col1\" class=\"data row9 col1\" >B</td>\n",
       "      <td id=\"T_71b30_row9_col2\" class=\"data row9 col2\" >C1277</td>\n",
       "      <td id=\"T_71b30_row9_col3\" class=\"data row9 col3\" >Mandalay</td>\n",
       "      <td id=\"T_71b30_row9_col4\" class=\"data row9 col4\" >nan</td>\n",
       "      <td id=\"T_71b30_row9_col5\" class=\"data row9 col5\" >Female</td>\n",
       "      <td id=\"T_71b30_row9_col6\" class=\"data row9 col6\" >Health and beauty</td>\n",
       "      <td id=\"T_71b30_row9_col7\" class=\"data row9 col7\" >54.840000</td>\n",
       "      <td id=\"T_71b30_row9_col8\" class=\"data row9 col8\" >4</td>\n",
       "      <td id=\"T_71b30_row9_col9\" class=\"data row9 col9\" >10.968000</td>\n",
       "      <td id=\"T_71b30_row9_col10\" class=\"data row9 col10\" >219.360000</td>\n",
       "      <td id=\"T_71b30_row9_col11\" class=\"data row9 col11\" >10-04-2019</td>\n",
       "      <td id=\"T_71b30_row9_col12\" class=\"data row9 col12\" >13:27</td>\n",
       "      <td id=\"T_71b30_row9_col13\" class=\"data row9 col13\" >Credit card</td>\n",
       "      <td id=\"T_71b30_row9_col14\" class=\"data row9 col14\" >164.520000</td>\n",
       "      <td id=\"T_71b30_row9_col15\" class=\"data row9 col15\" >4.761905</td>\n",
       "      <td id=\"T_71b30_row9_col16\" class=\"data row9 col16\" >54.840000</td>\n",
       "      <td id=\"T_71b30_row9_col17\" class=\"data row9 col17\" >nan</td>\n",
       "      <td id=\"T_71b30_row9_col18\" class=\"data row9 col18\" >96.089100</td>\n",
       "      <td id=\"T_71b30_row9_col19\" class=\"data row9 col19\" >21.958800</td>\n",
       "    </tr>\n",
       "    <tr>\n",
       "      <th id=\"T_71b30_level0_row10\" class=\"row_heading level0 row10\" >10</th>\n",
       "      <td id=\"T_71b30_row10_col0\" class=\"data row10 col0\" >351-62-0822</td>\n",
       "      <td id=\"T_71b30_row10_col1\" class=\"data row10 col1\" >B</td>\n",
       "      <td id=\"T_71b30_row10_col2\" class=\"data row10 col2\" >C1300</td>\n",
       "      <td id=\"T_71b30_row10_col3\" class=\"data row10 col3\" >Mandalay</td>\n",
       "      <td id=\"T_71b30_row10_col4\" class=\"data row10 col4\" >nan</td>\n",
       "      <td id=\"T_71b30_row10_col5\" class=\"data row10 col5\" >Female</td>\n",
       "      <td id=\"T_71b30_row10_col6\" class=\"data row10 col6\" >Health and beauty</td>\n",
       "      <td id=\"T_71b30_row10_col7\" class=\"data row10 col7\" >14.480000</td>\n",
       "      <td id=\"T_71b30_row10_col8\" class=\"data row10 col8\" >6</td>\n",
       "      <td id=\"T_71b30_row10_col9\" class=\"data row10 col9\" >4.344000</td>\n",
       "      <td id=\"T_71b30_row10_col10\" class=\"data row10 col10\" >86.880000</td>\n",
       "      <td id=\"T_71b30_row10_col11\" class=\"data row10 col11\" >23-07-2019</td>\n",
       "      <td id=\"T_71b30_row10_col12\" class=\"data row10 col12\" >18:07</td>\n",
       "      <td id=\"T_71b30_row10_col13\" class=\"data row10 col13\" >Ewallet</td>\n",
       "      <td id=\"T_71b30_row10_col14\" class=\"data row10 col14\" >57.920000</td>\n",
       "      <td id=\"T_71b30_row10_col15\" class=\"data row10 col15\" >4.761905</td>\n",
       "      <td id=\"T_71b30_row10_col16\" class=\"data row10 col16\" >28.960000</td>\n",
       "      <td id=\"T_71b30_row10_col17\" class=\"data row10 col17\" >nan</td>\n",
       "      <td id=\"T_71b30_row10_col18\" class=\"data row10 col18\" >96.089100</td>\n",
       "      <td id=\"T_71b30_row10_col19\" class=\"data row10 col19\" >21.958800</td>\n",
       "    </tr>\n",
       "    <tr>\n",
       "      <th id=\"T_71b30_level0_row11\" class=\"row_heading level0 row11\" >11</th>\n",
       "      <td id=\"T_71b30_row11_col0\" class=\"data row11 col0\" >529-56-3974</td>\n",
       "      <td id=\"T_71b30_row11_col1\" class=\"data row11 col1\" >B</td>\n",
       "      <td id=\"T_71b30_row11_col2\" class=\"data row11 col2\" >C1264</td>\n",
       "      <td id=\"T_71b30_row11_col3\" class=\"data row11 col3\" >Mandalay</td>\n",
       "      <td id=\"T_71b30_row11_col4\" class=\"data row11 col4\" >nan</td>\n",
       "      <td id=\"T_71b30_row11_col5\" class=\"data row11 col5\" >Male</td>\n",
       "      <td id=\"T_71b30_row11_col6\" class=\"data row11 col6\" >Health and beauty</td>\n",
       "      <td id=\"T_71b30_row11_col7\" class=\"data row11 col7\" >25.510000</td>\n",
       "      <td id=\"T_71b30_row11_col8\" class=\"data row11 col8\" >6</td>\n",
       "      <td id=\"T_71b30_row11_col9\" class=\"data row11 col9\" >nan</td>\n",
       "      <td id=\"T_71b30_row11_col10\" class=\"data row11 col10\" >153.060000</td>\n",
       "      <td id=\"T_71b30_row11_col11\" class=\"data row11 col11\" >26-08-2019</td>\n",
       "      <td id=\"T_71b30_row11_col12\" class=\"data row11 col12\" >17:03</td>\n",
       "      <td id=\"T_71b30_row11_col13\" class=\"data row11 col13\" >Cash</td>\n",
       "      <td id=\"T_71b30_row11_col14\" class=\"data row11 col14\" >102.040000</td>\n",
       "      <td id=\"T_71b30_row11_col15\" class=\"data row11 col15\" >4.761905</td>\n",
       "      <td id=\"T_71b30_row11_col16\" class=\"data row11 col16\" >51.020000</td>\n",
       "      <td id=\"T_71b30_row11_col17\" class=\"data row11 col17\" >nan</td>\n",
       "      <td id=\"T_71b30_row11_col18\" class=\"data row11 col18\" >96.089100</td>\n",
       "      <td id=\"T_71b30_row11_col19\" class=\"data row11 col19\" >21.958800</td>\n",
       "    </tr>\n",
       "    <tr>\n",
       "      <th id=\"T_71b30_level0_row12\" class=\"row_heading level0 row12\" >12</th>\n",
       "      <td id=\"T_71b30_row12_col0\" class=\"data row12 col0\" >365-64-0515</td>\n",
       "      <td id=\"T_71b30_row12_col1\" class=\"data row12 col1\" >A</td>\n",
       "      <td id=\"T_71b30_row12_col2\" class=\"data row12 col2\" >C1710</td>\n",
       "      <td id=\"T_71b30_row12_col3\" class=\"data row12 col3\" >Yangon</td>\n",
       "      <td id=\"T_71b30_row12_col4\" class=\"data row12 col4\" >Normal</td>\n",
       "      <td id=\"T_71b30_row12_col5\" class=\"data row12 col5\" >Female</td>\n",
       "      <td id=\"T_71b30_row12_col6\" class=\"data row12 col6\" >Electronic accessories</td>\n",
       "      <td id=\"T_71b30_row12_col7\" class=\"data row12 col7\" >46.950000</td>\n",
       "      <td id=\"T_71b30_row12_col8\" class=\"data row12 col8\" >5</td>\n",
       "      <td id=\"T_71b30_row12_col9\" class=\"data row12 col9\" >nan</td>\n",
       "      <td id=\"T_71b30_row12_col10\" class=\"data row12 col10\" >234.750000</td>\n",
       "      <td id=\"T_71b30_row12_col11\" class=\"data row12 col11\" >25-08-2019</td>\n",
       "      <td id=\"T_71b30_row12_col12\" class=\"data row12 col12\" >10:25</td>\n",
       "      <td id=\"T_71b30_row12_col13\" class=\"data row12 col13\" >Ewallet</td>\n",
       "      <td id=\"T_71b30_row12_col14\" class=\"data row12 col14\" >234.750000</td>\n",
       "      <td id=\"T_71b30_row12_col15\" class=\"data row12 col15\" >4.761905</td>\n",
       "      <td id=\"T_71b30_row12_col16\" class=\"data row12 col16\" >0.000000</td>\n",
       "      <td id=\"T_71b30_row12_col17\" class=\"data row12 col17\" >nan</td>\n",
       "      <td id=\"T_71b30_row12_col18\" class=\"data row12 col18\" >96.173500</td>\n",
       "      <td id=\"T_71b30_row12_col19\" class=\"data row12 col19\" >16.840900</td>\n",
       "    </tr>\n",
       "    <tr>\n",
       "      <th id=\"T_71b30_level0_row13\" class=\"row_heading level0 row13\" >13</th>\n",
       "      <td id=\"T_71b30_row13_col0\" class=\"data row13 col0\" >252-56-2699</td>\n",
       "      <td id=\"T_71b30_row13_col1\" class=\"data row13 col1\" >A</td>\n",
       "      <td id=\"T_71b30_row13_col2\" class=\"data row13 col2\" >C1726</td>\n",
       "      <td id=\"T_71b30_row13_col3\" class=\"data row13 col3\" >Yangon</td>\n",
       "      <td id=\"T_71b30_row13_col4\" class=\"data row13 col4\" >Normal</td>\n",
       "      <td id=\"T_71b30_row13_col5\" class=\"data row13 col5\" >Male</td>\n",
       "      <td id=\"T_71b30_row13_col6\" class=\"data row13 col6\" >Food and beverages</td>\n",
       "      <td id=\"T_71b30_row13_col7\" class=\"data row13 col7\" >43.190000</td>\n",
       "      <td id=\"T_71b30_row13_col8\" class=\"data row13 col8\" >10</td>\n",
       "      <td id=\"T_71b30_row13_col9\" class=\"data row13 col9\" >nan</td>\n",
       "      <td id=\"T_71b30_row13_col10\" class=\"data row13 col10\" >431.900000</td>\n",
       "      <td id=\"T_71b30_row13_col11\" class=\"data row13 col11\" >02-10-2019</td>\n",
       "      <td id=\"T_71b30_row13_col12\" class=\"data row13 col12\" >16:48</td>\n",
       "      <td id=\"T_71b30_row13_col13\" class=\"data row13 col13\" >Ewallet</td>\n",
       "      <td id=\"T_71b30_row13_col14\" class=\"data row13 col14\" >431.900000</td>\n",
       "      <td id=\"T_71b30_row13_col15\" class=\"data row13 col15\" >4.761905</td>\n",
       "      <td id=\"T_71b30_row13_col16\" class=\"data row13 col16\" >0.000000</td>\n",
       "      <td id=\"T_71b30_row13_col17\" class=\"data row13 col17\" >8.200000</td>\n",
       "      <td id=\"T_71b30_row13_col18\" class=\"data row13 col18\" >96.173500</td>\n",
       "      <td id=\"T_71b30_row13_col19\" class=\"data row13 col19\" >16.840900</td>\n",
       "    </tr>\n",
       "    <tr>\n",
       "      <th id=\"T_71b30_level0_row14\" class=\"row_heading level0 row14\" >14</th>\n",
       "      <td id=\"T_71b30_row14_col0\" class=\"data row14 col0\" >829-34-3910</td>\n",
       "      <td id=\"T_71b30_row14_col1\" class=\"data row14 col1\" >A</td>\n",
       "      <td id=\"T_71b30_row14_col2\" class=\"data row14 col2\" >C1702</td>\n",
       "      <td id=\"T_71b30_row14_col3\" class=\"data row14 col3\" >Yangon</td>\n",
       "      <td id=\"T_71b30_row14_col4\" class=\"data row14 col4\" >Normal</td>\n",
       "      <td id=\"T_71b30_row14_col5\" class=\"data row14 col5\" >Female</td>\n",
       "      <td id=\"T_71b30_row14_col6\" class=\"data row14 col6\" >Health and beauty</td>\n",
       "      <td id=\"T_71b30_row14_col7\" class=\"data row14 col7\" >71.380000</td>\n",
       "      <td id=\"T_71b30_row14_col8\" class=\"data row14 col8\" >10</td>\n",
       "      <td id=\"T_71b30_row14_col9\" class=\"data row14 col9\" >nan</td>\n",
       "      <td id=\"T_71b30_row14_col10\" class=\"data row14 col10\" >713.800000</td>\n",
       "      <td id=\"T_71b30_row14_col11\" class=\"data row14 col11\" >23-11-2019</td>\n",
       "      <td id=\"T_71b30_row14_col12\" class=\"data row14 col12\" >19:21</td>\n",
       "      <td id=\"T_71b30_row14_col13\" class=\"data row14 col13\" >Cash</td>\n",
       "      <td id=\"T_71b30_row14_col14\" class=\"data row14 col14\" >713.800000</td>\n",
       "      <td id=\"T_71b30_row14_col15\" class=\"data row14 col15\" >4.761905</td>\n",
       "      <td id=\"T_71b30_row14_col16\" class=\"data row14 col16\" >0.000000</td>\n",
       "      <td id=\"T_71b30_row14_col17\" class=\"data row14 col17\" >5.700000</td>\n",
       "      <td id=\"T_71b30_row14_col18\" class=\"data row14 col18\" >96.173500</td>\n",
       "      <td id=\"T_71b30_row14_col19\" class=\"data row14 col19\" >16.840900</td>\n",
       "    </tr>\n",
       "    <tr>\n",
       "      <th id=\"T_71b30_level0_row15\" class=\"row_heading level0 row15\" >15</th>\n",
       "      <td id=\"T_71b30_row15_col0\" class=\"data row15 col0\" >299-46-1805</td>\n",
       "      <td id=\"T_71b30_row15_col1\" class=\"data row15 col1\" >B</td>\n",
       "      <td id=\"T_71b30_row15_col2\" class=\"data row15 col2\" >C1280</td>\n",
       "      <td id=\"T_71b30_row15_col3\" class=\"data row15 col3\" >Mandalay</td>\n",
       "      <td id=\"T_71b30_row15_col4\" class=\"data row15 col4\" >Member</td>\n",
       "      <td id=\"T_71b30_row15_col5\" class=\"data row15 col5\" >Female</td>\n",
       "      <td id=\"T_71b30_row15_col6\" class=\"data row15 col6\" >Sports and travel</td>\n",
       "      <td id=\"T_71b30_row15_col7\" class=\"data row15 col7\" >93.720000</td>\n",
       "      <td id=\"T_71b30_row15_col8\" class=\"data row15 col8\" >11</td>\n",
       "      <td id=\"T_71b30_row15_col9\" class=\"data row15 col9\" >nan</td>\n",
       "      <td id=\"T_71b30_row15_col10\" class=\"data row15 col10\" >1030.920000</td>\n",
       "      <td id=\"T_71b30_row15_col11\" class=\"data row15 col11\" >15-07-2019</td>\n",
       "      <td id=\"T_71b30_row15_col12\" class=\"data row15 col12\" >16:19</td>\n",
       "      <td id=\"T_71b30_row15_col13\" class=\"data row15 col13\" >Cash</td>\n",
       "      <td id=\"T_71b30_row15_col14\" class=\"data row15 col14\" >562.320000</td>\n",
       "      <td id=\"T_71b30_row15_col15\" class=\"data row15 col15\" >4.761905</td>\n",
       "      <td id=\"T_71b30_row15_col16\" class=\"data row15 col16\" >468.600000</td>\n",
       "      <td id=\"T_71b30_row15_col17\" class=\"data row15 col17\" >5.400000</td>\n",
       "      <td id=\"T_71b30_row15_col18\" class=\"data row15 col18\" >96.089100</td>\n",
       "      <td id=\"T_71b30_row15_col19\" class=\"data row15 col19\" >21.958800</td>\n",
       "    </tr>\n",
       "    <tr>\n",
       "      <th id=\"T_71b30_level0_row16\" class=\"row_heading level0 row16\" >16</th>\n",
       "      <td id=\"T_71b30_row16_col0\" class=\"data row16 col0\" >656-95-9349</td>\n",
       "      <td id=\"T_71b30_row16_col1\" class=\"data row16 col1\" >A</td>\n",
       "      <td id=\"T_71b30_row16_col2\" class=\"data row16 col2\" >C1799</td>\n",
       "      <td id=\"T_71b30_row16_col3\" class=\"data row16 col3\" >Yangon</td>\n",
       "      <td id=\"T_71b30_row16_col4\" class=\"data row16 col4\" >Member</td>\n",
       "      <td id=\"T_71b30_row16_col5\" class=\"data row16 col5\" >Female</td>\n",
       "      <td id=\"T_71b30_row16_col6\" class=\"data row16 col6\" >Health and beauty</td>\n",
       "      <td id=\"T_71b30_row16_col7\" class=\"data row16 col7\" >68.930000</td>\n",
       "      <td id=\"T_71b30_row16_col8\" class=\"data row16 col8\" >10</td>\n",
       "      <td id=\"T_71b30_row16_col9\" class=\"data row16 col9\" >nan</td>\n",
       "      <td id=\"T_71b30_row16_col10\" class=\"data row16 col10\" >689.300000</td>\n",
       "      <td id=\"T_71b30_row16_col11\" class=\"data row16 col11\" >02-12-2019</td>\n",
       "      <td id=\"T_71b30_row16_col12\" class=\"data row16 col12\" >11:03</td>\n",
       "      <td id=\"T_71b30_row16_col13\" class=\"data row16 col13\" >Credit card</td>\n",
       "      <td id=\"T_71b30_row16_col14\" class=\"data row16 col14\" >482.510000</td>\n",
       "      <td id=\"T_71b30_row16_col15\" class=\"data row16 col15\" >4.761905</td>\n",
       "      <td id=\"T_71b30_row16_col16\" class=\"data row16 col16\" >206.790000</td>\n",
       "      <td id=\"T_71b30_row16_col17\" class=\"data row16 col17\" >4.600000</td>\n",
       "      <td id=\"T_71b30_row16_col18\" class=\"data row16 col18\" >96.173500</td>\n",
       "      <td id=\"T_71b30_row16_col19\" class=\"data row16 col19\" >16.840900</td>\n",
       "    </tr>\n",
       "    <tr>\n",
       "      <th id=\"T_71b30_level0_row17\" class=\"row_heading level0 row17\" >17</th>\n",
       "      <td id=\"T_71b30_row17_col0\" class=\"data row17 col0\" >765-26-6951</td>\n",
       "      <td id=\"T_71b30_row17_col1\" class=\"data row17 col1\" >A</td>\n",
       "      <td id=\"T_71b30_row17_col2\" class=\"data row17 col2\" >C1669</td>\n",
       "      <td id=\"T_71b30_row17_col3\" class=\"data row17 col3\" >Yangon</td>\n",
       "      <td id=\"T_71b30_row17_col4\" class=\"data row17 col4\" >Normal</td>\n",
       "      <td id=\"T_71b30_row17_col5\" class=\"data row17 col5\" >Male</td>\n",
       "      <td id=\"T_71b30_row17_col6\" class=\"data row17 col6\" >Sports and travel</td>\n",
       "      <td id=\"T_71b30_row17_col7\" class=\"data row17 col7\" >72.610000</td>\n",
       "      <td id=\"T_71b30_row17_col8\" class=\"data row17 col8\" >6</td>\n",
       "      <td id=\"T_71b30_row17_col9\" class=\"data row17 col9\" >nan</td>\n",
       "      <td id=\"T_71b30_row17_col10\" class=\"data row17 col10\" >435.660000</td>\n",
       "      <td id=\"T_71b30_row17_col11\" class=\"data row17 col11\" >09-03-2019</td>\n",
       "      <td id=\"T_71b30_row17_col12\" class=\"data row17 col12\" >10:39</td>\n",
       "      <td id=\"T_71b30_row17_col13\" class=\"data row17 col13\" >Credit card</td>\n",
       "      <td id=\"T_71b30_row17_col14\" class=\"data row17 col14\" >435.660000</td>\n",
       "      <td id=\"T_71b30_row17_col15\" class=\"data row17 col15\" >4.761905</td>\n",
       "      <td id=\"T_71b30_row17_col16\" class=\"data row17 col16\" >0.000000</td>\n",
       "      <td id=\"T_71b30_row17_col17\" class=\"data row17 col17\" >6.900000</td>\n",
       "      <td id=\"T_71b30_row17_col18\" class=\"data row17 col18\" >96.173500</td>\n",
       "      <td id=\"T_71b30_row17_col19\" class=\"data row17 col19\" >16.840900</td>\n",
       "    </tr>\n",
       "    <tr>\n",
       "      <th id=\"T_71b30_level0_row18\" class=\"row_heading level0 row18\" >18</th>\n",
       "      <td id=\"T_71b30_row18_col0\" class=\"data row18 col0\" >329-62-1586</td>\n",
       "      <td id=\"T_71b30_row18_col1\" class=\"data row18 col1\" >A</td>\n",
       "      <td id=\"T_71b30_row18_col2\" class=\"data row18 col2\" >C1645</td>\n",
       "      <td id=\"T_71b30_row18_col3\" class=\"data row18 col3\" >Yangon</td>\n",
       "      <td id=\"T_71b30_row18_col4\" class=\"data row18 col4\" >Normal</td>\n",
       "      <td id=\"T_71b30_row18_col5\" class=\"data row18 col5\" >Male</td>\n",
       "      <td id=\"T_71b30_row18_col6\" class=\"data row18 col6\" >Food and beverages</td>\n",
       "      <td id=\"T_71b30_row18_col7\" class=\"data row18 col7\" >54.670000</td>\n",
       "      <td id=\"T_71b30_row18_col8\" class=\"data row18 col8\" >3</td>\n",
       "      <td id=\"T_71b30_row18_col9\" class=\"data row18 col9\" >nan</td>\n",
       "      <td id=\"T_71b30_row18_col10\" class=\"data row18 col10\" >164.010000</td>\n",
       "      <td id=\"T_71b30_row18_col11\" class=\"data row18 col11\" >09-07-2019</td>\n",
       "      <td id=\"T_71b30_row18_col12\" class=\"data row18 col12\" >18:00</td>\n",
       "      <td id=\"T_71b30_row18_col13\" class=\"data row18 col13\" >Credit card</td>\n",
       "      <td id=\"T_71b30_row18_col14\" class=\"data row18 col14\" >164.010000</td>\n",
       "      <td id=\"T_71b30_row18_col15\" class=\"data row18 col15\" >4.761905</td>\n",
       "      <td id=\"T_71b30_row18_col16\" class=\"data row18 col16\" >0.000000</td>\n",
       "      <td id=\"T_71b30_row18_col17\" class=\"data row18 col17\" >8.600000</td>\n",
       "      <td id=\"T_71b30_row18_col18\" class=\"data row18 col18\" >96.173500</td>\n",
       "      <td id=\"T_71b30_row18_col19\" class=\"data row18 col19\" >16.840900</td>\n",
       "    </tr>\n",
       "    <tr>\n",
       "      <th id=\"T_71b30_level0_row19\" class=\"row_heading level0 row19\" >19</th>\n",
       "      <td id=\"T_71b30_row19_col0\" class=\"data row19 col0\" >319-50-3348</td>\n",
       "      <td id=\"T_71b30_row19_col1\" class=\"data row19 col1\" >B</td>\n",
       "      <td id=\"T_71b30_row19_col2\" class=\"data row19 col2\" >C1207</td>\n",
       "      <td id=\"T_71b30_row19_col3\" class=\"data row19 col3\" >Mandalay</td>\n",
       "      <td id=\"T_71b30_row19_col4\" class=\"data row19 col4\" >Normal</td>\n",
       "      <td id=\"T_71b30_row19_col5\" class=\"data row19 col5\" >Female</td>\n",
       "      <td id=\"T_71b30_row19_col6\" class=\"data row19 col6\" >Home and lifestyle</td>\n",
       "      <td id=\"T_71b30_row19_col7\" class=\"data row19 col7\" >40.300000</td>\n",
       "      <td id=\"T_71b30_row19_col8\" class=\"data row19 col8\" >3</td>\n",
       "      <td id=\"T_71b30_row19_col9\" class=\"data row19 col9\" >nan</td>\n",
       "      <td id=\"T_71b30_row19_col10\" class=\"data row19 col10\" >120.900000</td>\n",
       "      <td id=\"T_71b30_row19_col11\" class=\"data row19 col11\" >08-05-2019</td>\n",
       "      <td id=\"T_71b30_row19_col12\" class=\"data row19 col12\" >15:30</td>\n",
       "      <td id=\"T_71b30_row19_col13\" class=\"data row19 col13\" >Ewallet</td>\n",
       "      <td id=\"T_71b30_row19_col14\" class=\"data row19 col14\" >80.600000</td>\n",
       "      <td id=\"T_71b30_row19_col15\" class=\"data row19 col15\" >4.761905</td>\n",
       "      <td id=\"T_71b30_row19_col16\" class=\"data row19 col16\" >40.300000</td>\n",
       "      <td id=\"T_71b30_row19_col17\" class=\"data row19 col17\" >5.280000</td>\n",
       "      <td id=\"T_71b30_row19_col18\" class=\"data row19 col18\" >96.089100</td>\n",
       "      <td id=\"T_71b30_row19_col19\" class=\"data row19 col19\" >21.958800</td>\n",
       "    </tr>\n",
       "  </tbody>\n",
       "</table>\n"
      ],
      "text/plain": [
       "<pandas.io.formats.style.Styler at 0x16db4cd10>"
      ]
     },
     "execution_count": 11,
     "metadata": {},
     "output_type": "execute_result"
    }
   ],
   "source": [
    "sales_data = pd.read_csv(\"supermarket_sales.csv\")\n",
    "\n",
    "sales_data.head(20).style.background_gradient(cmap='GnBu')"
   ]
  },
  {
   "cell_type": "markdown",
   "id": "bad745d3",
   "metadata": {
    "id": "bad745d3"
   },
   "source": [
    "##### Checking shape of data "
   ]
  },
  {
   "cell_type": "code",
   "execution_count": 12,
   "id": "5fcd13be",
   "metadata": {
    "id": "5fcd13be",
    "outputId": "67a2f188-dd3f-4141-aa60-28c06e90e0c6"
   },
   "outputs": [
    {
     "name": "stdout",
     "output_type": "stream",
     "text": [
      "The sales data has 1000 rows and 20 columns\n"
     ]
    }
   ],
   "source": [
    "shape=sales_data.shape\n",
    "print(f'The sales data has {shape[0]} rows and {shape[1]} columns')"
   ]
  },
  {
   "cell_type": "markdown",
   "id": "004b4cbe",
   "metadata": {
    "id": "004b4cbe"
   },
   "source": [
    "##### 5 Number summary"
   ]
  },
  {
   "cell_type": "code",
   "execution_count": 13,
   "id": "08fa4a87",
   "metadata": {},
   "outputs": [
    {
     "data": {
      "text/plain": [
       "Index(['Invoice ID', 'Branch', 'CustomerID', 'City', 'Customer type', 'Gender',\n",
       "       'Product line', 'Unit price', 'Quantity', 'Tax 5%', 'Total', 'Date',\n",
       "       'Time', 'Payment', 'cogs', 'gross margin percentage', 'gross income',\n",
       "       'Rating', 'Longitude', 'Latitude'],\n",
       "      dtype='object')"
      ]
     },
     "execution_count": 13,
     "metadata": {},
     "output_type": "execute_result"
    }
   ],
   "source": [
    "sales_data.columns"
   ]
  },
  {
   "cell_type": "code",
   "execution_count": 14,
   "id": "c4673da8",
   "metadata": {},
   "outputs": [
    {
     "data": {
      "text/html": [
       "<div>\n",
       "<style scoped>\n",
       "    .dataframe tbody tr th:only-of-type {\n",
       "        vertical-align: middle;\n",
       "    }\n",
       "\n",
       "    .dataframe tbody tr th {\n",
       "        vertical-align: top;\n",
       "    }\n",
       "\n",
       "    .dataframe thead th {\n",
       "        text-align: right;\n",
       "    }\n",
       "</style>\n",
       "<table border=\"1\" class=\"dataframe\">\n",
       "  <thead>\n",
       "    <tr style=\"text-align: right;\">\n",
       "      <th></th>\n",
       "      <th>Unit price</th>\n",
       "      <th>Quantity</th>\n",
       "      <th>Total</th>\n",
       "    </tr>\n",
       "  </thead>\n",
       "  <tbody>\n",
       "    <tr>\n",
       "      <th>count</th>\n",
       "      <td>1000.000000</td>\n",
       "      <td>1000.000000</td>\n",
       "      <td>1000.000000</td>\n",
       "    </tr>\n",
       "    <tr>\n",
       "      <th>mean</th>\n",
       "      <td>55.672130</td>\n",
       "      <td>7.485000</td>\n",
       "      <td>419.149340</td>\n",
       "    </tr>\n",
       "    <tr>\n",
       "      <th>std</th>\n",
       "      <td>26.494628</td>\n",
       "      <td>4.520643</td>\n",
       "      <td>347.824683</td>\n",
       "    </tr>\n",
       "    <tr>\n",
       "      <th>min</th>\n",
       "      <td>10.080000</td>\n",
       "      <td>1.000000</td>\n",
       "      <td>10.170000</td>\n",
       "    </tr>\n",
       "    <tr>\n",
       "      <th>25%</th>\n",
       "      <td>32.875000</td>\n",
       "      <td>4.000000</td>\n",
       "      <td>152.745000</td>\n",
       "    </tr>\n",
       "    <tr>\n",
       "      <th>50%</th>\n",
       "      <td>55.230000</td>\n",
       "      <td>7.000000</td>\n",
       "      <td>317.695000</td>\n",
       "    </tr>\n",
       "    <tr>\n",
       "      <th>75%</th>\n",
       "      <td>77.935000</td>\n",
       "      <td>11.000000</td>\n",
       "      <td>605.222500</td>\n",
       "    </tr>\n",
       "    <tr>\n",
       "      <th>max</th>\n",
       "      <td>99.960000</td>\n",
       "      <td>20.000000</td>\n",
       "      <td>1749.960000</td>\n",
       "    </tr>\n",
       "  </tbody>\n",
       "</table>\n",
       "</div>"
      ],
      "text/plain": [
       "        Unit price     Quantity        Total\n",
       "count  1000.000000  1000.000000  1000.000000\n",
       "mean     55.672130     7.485000   419.149340\n",
       "std      26.494628     4.520643   347.824683\n",
       "min      10.080000     1.000000    10.170000\n",
       "25%      32.875000     4.000000   152.745000\n",
       "50%      55.230000     7.000000   317.695000\n",
       "75%      77.935000    11.000000   605.222500\n",
       "max      99.960000    20.000000  1749.960000"
      ]
     },
     "execution_count": 14,
     "metadata": {},
     "output_type": "execute_result"
    }
   ],
   "source": [
    "sales_data[['Unit price', 'Quantity', 'Total']].describe()"
   ]
  },
  {
   "cell_type": "code",
   "execution_count": 15,
   "id": "d5c459ad",
   "metadata": {
    "id": "d5c459ad",
    "outputId": "05bc0311-61de-4461-eb9e-2aaba574986a",
    "scrolled": false
   },
   "outputs": [
    {
     "data": {
      "text/html": [
       "<style type=\"text/css\">\n",
       "#T_59c6d_row0_col0, #T_59c6d_row0_col1, #T_59c6d_row0_col2, #T_59c6d_row0_col4, #T_59c6d_row0_col5, #T_59c6d_row0_col6, #T_59c6d_row0_col7, #T_59c6d_row0_col8, #T_59c6d_row0_col9, #T_59c6d_row7_col3 {\n",
       "  background-color: #084081;\n",
       "  color: #f1f1f1;\n",
       "}\n",
       "#T_59c6d_row0_col3 {\n",
       "  background-color: #62becc;\n",
       "  color: #000000;\n",
       "}\n",
       "#T_59c6d_row1_col0, #T_59c6d_row5_col0 {\n",
       "  background-color: #eff9e9;\n",
       "  color: #000000;\n",
       "}\n",
       "#T_59c6d_row1_col1, #T_59c6d_row1_col5, #T_59c6d_row1_col7, #T_59c6d_row3_col5, #T_59c6d_row4_col2, #T_59c6d_row4_col5, #T_59c6d_row4_col7, #T_59c6d_row5_col1, #T_59c6d_row5_col5, #T_59c6d_row5_col7, #T_59c6d_row6_col5, #T_59c6d_row7_col5 {\n",
       "  background-color: #f6fcef;\n",
       "  color: #000000;\n",
       "}\n",
       "#T_59c6d_row1_col2, #T_59c6d_row4_col0, #T_59c6d_row6_col9, #T_59c6d_row7_col9 {\n",
       "  background-color: #f3fbed;\n",
       "  color: #000000;\n",
       "}\n",
       "#T_59c6d_row1_col3 {\n",
       "  background-color: #ceecc8;\n",
       "  color: #000000;\n",
       "}\n",
       "#T_59c6d_row1_col4 {\n",
       "  background-color: #bee6bf;\n",
       "  color: #000000;\n",
       "}\n",
       "#T_59c6d_row1_col6, #T_59c6d_row4_col4 {\n",
       "  background-color: #e3f4de;\n",
       "  color: #000000;\n",
       "}\n",
       "#T_59c6d_row1_col8, #T_59c6d_row3_col8, #T_59c6d_row4_col8, #T_59c6d_row5_col8, #T_59c6d_row6_col8, #T_59c6d_row7_col2, #T_59c6d_row7_col8 {\n",
       "  background-color: #e6f5e0;\n",
       "  color: #000000;\n",
       "}\n",
       "#T_59c6d_row1_col9, #T_59c6d_row2_col0, #T_59c6d_row2_col2, #T_59c6d_row5_col2, #T_59c6d_row5_col9, #T_59c6d_row7_col1 {\n",
       "  background-color: #f4fbed;\n",
       "  color: #000000;\n",
       "}\n",
       "#T_59c6d_row2_col1, #T_59c6d_row2_col5, #T_59c6d_row2_col7, #T_59c6d_row2_col8, #T_59c6d_row2_col9, #T_59c6d_row3_col0, #T_59c6d_row3_col1, #T_59c6d_row3_col2, #T_59c6d_row3_col3, #T_59c6d_row3_col4, #T_59c6d_row3_col6, #T_59c6d_row3_col7, #T_59c6d_row4_col1, #T_59c6d_row4_col6 {\n",
       "  background-color: #f7fcf0;\n",
       "  color: #000000;\n",
       "}\n",
       "#T_59c6d_row2_col3 {\n",
       "  background-color: #d5efcf;\n",
       "  color: #000000;\n",
       "}\n",
       "#T_59c6d_row2_col4 {\n",
       "  background-color: #d0edca;\n",
       "  color: #000000;\n",
       "}\n",
       "#T_59c6d_row2_col6 {\n",
       "  background-color: #dcf1d7;\n",
       "  color: #000000;\n",
       "}\n",
       "#T_59c6d_row3_col9, #T_59c6d_row4_col9 {\n",
       "  background-color: #f5fbee;\n",
       "  color: #000000;\n",
       "}\n",
       "#T_59c6d_row4_col3 {\n",
       "  background-color: #e9f6e3;\n",
       "  color: #000000;\n",
       "}\n",
       "#T_59c6d_row5_col3 {\n",
       "  background-color: #d8f0d2;\n",
       "  color: #000000;\n",
       "}\n",
       "#T_59c6d_row5_col4 {\n",
       "  background-color: #cfecc8;\n",
       "  color: #000000;\n",
       "}\n",
       "#T_59c6d_row5_col6, #T_59c6d_row6_col0 {\n",
       "  background-color: #ebf7e5;\n",
       "  color: #000000;\n",
       "}\n",
       "#T_59c6d_row6_col1, #T_59c6d_row6_col7, #T_59c6d_row7_col7 {\n",
       "  background-color: #f6fbef;\n",
       "  color: #000000;\n",
       "}\n",
       "#T_59c6d_row6_col2 {\n",
       "  background-color: #f1faeb;\n",
       "  color: #000000;\n",
       "}\n",
       "#T_59c6d_row6_col3 {\n",
       "  background-color: #b2e1b9;\n",
       "  color: #000000;\n",
       "}\n",
       "#T_59c6d_row6_col4 {\n",
       "  background-color: #8fd4bd;\n",
       "  color: #000000;\n",
       "}\n",
       "#T_59c6d_row6_col6 {\n",
       "  background-color: #daf1d5;\n",
       "  color: #000000;\n",
       "}\n",
       "#T_59c6d_row7_col0 {\n",
       "  background-color: #e6f6e1;\n",
       "  color: #000000;\n",
       "}\n",
       "#T_59c6d_row7_col4 {\n",
       "  background-color: #084182;\n",
       "  color: #f1f1f1;\n",
       "}\n",
       "#T_59c6d_row7_col6 {\n",
       "  background-color: #0868ac;\n",
       "  color: #f1f1f1;\n",
       "}\n",
       "</style>\n",
       "<table id=\"T_59c6d\">\n",
       "  <thead>\n",
       "    <tr>\n",
       "      <th class=\"blank level0\" >&nbsp;</th>\n",
       "      <th id=\"T_59c6d_level0_col0\" class=\"col_heading level0 col0\" >Unit price</th>\n",
       "      <th id=\"T_59c6d_level0_col1\" class=\"col_heading level0 col1\" >Quantity</th>\n",
       "      <th id=\"T_59c6d_level0_col2\" class=\"col_heading level0 col2\" >Tax 5%</th>\n",
       "      <th id=\"T_59c6d_level0_col3\" class=\"col_heading level0 col3\" >Total</th>\n",
       "      <th id=\"T_59c6d_level0_col4\" class=\"col_heading level0 col4\" >cogs</th>\n",
       "      <th id=\"T_59c6d_level0_col5\" class=\"col_heading level0 col5\" >gross margin percentage</th>\n",
       "      <th id=\"T_59c6d_level0_col6\" class=\"col_heading level0 col6\" >gross income</th>\n",
       "      <th id=\"T_59c6d_level0_col7\" class=\"col_heading level0 col7\" >Rating</th>\n",
       "      <th id=\"T_59c6d_level0_col8\" class=\"col_heading level0 col8\" >Longitude</th>\n",
       "      <th id=\"T_59c6d_level0_col9\" class=\"col_heading level0 col9\" >Latitude</th>\n",
       "    </tr>\n",
       "  </thead>\n",
       "  <tbody>\n",
       "    <tr>\n",
       "      <th id=\"T_59c6d_level0_row0\" class=\"row_heading level0 row0\" >count</th>\n",
       "      <td id=\"T_59c6d_row0_col0\" class=\"data row0 col0\" >1000.000000</td>\n",
       "      <td id=\"T_59c6d_row0_col1\" class=\"data row0 col1\" >1000.000000</td>\n",
       "      <td id=\"T_59c6d_row0_col2\" class=\"data row0 col2\" >896.000000</td>\n",
       "      <td id=\"T_59c6d_row0_col3\" class=\"data row0 col3\" >1000.000000</td>\n",
       "      <td id=\"T_59c6d_row0_col4\" class=\"data row0 col4\" >1000.000000</td>\n",
       "      <td id=\"T_59c6d_row0_col5\" class=\"data row0 col5\" >1000.000000</td>\n",
       "      <td id=\"T_59c6d_row0_col6\" class=\"data row0 col6\" >1000.000000</td>\n",
       "      <td id=\"T_59c6d_row0_col7\" class=\"data row0 col7\" >857.000000</td>\n",
       "      <td id=\"T_59c6d_row0_col8\" class=\"data row0 col8\" >1000.000000</td>\n",
       "      <td id=\"T_59c6d_row0_col9\" class=\"data row0 col9\" >1000.000000</td>\n",
       "    </tr>\n",
       "    <tr>\n",
       "      <th id=\"T_59c6d_level0_row1\" class=\"row_heading level0 row1\" >mean</th>\n",
       "      <td id=\"T_59c6d_row1_col0\" class=\"data row1 col0\" >55.672130</td>\n",
       "      <td id=\"T_59c6d_row1_col1\" class=\"data row1 col1\" >7.485000</td>\n",
       "      <td id=\"T_59c6d_row1_col2\" class=\"data row1 col2\" >20.966930</td>\n",
       "      <td id=\"T_59c6d_row1_col3\" class=\"data row1 col3\" >419.149340</td>\n",
       "      <td id=\"T_59c6d_row1_col4\" class=\"data row1 col4\" >307.775883</td>\n",
       "      <td id=\"T_59c6d_row1_col5\" class=\"data row1 col5\" >4.761905</td>\n",
       "      <td id=\"T_59c6d_row1_col6\" class=\"data row1 col6\" >111.373457</td>\n",
       "      <td id=\"T_59c6d_row1_col7\" class=\"data row1 col7\" >7.462625</td>\n",
       "      <td id=\"T_59c6d_row1_col8\" class=\"data row1 col8\" >96.114319</td>\n",
       "      <td id=\"T_59c6d_row1_col9\" class=\"data row1 col9\" >19.498590</td>\n",
       "    </tr>\n",
       "    <tr>\n",
       "      <th id=\"T_59c6d_level0_row2\" class=\"row_heading level0 row2\" >std</th>\n",
       "      <td id=\"T_59c6d_row2_col0\" class=\"data row2 col0\" >26.494628</td>\n",
       "      <td id=\"T_59c6d_row2_col1\" class=\"data row2 col1\" >4.520643</td>\n",
       "      <td id=\"T_59c6d_row2_col2\" class=\"data row2 col2\" >17.604704</td>\n",
       "      <td id=\"T_59c6d_row2_col3\" class=\"data row2 col3\" >347.824683</td>\n",
       "      <td id=\"T_59c6d_row2_col4\" class=\"data row2 col4\" >234.425682</td>\n",
       "      <td id=\"T_59c6d_row2_col5\" class=\"data row2 col5\" >0.000000</td>\n",
       "      <td id=\"T_59c6d_row2_col6\" class=\"data row2 col6\" >149.212835</td>\n",
       "      <td id=\"T_59c6d_row2_col7\" class=\"data row2 col7\" >1.776179</td>\n",
       "      <td id=\"T_59c6d_row2_col8\" class=\"data row2 col8\" >0.042715</td>\n",
       "      <td id=\"T_59c6d_row2_col9\" class=\"data row2 col9\" >2.106757</td>\n",
       "    </tr>\n",
       "    <tr>\n",
       "      <th id=\"T_59c6d_level0_row3\" class=\"row_heading level0 row3\" >min</th>\n",
       "      <td id=\"T_59c6d_row3_col0\" class=\"data row3 col0\" >10.080000</td>\n",
       "      <td id=\"T_59c6d_row3_col1\" class=\"data row3 col1\" >1.000000</td>\n",
       "      <td id=\"T_59c6d_row3_col2\" class=\"data row3 col2\" >0.508500</td>\n",
       "      <td id=\"T_59c6d_row3_col3\" class=\"data row3 col3\" >10.170000</td>\n",
       "      <td id=\"T_59c6d_row3_col4\" class=\"data row3 col4\" >10.170000</td>\n",
       "      <td id=\"T_59c6d_row3_col5\" class=\"data row3 col5\" >4.761905</td>\n",
       "      <td id=\"T_59c6d_row3_col6\" class=\"data row3 col6\" >0.000000</td>\n",
       "      <td id=\"T_59c6d_row3_col7\" class=\"data row3 col7\" >4.000000</td>\n",
       "      <td id=\"T_59c6d_row3_col8\" class=\"data row3 col8\" >96.078500</td>\n",
       "      <td id=\"T_59c6d_row3_col9\" class=\"data row3 col9\" >16.840900</td>\n",
       "    </tr>\n",
       "    <tr>\n",
       "      <th id=\"T_59c6d_level0_row4\" class=\"row_heading level0 row4\" >25%</th>\n",
       "      <td id=\"T_59c6d_row4_col0\" class=\"data row4 col0\" >32.875000</td>\n",
       "      <td id=\"T_59c6d_row4_col1\" class=\"data row4 col1\" >4.000000</td>\n",
       "      <td id=\"T_59c6d_row4_col2\" class=\"data row4 col2\" >7.479500</td>\n",
       "      <td id=\"T_59c6d_row4_col3\" class=\"data row4 col3\" >152.745000</td>\n",
       "      <td id=\"T_59c6d_row4_col4\" class=\"data row4 col4\" >118.497500</td>\n",
       "      <td id=\"T_59c6d_row4_col5\" class=\"data row4 col5\" >4.761905</td>\n",
       "      <td id=\"T_59c6d_row4_col6\" class=\"data row4 col6\" >0.000000</td>\n",
       "      <td id=\"T_59c6d_row4_col7\" class=\"data row4 col7\" >5.900000</td>\n",
       "      <td id=\"T_59c6d_row4_col8\" class=\"data row4 col8\" >96.078500</td>\n",
       "      <td id=\"T_59c6d_row4_col9\" class=\"data row4 col9\" >16.840900</td>\n",
       "    </tr>\n",
       "    <tr>\n",
       "      <th id=\"T_59c6d_level0_row5\" class=\"row_heading level0 row5\" >50%</th>\n",
       "      <td id=\"T_59c6d_row5_col0\" class=\"data row5 col0\" >55.230000</td>\n",
       "      <td id=\"T_59c6d_row5_col1\" class=\"data row5 col1\" >7.000000</td>\n",
       "      <td id=\"T_59c6d_row5_col2\" class=\"data row5 col2\" >15.468250</td>\n",
       "      <td id=\"T_59c6d_row5_col3\" class=\"data row5 col3\" >317.695000</td>\n",
       "      <td id=\"T_59c6d_row5_col4\" class=\"data row5 col4\" >241.760000</td>\n",
       "      <td id=\"T_59c6d_row5_col5\" class=\"data row5 col5\" >4.761905</td>\n",
       "      <td id=\"T_59c6d_row5_col6\" class=\"data row5 col6\" >63.650000</td>\n",
       "      <td id=\"T_59c6d_row5_col7\" class=\"data row5 col7\" >7.455000</td>\n",
       "      <td id=\"T_59c6d_row5_col8\" class=\"data row5 col8\" >96.089100</td>\n",
       "      <td id=\"T_59c6d_row5_col9\" class=\"data row5 col9\" >19.763300</td>\n",
       "    </tr>\n",
       "    <tr>\n",
       "      <th id=\"T_59c6d_level0_row6\" class=\"row_heading level0 row6\" >75%</th>\n",
       "      <td id=\"T_59c6d_row6_col0\" class=\"data row6 col0\" >77.935000</td>\n",
       "      <td id=\"T_59c6d_row6_col1\" class=\"data row6 col1\" >11.000000</td>\n",
       "      <td id=\"T_59c6d_row6_col2\" class=\"data row6 col2\" >30.205875</td>\n",
       "      <td id=\"T_59c6d_row6_col3\" class=\"data row6 col3\" >605.222500</td>\n",
       "      <td id=\"T_59c6d_row6_col4\" class=\"data row6 col4\" >448.905000</td>\n",
       "      <td id=\"T_59c6d_row6_col5\" class=\"data row6 col5\" >4.761905</td>\n",
       "      <td id=\"T_59c6d_row6_col6\" class=\"data row6 col6\" >161.022500</td>\n",
       "      <td id=\"T_59c6d_row6_col7\" class=\"data row6 col7\" >9.100000</td>\n",
       "      <td id=\"T_59c6d_row6_col8\" class=\"data row6 col8\" >96.173500</td>\n",
       "      <td id=\"T_59c6d_row6_col9\" class=\"data row6 col9\" >21.958800</td>\n",
       "    </tr>\n",
       "    <tr>\n",
       "      <th id=\"T_59c6d_level0_row7\" class=\"row_heading level0 row7\" >max</th>\n",
       "      <td id=\"T_59c6d_row7_col0\" class=\"data row7 col0\" >99.960000</td>\n",
       "      <td id=\"T_59c6d_row7_col1\" class=\"data row7 col1\" >20.000000</td>\n",
       "      <td id=\"T_59c6d_row7_col2\" class=\"data row7 col2\" >87.498000</td>\n",
       "      <td id=\"T_59c6d_row7_col3\" class=\"data row7 col3\" >1749.960000</td>\n",
       "      <td id=\"T_59c6d_row7_col4\" class=\"data row7 col4\" >993.000000</td>\n",
       "      <td id=\"T_59c6d_row7_col5\" class=\"data row7 col5\" >4.761905</td>\n",
       "      <td id=\"T_59c6d_row7_col6\" class=\"data row7 col6\" >874.980000</td>\n",
       "      <td id=\"T_59c6d_row7_col7\" class=\"data row7 col7\" >10.000000</td>\n",
       "      <td id=\"T_59c6d_row7_col8\" class=\"data row7 col8\" >96.173500</td>\n",
       "      <td id=\"T_59c6d_row7_col9\" class=\"data row7 col9\" >21.958800</td>\n",
       "    </tr>\n",
       "  </tbody>\n",
       "</table>\n"
      ],
      "text/plain": [
       "<pandas.io.formats.style.Styler at 0x17ee958d0>"
      ]
     },
     "execution_count": 15,
     "metadata": {},
     "output_type": "execute_result"
    }
   ],
   "source": [
    "# Checking 5 point summary with describe function\n",
    "\n",
    "sales_data.describe().style.background_gradient(cmap='GnBu')"
   ]
  },
  {
   "cell_type": "markdown",
   "id": "1fc8e6ce",
   "metadata": {
    "id": "1fc8e6ce"
   },
   "source": [
    "Following are the observations from 5 number summary - \n",
    "\n",
    "* Unit Price has range of 10-99, with mean price of 55\n",
    "* Avg qty ordered per transaction is 7.4, the range being 1-20\n",
    "* Invoice total mean is 419, and the range is 10-1749\n",
    "* Gross Margin is constant as 4.76%\n",
    "* Mean rating is 7.46/10"
   ]
  },
  {
   "cell_type": "markdown",
   "id": "0ceaa81e",
   "metadata": {
    "id": "0ceaa81e"
   },
   "source": [
    "##### Data types and Null counts "
   ]
  },
  {
   "cell_type": "markdown",
   "id": "769ed052",
   "metadata": {
    "id": "769ed052"
   },
   "source": [
    ".info() function is used to check data types of all variables and null counts. "
   ]
  },
  {
   "cell_type": "code",
   "execution_count": 28,
   "id": "6debafa6",
   "metadata": {
    "id": "6debafa6",
    "outputId": "96b96fab-8a44-47ee-91fd-f15fcc9ce468",
    "scrolled": false
   },
   "outputs": [
    {
     "name": "stdout",
     "output_type": "stream",
     "text": [
      "<class 'pandas.core.frame.DataFrame'>\n",
      "RangeIndex: 1000 entries, 0 to 999\n",
      "Data columns (total 20 columns):\n",
      " #   Column                   Non-Null Count  Dtype         \n",
      "---  ------                   --------------  -----         \n",
      " 0   Invoice ID               1000 non-null   object        \n",
      " 1   Branch                   806 non-null    object        \n",
      " 2   CustomerID               1000 non-null   object        \n",
      " 3   City                     1000 non-null   object        \n",
      " 4   Customer type            952 non-null    object        \n",
      " 5   Gender                   975 non-null    object        \n",
      " 6   Product line             977 non-null    object        \n",
      " 7   Unit price               1000 non-null   float64       \n",
      " 8   Quantity                 1000 non-null   int64         \n",
      " 9   Tax 5%                   896 non-null    float64       \n",
      " 10  Total                    1000 non-null   float64       \n",
      " 11  Date                     1000 non-null   datetime64[ns]\n",
      " 12  Time                     1000 non-null   datetime64[ns]\n",
      " 13  Payment                  979 non-null    object        \n",
      " 14  cogs                     1000 non-null   float64       \n",
      " 15  gross margin percentage  1000 non-null   float64       \n",
      " 16  gross income             1000 non-null   float64       \n",
      " 17  Rating                   857 non-null    float64       \n",
      " 18  Longitude                1000 non-null   float64       \n",
      " 19  Latitude                 1000 non-null   float64       \n",
      "dtypes: datetime64[ns](2), float64(9), int64(1), object(8)\n",
      "memory usage: 156.4+ KB\n"
     ]
    }
   ],
   "source": [
    "sales_data.info()"
   ]
  },
  {
   "cell_type": "markdown",
   "id": "cea1b4f1",
   "metadata": {},
   "source": [
    "##### - Since date and time are having 'object' as  dtype we have to change the dtype here.  "
   ]
  },
  {
   "cell_type": "code",
   "execution_count": 27,
   "id": "7fdc42a2",
   "metadata": {},
   "outputs": [
    {
     "data": {
      "text/plain": [
       "0     2019-02-21\n",
       "1     2019-05-27\n",
       "2     2019-12-27\n",
       "3     2019-11-15\n",
       "4     2019-03-31\n",
       "5     2019-01-06\n",
       "6     2019-12-15\n",
       "7     2019-06-14\n",
       "8     2019-11-25\n",
       "9     2019-04-10\n",
       "10    2019-07-23\n",
       "11    2019-08-26\n",
       "12    2019-08-25\n",
       "13    2019-10-02\n",
       "14    2019-11-23\n",
       "15    2019-07-15\n",
       "16    2019-12-02\n",
       "17    2019-03-09\n",
       "18    2019-07-09\n",
       "19    2019-05-08\n",
       "20    2019-10-18\n",
       "21    2019-12-25\n",
       "22    2019-05-01\n",
       "23    2019-02-16\n",
       "24    2019-03-11\n",
       "25    2019-11-08\n",
       "26    2019-01-19\n",
       "27    2019-09-04\n",
       "28    2019-03-06\n",
       "29    2019-06-04\n",
       "30    2019-08-17\n",
       "31    2019-01-18\n",
       "32    2019-06-15\n",
       "33    2019-09-28\n",
       "34    2019-05-09\n",
       "35    2019-07-12\n",
       "36    2019-05-08\n",
       "37    2019-09-17\n",
       "38    2019-10-27\n",
       "39    2019-10-14\n",
       "40    2019-02-08\n",
       "41    2019-08-31\n",
       "42    2019-04-28\n",
       "43    2019-02-22\n",
       "44    2019-10-07\n",
       "45    2019-01-11\n",
       "46    2019-02-25\n",
       "47    2019-02-07\n",
       "48    2019-10-16\n",
       "49    2019-06-03\n",
       "50    2019-04-04\n",
       "51    2019-09-28\n",
       "52    2019-12-30\n",
       "53    2019-09-15\n",
       "54    2019-04-30\n",
       "55    2019-02-19\n",
       "56    2019-01-14\n",
       "57    2019-06-29\n",
       "58    2019-01-28\n",
       "59    2019-05-07\n",
       "60    2019-11-19\n",
       "61    2019-09-25\n",
       "62    2019-12-09\n",
       "63    2019-03-22\n",
       "64    2019-10-04\n",
       "65    2019-06-19\n",
       "66    2019-09-19\n",
       "67    2019-02-09\n",
       "68    2019-02-27\n",
       "69    2019-03-21\n",
       "70    2019-06-02\n",
       "71    2019-07-22\n",
       "72    2019-12-17\n",
       "73    2019-11-08\n",
       "74    2019-03-31\n",
       "75    2019-12-12\n",
       "76    2019-08-12\n",
       "77    2019-12-05\n",
       "78    2019-06-28\n",
       "79    2019-11-10\n",
       "80    2019-03-13\n",
       "81    2019-10-28\n",
       "82    2019-05-27\n",
       "83    2019-05-10\n",
       "84    2019-06-28\n",
       "85    2019-05-22\n",
       "86    2019-03-11\n",
       "87    2019-12-03\n",
       "88    2019-08-31\n",
       "89    2019-04-24\n",
       "90    2019-02-02\n",
       "91    2019-12-15\n",
       "92    2019-04-19\n",
       "93    2019-10-02\n",
       "94    2019-02-02\n",
       "95    2019-06-04\n",
       "96    2019-05-02\n",
       "97    2019-04-02\n",
       "98    2019-03-11\n",
       "99    2019-06-20\n",
       "100   2019-11-06\n",
       "101   2019-12-13\n",
       "102   2019-07-19\n",
       "103   2019-05-23\n",
       "104   2019-04-20\n",
       "105   2019-12-19\n",
       "106   2019-12-10\n",
       "107   2019-12-30\n",
       "108   2019-03-27\n",
       "109   2019-02-16\n",
       "110   2019-09-15\n",
       "111   2019-10-25\n",
       "112   2019-07-16\n",
       "113   2019-10-27\n",
       "114   2019-09-01\n",
       "115   2019-08-11\n",
       "116   2019-12-03\n",
       "117   2019-02-22\n",
       "118   2019-07-12\n",
       "119   2019-04-27\n",
       "120   2019-04-02\n",
       "121   2019-12-24\n",
       "122   2019-09-10\n",
       "123   2019-09-16\n",
       "124   2019-06-11\n",
       "125   2019-03-25\n",
       "126   2019-11-29\n",
       "127   2019-05-04\n",
       "128   2019-06-12\n",
       "129   2019-03-31\n",
       "130   2019-04-04\n",
       "131   2019-08-13\n",
       "132   2019-01-11\n",
       "133   2019-02-25\n",
       "134   2019-10-23\n",
       "135   2019-06-26\n",
       "136   2019-01-22\n",
       "137   2019-02-14\n",
       "138   2019-01-11\n",
       "139   2019-04-21\n",
       "140   2019-02-28\n",
       "141   2019-08-27\n",
       "142   2019-11-23\n",
       "143   2019-08-16\n",
       "144   2019-11-27\n",
       "145   2019-02-19\n",
       "146   2019-05-04\n",
       "147   2019-04-12\n",
       "148   2019-01-05\n",
       "149   2019-01-12\n",
       "150   2019-07-22\n",
       "151   2019-08-26\n",
       "152   2019-01-25\n",
       "153   2019-10-10\n",
       "154   2019-12-27\n",
       "155   2019-12-31\n",
       "156   2019-11-21\n",
       "157   2019-11-09\n",
       "158   2019-05-26\n",
       "159   2019-08-27\n",
       "160   2019-04-23\n",
       "161   2019-06-26\n",
       "162   2019-01-27\n",
       "163   2019-04-04\n",
       "164   2019-06-18\n",
       "165   2019-06-06\n",
       "166   2019-01-06\n",
       "167   2019-04-23\n",
       "168   2019-07-10\n",
       "169   2019-12-08\n",
       "170   2019-11-16\n",
       "171   2019-02-24\n",
       "172   2019-01-25\n",
       "173   2019-01-27\n",
       "174   2019-06-20\n",
       "175   2019-03-06\n",
       "176   2019-06-09\n",
       "177   2019-10-04\n",
       "178   2019-05-24\n",
       "179   2019-10-18\n",
       "180   2019-02-02\n",
       "181   2019-07-12\n",
       "182   2019-07-13\n",
       "183   2019-12-26\n",
       "184   2019-10-08\n",
       "185   2019-03-18\n",
       "186   2019-11-22\n",
       "187   2019-11-01\n",
       "188   2019-03-12\n",
       "189   2019-10-15\n",
       "190   2019-12-18\n",
       "191   2019-08-08\n",
       "192   2019-10-29\n",
       "193   2019-11-04\n",
       "194   2019-11-08\n",
       "195   2019-04-23\n",
       "196   2019-11-05\n",
       "197   2019-12-30\n",
       "198   2019-06-21\n",
       "199   2019-02-23\n",
       "200   2019-05-14\n",
       "201   2019-11-15\n",
       "202   2019-02-15\n",
       "203   2019-06-04\n",
       "204   2019-09-05\n",
       "205   2019-08-02\n",
       "206   2019-02-20\n",
       "207   2019-01-09\n",
       "208   2019-03-07\n",
       "209   2019-03-28\n",
       "210   2019-03-30\n",
       "211   2019-09-03\n",
       "212   2019-08-03\n",
       "213   2019-09-05\n",
       "214   2019-02-12\n",
       "215   2019-11-02\n",
       "216   2019-07-30\n",
       "217   2019-10-24\n",
       "218   2019-02-27\n",
       "219   2019-01-09\n",
       "220   2019-08-03\n",
       "221   2019-09-14\n",
       "222   2019-09-26\n",
       "223   2019-11-18\n",
       "224   2019-07-14\n",
       "225   2019-11-16\n",
       "226   2019-08-12\n",
       "227   2019-10-16\n",
       "228   2019-06-17\n",
       "229   2019-07-15\n",
       "230   2019-02-18\n",
       "231   2019-11-19\n",
       "232   2019-11-23\n",
       "233   2019-12-14\n",
       "234   2019-01-19\n",
       "235   2019-02-15\n",
       "236   2019-04-15\n",
       "237   2019-04-14\n",
       "238   2019-03-15\n",
       "239   2019-03-26\n",
       "240   2019-06-14\n",
       "241   2019-07-08\n",
       "242   2019-09-24\n",
       "243   2019-08-07\n",
       "244   2019-01-06\n",
       "245   2019-08-16\n",
       "246   2019-11-16\n",
       "247   2019-04-27\n",
       "248   2019-11-14\n",
       "249   2019-12-25\n",
       "250   2019-09-05\n",
       "251   2019-10-23\n",
       "252   2019-05-21\n",
       "253   2019-02-19\n",
       "254   2019-09-12\n",
       "255   2019-06-21\n",
       "256   2019-01-31\n",
       "257   2019-03-24\n",
       "258   2019-10-06\n",
       "259   2019-04-26\n",
       "260   2019-06-06\n",
       "261   2019-01-31\n",
       "262   2019-02-03\n",
       "263   2019-10-07\n",
       "264   2019-05-05\n",
       "265   2019-12-11\n",
       "266   2019-03-05\n",
       "267   2019-01-18\n",
       "268   2019-02-13\n",
       "269   2019-05-02\n",
       "270   2019-10-27\n",
       "271   2019-03-13\n",
       "272   2019-03-02\n",
       "273   2019-07-25\n",
       "274   2019-04-02\n",
       "275   2019-08-29\n",
       "276   2019-09-14\n",
       "277   2019-08-31\n",
       "278   2019-07-12\n",
       "279   2019-04-17\n",
       "280   2019-01-17\n",
       "281   2019-07-14\n",
       "282   2019-12-10\n",
       "283   2019-01-16\n",
       "284   2019-08-09\n",
       "285   2019-07-24\n",
       "286   2019-11-01\n",
       "287   2019-07-06\n",
       "288   2019-11-01\n",
       "289   2019-11-25\n",
       "290   2019-02-08\n",
       "291   2019-03-18\n",
       "292   2019-01-30\n",
       "293   2019-07-02\n",
       "294   2019-06-28\n",
       "295   2019-04-16\n",
       "296   2019-01-30\n",
       "297   2019-05-26\n",
       "298   2019-05-14\n",
       "299   2019-03-27\n",
       "300   2019-06-24\n",
       "301   2019-07-01\n",
       "302   2019-04-28\n",
       "303   2019-06-16\n",
       "304   2019-01-27\n",
       "305   2019-04-02\n",
       "306   2019-06-15\n",
       "307   2019-08-11\n",
       "308   2019-06-29\n",
       "309   2019-09-09\n",
       "310   2019-12-03\n",
       "311   2019-02-25\n",
       "312   2019-10-18\n",
       "313   2019-09-10\n",
       "314   2019-02-22\n",
       "315   2019-07-03\n",
       "316   2019-01-03\n",
       "317   2019-05-17\n",
       "318   2019-12-09\n",
       "319   2019-10-19\n",
       "320   2019-11-10\n",
       "321   2019-01-27\n",
       "322   2019-03-28\n",
       "323   2019-03-19\n",
       "324   2019-10-04\n",
       "325   2019-03-09\n",
       "326   2019-02-16\n",
       "327   2019-06-21\n",
       "328   2019-04-03\n",
       "329   2019-04-22\n",
       "330   2019-02-21\n",
       "331   2019-01-16\n",
       "332   2019-09-05\n",
       "333   2019-04-19\n",
       "334   2019-07-19\n",
       "335   2019-04-08\n",
       "336   2019-10-21\n",
       "337   2019-07-20\n",
       "338   2019-04-19\n",
       "339   2019-02-13\n",
       "340   2019-10-10\n",
       "341   2019-07-05\n",
       "342   2019-12-22\n",
       "343   2019-09-10\n",
       "344   2019-07-17\n",
       "345   2019-07-01\n",
       "346   2019-09-12\n",
       "347   2019-06-08\n",
       "348   2019-08-05\n",
       "349   2019-09-18\n",
       "350   2019-09-01\n",
       "351   2019-03-04\n",
       "352   2019-03-27\n",
       "353   2019-05-28\n",
       "354   2019-12-20\n",
       "355   2019-05-05\n",
       "356   2019-06-24\n",
       "357   2019-03-15\n",
       "358   2019-03-16\n",
       "359   2019-05-15\n",
       "360   2019-04-08\n",
       "361   2019-07-06\n",
       "362   2019-03-16\n",
       "363   2019-03-03\n",
       "364   2019-09-28\n",
       "365   2019-01-29\n",
       "366   2019-02-21\n",
       "367   2019-04-01\n",
       "368   2019-07-14\n",
       "369   2019-02-01\n",
       "370   2019-05-01\n",
       "371   2019-08-13\n",
       "372   2019-09-14\n",
       "373   2019-10-09\n",
       "374   2019-10-17\n",
       "375   2019-08-04\n",
       "376   2019-12-20\n",
       "377   2019-08-12\n",
       "378   2019-05-29\n",
       "379   2019-08-03\n",
       "380   2019-07-27\n",
       "381   2019-10-20\n",
       "382   2019-12-31\n",
       "383   2019-10-12\n",
       "384   2019-01-05\n",
       "385   2019-07-02\n",
       "386   2019-05-14\n",
       "387   2019-05-29\n",
       "388   2019-10-01\n",
       "389   2019-10-02\n",
       "390   2019-03-18\n",
       "391   2019-06-01\n",
       "392   2019-10-12\n",
       "393   2019-03-15\n",
       "394   2019-10-17\n",
       "395   2019-03-30\n",
       "396   2019-08-01\n",
       "397   2019-02-26\n",
       "398   2019-04-06\n",
       "399   2019-06-07\n",
       "400   2019-09-23\n",
       "401   2019-03-19\n",
       "402   2019-06-10\n",
       "403   2019-08-05\n",
       "404   2019-01-16\n",
       "405   2019-11-19\n",
       "406   2019-07-14\n",
       "407   2019-02-20\n",
       "408   2019-02-25\n",
       "409   2019-04-15\n",
       "410   2019-11-28\n",
       "411   2019-10-17\n",
       "412   2019-01-07\n",
       "413   2019-11-24\n",
       "414   2019-01-10\n",
       "415   2019-10-26\n",
       "416   2019-10-16\n",
       "417   2019-09-21\n",
       "418   2019-07-18\n",
       "419   2019-07-11\n",
       "420   2019-03-07\n",
       "421   2019-03-12\n",
       "422   2019-11-18\n",
       "423   2019-04-25\n",
       "424   2019-08-10\n",
       "425   2019-05-26\n",
       "426   2019-11-08\n",
       "427   2019-08-21\n",
       "428   2019-08-11\n",
       "429   2019-08-06\n",
       "430   2019-06-22\n",
       "431   2019-04-27\n",
       "432   2019-01-15\n",
       "433   2019-06-14\n",
       "434   2019-09-09\n",
       "435   2019-04-19\n",
       "436   2019-09-08\n",
       "437   2019-07-07\n",
       "438   2019-06-12\n",
       "439   2019-11-12\n",
       "440   2019-12-27\n",
       "441   2019-12-02\n",
       "442   2019-01-22\n",
       "443   2019-11-08\n",
       "444   2019-10-26\n",
       "445   2019-10-10\n",
       "446   2019-12-21\n",
       "447   2019-06-21\n",
       "448   2019-11-06\n",
       "449   2019-02-16\n",
       "450   2019-12-11\n",
       "451   2019-02-16\n",
       "452   2019-02-12\n",
       "453   2019-01-10\n",
       "454   2019-10-28\n",
       "455   2019-12-22\n",
       "456   2019-09-24\n",
       "457   2019-03-30\n",
       "458   2019-04-12\n",
       "459   2019-01-02\n",
       "460   2019-11-26\n",
       "461   2019-09-28\n",
       "462   2019-10-26\n",
       "463   2019-06-12\n",
       "464   2019-07-31\n",
       "465   2019-05-19\n",
       "466   2019-06-11\n",
       "467   2019-08-17\n",
       "468   2019-11-10\n",
       "469   2019-05-29\n",
       "470   2019-08-26\n",
       "471   2019-07-13\n",
       "472   2019-10-25\n",
       "473   2019-05-23\n",
       "474   2019-06-14\n",
       "475   2019-09-03\n",
       "476   2019-12-06\n",
       "477   2019-04-25\n",
       "478   2019-11-26\n",
       "479   2019-03-24\n",
       "480   2019-11-03\n",
       "481   2019-08-27\n",
       "482   2019-03-03\n",
       "483   2019-10-31\n",
       "484   2019-06-13\n",
       "485   2019-12-18\n",
       "486   2019-12-28\n",
       "487   2019-11-29\n",
       "488   2019-06-04\n",
       "489   2019-06-12\n",
       "490   2019-03-18\n",
       "491   2019-08-13\n",
       "492   2019-01-15\n",
       "493   2019-06-12\n",
       "494   2019-09-02\n",
       "495   2019-11-14\n",
       "496   2019-12-12\n",
       "497   2019-04-04\n",
       "498   2019-05-11\n",
       "499   2019-05-31\n",
       "500   2019-07-13\n",
       "501   2019-07-30\n",
       "502   2019-08-30\n",
       "503   2019-08-04\n",
       "504   2019-07-17\n",
       "505   2019-10-20\n",
       "506   2019-12-21\n",
       "507   2019-04-29\n",
       "508   2019-10-24\n",
       "509   2019-09-12\n",
       "510   2019-03-13\n",
       "511   2019-09-16\n",
       "512   2019-10-11\n",
       "513   2019-05-03\n",
       "514   2019-08-07\n",
       "515   2019-06-06\n",
       "516   2019-09-06\n",
       "517   2019-03-15\n",
       "518   2019-08-09\n",
       "519   2019-10-26\n",
       "520   2019-01-05\n",
       "521   2019-11-02\n",
       "522   2019-06-14\n",
       "523   2019-04-11\n",
       "524   2019-11-30\n",
       "525   2019-09-27\n",
       "526   2019-02-20\n",
       "527   2019-08-23\n",
       "528   2019-05-02\n",
       "529   2019-01-09\n",
       "530   2019-11-03\n",
       "531   2019-03-04\n",
       "532   2019-02-23\n",
       "533   2019-02-04\n",
       "534   2019-08-19\n",
       "535   2019-10-15\n",
       "536   2019-02-17\n",
       "537   2019-01-03\n",
       "538   2019-12-12\n",
       "539   2019-04-21\n",
       "540   2019-09-09\n",
       "541   2019-11-27\n",
       "542   2019-07-10\n",
       "543   2019-03-24\n",
       "544   2019-06-01\n",
       "545   2019-10-26\n",
       "546   2019-09-05\n",
       "547   2019-07-28\n",
       "548   2019-04-28\n",
       "549   2019-01-18\n",
       "550   2019-02-16\n",
       "551   2019-09-30\n",
       "552   2019-12-28\n",
       "553   2019-01-24\n",
       "554   2019-03-31\n",
       "555   2019-05-26\n",
       "556   2019-06-23\n",
       "557   2019-02-16\n",
       "558   2019-04-09\n",
       "559   2019-07-02\n",
       "560   2019-07-25\n",
       "561   2019-09-14\n",
       "562   2019-03-04\n",
       "563   2019-07-25\n",
       "564   2019-10-16\n",
       "565   2019-04-09\n",
       "566   2019-11-29\n",
       "567   2019-12-11\n",
       "568   2019-04-20\n",
       "569   2019-05-29\n",
       "570   2019-09-13\n",
       "571   2019-09-20\n",
       "572   2019-08-04\n",
       "573   2019-04-25\n",
       "574   2019-01-21\n",
       "575   2019-12-16\n",
       "576   2019-06-19\n",
       "577   2019-01-10\n",
       "578   2019-12-12\n",
       "579   2019-11-11\n",
       "580   2019-09-28\n",
       "581   2019-05-17\n",
       "582   2019-09-06\n",
       "583   2019-05-02\n",
       "584   2019-07-16\n",
       "585   2019-11-04\n",
       "586   2019-03-07\n",
       "587   2019-01-19\n",
       "588   2019-03-18\n",
       "589   2019-07-29\n",
       "590   2019-04-23\n",
       "591   2019-11-20\n",
       "592   2019-07-26\n",
       "593   2019-03-12\n",
       "594   2019-10-03\n",
       "595   2019-06-14\n",
       "596   2019-12-15\n",
       "597   2019-09-30\n",
       "598   2019-02-02\n",
       "599   2019-05-28\n",
       "600   2019-03-13\n",
       "601   2019-07-27\n",
       "602   2019-10-21\n",
       "603   2019-09-16\n",
       "604   2019-04-10\n",
       "605   2019-10-10\n",
       "606   2019-03-19\n",
       "607   2019-01-11\n",
       "608   2019-07-27\n",
       "609   2019-02-02\n",
       "610   2019-06-04\n",
       "611   2019-07-09\n",
       "612   2019-02-14\n",
       "613   2019-11-05\n",
       "614   2019-03-02\n",
       "615   2019-01-21\n",
       "616   2019-09-03\n",
       "617   2019-04-22\n",
       "618   2019-10-23\n",
       "619   2019-12-18\n",
       "620   2019-08-03\n",
       "621   2019-01-13\n",
       "622   2019-01-28\n",
       "623   2019-07-02\n",
       "624   2019-11-06\n",
       "625   2019-05-31\n",
       "626   2019-07-03\n",
       "627   2019-01-11\n",
       "628   2019-06-04\n",
       "629   2019-07-23\n",
       "630   2019-03-12\n",
       "631   2019-08-02\n",
       "632   2019-01-24\n",
       "633   2019-11-18\n",
       "634   2019-11-12\n",
       "635   2019-09-02\n",
       "636   2019-05-20\n",
       "637   2019-05-30\n",
       "638   2019-05-02\n",
       "639   2019-07-06\n",
       "640   2019-04-24\n",
       "641   2019-08-21\n",
       "642   2019-09-16\n",
       "643   2019-11-11\n",
       "644   2019-05-14\n",
       "645   2019-08-30\n",
       "646   2019-09-09\n",
       "647   2019-02-18\n",
       "648   2019-11-19\n",
       "649   2019-05-05\n",
       "650   2019-02-25\n",
       "651   2019-08-18\n",
       "652   2019-03-07\n",
       "653   2019-06-27\n",
       "654   2019-11-03\n",
       "655   2019-04-29\n",
       "656   2019-08-04\n",
       "657   2019-02-02\n",
       "658   2019-06-10\n",
       "659   2019-07-18\n",
       "660   2019-05-02\n",
       "661   2019-05-20\n",
       "662   2019-02-14\n",
       "663   2019-06-19\n",
       "664   2019-03-07\n",
       "665   2019-04-04\n",
       "666   2019-12-16\n",
       "667   2019-10-10\n",
       "668   2019-05-03\n",
       "669   2019-04-13\n",
       "670   2019-12-08\n",
       "671   2019-10-20\n",
       "672   2019-03-13\n",
       "673   2019-02-15\n",
       "674   2019-09-22\n",
       "675   2019-01-29\n",
       "676   2019-10-10\n",
       "677   2019-04-30\n",
       "678   2019-02-14\n",
       "679   2019-08-15\n",
       "680   2019-02-19\n",
       "681   2019-12-29\n",
       "682   2019-12-18\n",
       "683   2019-01-03\n",
       "684   2019-08-04\n",
       "685   2019-12-02\n",
       "686   2019-06-06\n",
       "687   2019-02-26\n",
       "688   2019-04-09\n",
       "689   2019-12-11\n",
       "690   2019-09-02\n",
       "691   2019-09-24\n",
       "692   2019-12-18\n",
       "693   2019-04-05\n",
       "694   2019-05-20\n",
       "695   2019-06-30\n",
       "696   2019-11-21\n",
       "697   2019-11-14\n",
       "698   2019-10-15\n",
       "699   2019-05-28\n",
       "700   2019-08-31\n",
       "701   2019-02-12\n",
       "702   2019-09-01\n",
       "703   2019-02-05\n",
       "704   2019-07-20\n",
       "705   2019-01-22\n",
       "706   2019-09-19\n",
       "707   2019-03-05\n",
       "708   2019-07-21\n",
       "709   2019-11-19\n",
       "710   2019-10-15\n",
       "711   2019-12-23\n",
       "712   2019-03-13\n",
       "713   2019-06-29\n",
       "714   2019-03-19\n",
       "715   2019-03-05\n",
       "716   2019-07-18\n",
       "717   2019-05-12\n",
       "718   2019-01-01\n",
       "719   2019-12-21\n",
       "720   2019-06-04\n",
       "721   2019-03-24\n",
       "722   2019-06-02\n",
       "723   2019-01-13\n",
       "724   2019-01-13\n",
       "725   2019-11-19\n",
       "726   2019-04-13\n",
       "727   2019-01-31\n",
       "728   2019-12-18\n",
       "729   2019-08-20\n",
       "730   2019-02-02\n",
       "731   2019-07-24\n",
       "732   2019-12-21\n",
       "733   2019-02-11\n",
       "734   2019-05-25\n",
       "735   2019-12-25\n",
       "736   2019-03-31\n",
       "737   2019-02-27\n",
       "738   2019-06-24\n",
       "739   2019-07-11\n",
       "740   2019-11-08\n",
       "741   2019-12-19\n",
       "742   2019-03-17\n",
       "743   2019-07-23\n",
       "744   2019-06-02\n",
       "745   2019-05-25\n",
       "746   2019-10-22\n",
       "747   2019-08-31\n",
       "748   2019-06-30\n",
       "749   2019-08-29\n",
       "750   2019-04-17\n",
       "751   2019-11-03\n",
       "752   2019-11-17\n",
       "753   2019-04-07\n",
       "754   2019-02-25\n",
       "755   2019-02-16\n",
       "756   2019-09-11\n",
       "757   2019-04-30\n",
       "758   2019-07-05\n",
       "759   2019-03-06\n",
       "760   2019-10-06\n",
       "761   2019-03-21\n",
       "762   2019-09-12\n",
       "763   2019-05-16\n",
       "764   2019-04-18\n",
       "765   2019-12-14\n",
       "766   2019-12-26\n",
       "767   2019-08-20\n",
       "768   2019-04-20\n",
       "769   2019-06-06\n",
       "770   2019-07-13\n",
       "771   2019-06-09\n",
       "772   2019-03-08\n",
       "773   2019-03-02\n",
       "774   2019-07-31\n",
       "775   2019-09-28\n",
       "776   2019-08-15\n",
       "777   2019-01-23\n",
       "778   2019-06-23\n",
       "779   2019-06-12\n",
       "780   2019-09-18\n",
       "781   2019-11-25\n",
       "782   2019-05-30\n",
       "783   2019-11-02\n",
       "784   2019-02-19\n",
       "785   2019-09-29\n",
       "786   2019-03-14\n",
       "787   2019-12-13\n",
       "788   2019-05-08\n",
       "789   2019-05-18\n",
       "790   2019-10-18\n",
       "791   2019-02-03\n",
       "792   2019-03-23\n",
       "793   2019-11-12\n",
       "794   2019-07-24\n",
       "795   2019-05-13\n",
       "796   2019-06-10\n",
       "797   2019-08-23\n",
       "798   2019-11-02\n",
       "799   2019-08-12\n",
       "800   2019-07-14\n",
       "801   2019-06-11\n",
       "802   2019-04-05\n",
       "803   2019-02-09\n",
       "804   2019-12-17\n",
       "805   2019-07-30\n",
       "806   2019-10-07\n",
       "807   2019-01-11\n",
       "808   2019-11-05\n",
       "809   2019-08-04\n",
       "810   2019-09-23\n",
       "811   2019-06-10\n",
       "812   2019-10-13\n",
       "813   2019-02-13\n",
       "814   2019-05-18\n",
       "815   2019-12-23\n",
       "816   2019-10-26\n",
       "817   2019-12-01\n",
       "818   2019-07-17\n",
       "819   2019-06-10\n",
       "820   2019-02-28\n",
       "821   2019-08-25\n",
       "822   2019-09-25\n",
       "823   2019-10-18\n",
       "824   2019-10-08\n",
       "825   2019-06-14\n",
       "826   2019-10-29\n",
       "827   2019-12-16\n",
       "828   2019-01-02\n",
       "829   2019-12-16\n",
       "830   2019-10-05\n",
       "831   2019-11-27\n",
       "832   2019-09-22\n",
       "833   2019-10-28\n",
       "834   2019-12-06\n",
       "835   2019-07-27\n",
       "836   2019-02-15\n",
       "837   2019-01-20\n",
       "838   2019-11-23\n",
       "839   2019-08-14\n",
       "840   2019-10-01\n",
       "841   2019-07-26\n",
       "842   2019-05-23\n",
       "843   2019-05-01\n",
       "844   2019-06-21\n",
       "845   2019-04-10\n",
       "846   2019-07-22\n",
       "847   2019-12-04\n",
       "848   2019-05-06\n",
       "849   2019-03-05\n",
       "850   2019-05-07\n",
       "851   2019-11-16\n",
       "852   2019-07-03\n",
       "853   2019-05-04\n",
       "854   2019-06-27\n",
       "855   2019-11-24\n",
       "856   2019-10-01\n",
       "857   2019-05-17\n",
       "858   2019-01-15\n",
       "859   2019-03-13\n",
       "860   2019-01-28\n",
       "861   2019-07-09\n",
       "862   2019-11-15\n",
       "863   2019-09-12\n",
       "864   2019-05-23\n",
       "865   2019-05-29\n",
       "866   2019-03-23\n",
       "867   2019-11-11\n",
       "868   2019-09-26\n",
       "869   2019-03-04\n",
       "870   2019-06-29\n",
       "871   2019-03-17\n",
       "872   2019-04-06\n",
       "873   2019-06-14\n",
       "874   2019-02-08\n",
       "875   2019-02-25\n",
       "876   2019-03-09\n",
       "877   2019-01-30\n",
       "878   2019-09-18\n",
       "879   2019-07-25\n",
       "880   2019-12-16\n",
       "881   2019-09-01\n",
       "882   2019-07-19\n",
       "883   2019-11-21\n",
       "884   2019-08-31\n",
       "885   2019-09-28\n",
       "886   2019-04-25\n",
       "887   2019-02-15\n",
       "888   2019-09-14\n",
       "889   2019-12-20\n",
       "890   2019-09-16\n",
       "891   2019-07-11\n",
       "892   2019-04-29\n",
       "893   2019-10-24\n",
       "894   2019-03-22\n",
       "895   2019-10-07\n",
       "896   2019-10-23\n",
       "897   2019-01-03\n",
       "898   2019-08-02\n",
       "899   2019-02-22\n",
       "900   2019-12-06\n",
       "901   2019-05-23\n",
       "902   2019-05-27\n",
       "903   2019-01-12\n",
       "904   2019-10-05\n",
       "905   2019-08-19\n",
       "906   2019-05-17\n",
       "907   2019-03-14\n",
       "908   2019-08-12\n",
       "909   2019-08-17\n",
       "910   2019-10-06\n",
       "911   2019-03-18\n",
       "912   2019-09-13\n",
       "913   2019-07-02\n",
       "914   2019-12-13\n",
       "915   2019-03-19\n",
       "916   2019-03-01\n",
       "917   2019-07-19\n",
       "918   2019-10-28\n",
       "919   2019-06-26\n",
       "920   2019-04-17\n",
       "921   2019-07-25\n",
       "922   2019-04-11\n",
       "923   2019-07-27\n",
       "924   2019-11-16\n",
       "925   2019-02-16\n",
       "926   2019-04-28\n",
       "927   2019-10-27\n",
       "928   2019-10-06\n",
       "929   2019-03-15\n",
       "930   2019-07-17\n",
       "931   2019-12-25\n",
       "932   2019-10-07\n",
       "933   2019-07-04\n",
       "934   2019-02-20\n",
       "935   2019-04-25\n",
       "936   2019-11-09\n",
       "937   2019-03-17\n",
       "938   2019-09-16\n",
       "939   2019-02-02\n",
       "940   2019-04-01\n",
       "941   2019-08-14\n",
       "942   2019-08-19\n",
       "943   2019-06-04\n",
       "944   2019-11-18\n",
       "945   2019-01-11\n",
       "946   2019-03-29\n",
       "947   2019-02-25\n",
       "948   2019-06-20\n",
       "949   2019-02-26\n",
       "950   2019-10-04\n",
       "951   2019-11-05\n",
       "952   2019-06-03\n",
       "953   2019-03-26\n",
       "954   2019-03-03\n",
       "955   2019-06-07\n",
       "956   2019-11-19\n",
       "957   2019-08-20\n",
       "958   2019-02-21\n",
       "959   2019-07-27\n",
       "960   2019-07-09\n",
       "961   2019-05-28\n",
       "962   2019-07-02\n",
       "963   2019-02-19\n",
       "964   2019-02-17\n",
       "965   2019-01-02\n",
       "966   2019-06-06\n",
       "967   2019-03-08\n",
       "968   2019-09-19\n",
       "969   2019-12-10\n",
       "970   2019-03-10\n",
       "971   2019-07-09\n",
       "972   2019-04-19\n",
       "973   2019-04-01\n",
       "974   2019-07-24\n",
       "975   2019-04-02\n",
       "976   2019-10-23\n",
       "977   2019-11-11\n",
       "978   2019-07-29\n",
       "979   2019-12-02\n",
       "980   2019-05-10\n",
       "981   2019-04-08\n",
       "982   2019-04-16\n",
       "983   2019-10-20\n",
       "984   2019-06-28\n",
       "985   2019-08-16\n",
       "986   2019-11-27\n",
       "987   2019-07-05\n",
       "988   2019-02-01\n",
       "989   2019-12-21\n",
       "990   2019-08-15\n",
       "991   2019-10-28\n",
       "992   2019-02-16\n",
       "993   2019-01-29\n",
       "994   2019-09-16\n",
       "995   2019-10-02\n",
       "996   2019-12-29\n",
       "997   2019-01-16\n",
       "998   2019-03-21\n",
       "999   2019-10-11\n",
       "Name: Date, dtype: datetime64[ns]"
      ]
     },
     "execution_count": 27,
     "metadata": {},
     "output_type": "execute_result"
    }
   ],
   "source": [
    "sales_data['Date']"
   ]
  },
  {
   "cell_type": "code",
   "execution_count": 24,
   "id": "e00037cd",
   "metadata": {},
   "outputs": [],
   "source": [
    "sales_data['Date'] = pd.to_datetime(sales_data['Date'])"
   ]
  },
  {
   "cell_type": "code",
   "execution_count": 29,
   "id": "e4771b7b",
   "metadata": {},
   "outputs": [],
   "source": [
    "sales_data['Time']= pd.to_datetime(sales_data['Time'])"
   ]
  },
  {
   "cell_type": "markdown",
   "id": "c1e69bf5",
   "metadata": {},
   "source": [
    "- once we are done with changing the format for date and time we can proceed further"
   ]
  },
  {
   "cell_type": "markdown",
   "id": "ad6f80c1",
   "metadata": {
    "id": "ad6f80c1"
   },
   "source": [
    "### Data Imputation "
   ]
  },
  {
   "cell_type": "markdown",
   "id": "03f06caa",
   "metadata": {
    "id": "03f06caa"
   },
   "source": [
    "Data imputation is a necessary step so as to avoid misleading insights. It also makes the dataframe compatible with most of the analytical and visual functions. "
   ]
  },
  {
   "cell_type": "markdown",
   "id": "1ba197e2",
   "metadata": {
    "id": "1ba197e2"
   },
   "source": [
    "##### Checking Null %s "
   ]
  },
  {
   "cell_type": "markdown",
   "id": "e714e81f",
   "metadata": {
    "id": "e714e81f"
   },
   "source": [
    "Let's first check the columns which have NULL values and then we can impute in those fields one by one - "
   ]
  },
  {
   "cell_type": "code",
   "execution_count": 17,
   "id": "2d909d9a",
   "metadata": {
    "id": "2d909d9a",
    "outputId": "dd7f9fe2-9d61-4052-e372-a1633a1934c7"
   },
   "outputs": [
    {
     "data": {
      "text/plain": [
       "Branch                     19.4\n",
       "Rating                     14.3\n",
       "Tax 5%                     10.4\n",
       "Customer type               4.8\n",
       "Gender                      2.5\n",
       "Product line                2.3\n",
       "Payment                     2.1\n",
       "Invoice ID                  0.0\n",
       "Longitude                   0.0\n",
       "gross income                0.0\n",
       "gross margin percentage     0.0\n",
       "cogs                        0.0\n",
       "Total                       0.0\n",
       "Time                        0.0\n",
       "Date                        0.0\n",
       "Quantity                    0.0\n",
       "Unit price                  0.0\n",
       "City                        0.0\n",
       "CustomerID                  0.0\n",
       "Latitude                    0.0\n",
       "dtype: float64"
      ]
     },
     "execution_count": 17,
     "metadata": {},
     "output_type": "execute_result"
    }
   ],
   "source": [
    "# Null % for all columns in data\n",
    "\n",
    "null_perc = sales_data.isnull().sum()/len(sales_data)*100\n",
    "\n",
    "null_perc.sort_values(ascending = False)"
   ]
  },
  {
   "cell_type": "markdown",
   "id": "c7a6981e",
   "metadata": {
    "id": "c7a6981e"
   },
   "source": [
    "We have 7 fields with NULLs, with \"Branch\" having maximum NULLs ( 19.4%)"
   ]
  },
  {
   "cell_type": "markdown",
   "id": "e3143574",
   "metadata": {
    "id": "e3143574"
   },
   "source": [
    "Making a copy of data for Data Wrangling section and further EDA, so that the original data stays as it is in case it is required for further reference later. "
   ]
  },
  {
   "cell_type": "code",
   "execution_count": 30,
   "id": "9f5cd458",
   "metadata": {
    "id": "9f5cd458"
   },
   "outputs": [],
   "source": [
    "sales_data_2 = sales_data.copy()"
   ]
  },
  {
   "cell_type": "markdown",
   "id": "cdf9bc7a",
   "metadata": {
    "id": "cdf9bc7a"
   },
   "source": [
    "##### Imputing NULLs for Ratings"
   ]
  },
  {
   "cell_type": "markdown",
   "id": "8492065a",
   "metadata": {
    "id": "8492065a"
   },
   "source": [
    "Ratings can be imputed with Mean rating values"
   ]
  },
  {
   "cell_type": "code",
   "execution_count": 31,
   "id": "048cdb60",
   "metadata": {
    "id": "048cdb60",
    "outputId": "938185d6-9611-41d0-bd8e-e200b8e6f0c3"
   },
   "outputs": [
    {
     "data": {
      "text/plain": [
       "7.462625437572928"
      ]
     },
     "execution_count": 31,
     "metadata": {},
     "output_type": "execute_result"
    }
   ],
   "source": [
    "sales_data_2.Rating.mean()"
   ]
  },
  {
   "cell_type": "code",
   "execution_count": 32,
   "id": "4f81da66",
   "metadata": {
    "id": "4f81da66"
   },
   "outputs": [],
   "source": [
    "sales_data_2['Rating'] = sales_data_2['Rating'].fillna(sales_data_2.Rating.mean())"
   ]
  },
  {
   "cell_type": "markdown",
   "id": "2389ec95",
   "metadata": {
    "id": "2389ec95"
   },
   "source": [
    "##### Imputing NULLs for Tax"
   ]
  },
  {
   "cell_type": "markdown",
   "id": "9caf8c74",
   "metadata": {
    "id": "9caf8c74"
   },
   "source": [
    "From the data we can see that Tax is 5% of the Invoice value always. We can impute nulls using the same formula as below - "
   ]
  },
  {
   "cell_type": "code",
   "execution_count": 33,
   "id": "16e4068b",
   "metadata": {
    "id": "16e4068b",
    "outputId": "7a6fd3dd-9007-4122-c4e1-33ff4c02b04c"
   },
   "outputs": [
    {
     "data": {
      "text/plain": [
       "0     5.0\n",
       "1     5.0\n",
       "2     5.0\n",
       "3     5.0\n",
       "4     5.0\n",
       "5     5.0\n",
       "6     5.0\n",
       "7     5.0\n",
       "8     5.0\n",
       "9     5.0\n",
       "10    5.0\n",
       "11    NaN\n",
       "12    NaN\n",
       "13    NaN\n",
       "14    NaN\n",
       "15    NaN\n",
       "16    NaN\n",
       "17    NaN\n",
       "18    NaN\n",
       "19    NaN\n",
       "dtype: float64"
      ]
     },
     "execution_count": 33,
     "metadata": {},
     "output_type": "execute_result"
    }
   ],
   "source": [
    "tax_perc = sales_data_2['Tax 5%']*100/sales_data_2['Total']\n",
    "tax_perc.head(20)"
   ]
  },
  {
   "cell_type": "code",
   "execution_count": 34,
   "id": "604c713c",
   "metadata": {
    "id": "604c713c"
   },
   "outputs": [],
   "source": [
    "sales_data_2['Tax 5%'] = sales_data_2['Tax 5%'].fillna(sales_data_2['Total']*0.05)"
   ]
  },
  {
   "cell_type": "markdown",
   "id": "4f27e5e1",
   "metadata": {
    "id": "4f27e5e1"
   },
   "source": [
    "Mode is a common way to fill in Categorical variables unless there is a linkage among variables ( As in case of Branch).\n",
    "Thus, it is better to define a function which can be used multiple times for such variables - "
   ]
  },
  {
   "cell_type": "code",
   "execution_count": null,
   "id": "9d21b4b9",
   "metadata": {
    "id": "9d21b4b9"
   },
   "outputs": [],
   "source": [
    "# The function is written in such a way that it displays the mode and confirms that the mode imputation is complete\n",
    "\n",
    "def impute_mode(col):\n",
    "    print(\"The mode of this field is :  \" + sales_data_2[col].mode()[0])\n",
    "    sales_data_2[col] = sales_data_2[col].fillna(sales_data_2[col].mode()[0])\n",
    "    print(\"Mode value imputed\")\n",
    "    \n",
    "    "
   ]
  },
  {
   "cell_type": "markdown",
   "id": "e087e5a1",
   "metadata": {
    "id": "e087e5a1"
   },
   "source": [
    "##### Imputing NULLs for Payment"
   ]
  },
  {
   "cell_type": "markdown",
   "id": "8c4c368d",
   "metadata": {
    "id": "8c4c368d"
   },
   "source": [
    "Payments can be imputed with Mode as there is no logical way to find out what method was used."
   ]
  },
  {
   "cell_type": "code",
   "execution_count": null,
   "id": "bedd2556",
   "metadata": {
    "id": "bedd2556",
    "outputId": "8b84e1c1-d27b-4fc6-d258-7006cdc73c4c"
   },
   "outputs": [],
   "source": [
    "impute_mode('Payment')"
   ]
  },
  {
   "cell_type": "markdown",
   "id": "b0cc265f",
   "metadata": {
    "id": "b0cc265f"
   },
   "source": [
    "##### Imputing NULLs for Customer Type"
   ]
  },
  {
   "cell_type": "markdown",
   "id": "90117a3b",
   "metadata": {
    "id": "90117a3b"
   },
   "source": [
    "Customer Type has just 5% of Nulls and it is better to complete the data with mode imputation than leaving it as it is"
   ]
  },
  {
   "cell_type": "code",
   "execution_count": null,
   "id": "41549e70",
   "metadata": {
    "id": "41549e70",
    "outputId": "c8df769e-90c6-4bb9-a0b8-4ebc8a14e9c3",
    "scrolled": true
   },
   "outputs": [],
   "source": [
    "impute_mode('Customer type')"
   ]
  },
  {
   "cell_type": "markdown",
   "id": "97cd8188",
   "metadata": {
    "id": "97cd8188"
   },
   "source": [
    "##### Imputing NULLs for Gender"
   ]
  },
  {
   "cell_type": "markdown",
   "id": "a0066af5",
   "metadata": {
    "id": "a0066af5"
   },
   "source": [
    "Similar to Customer type, Gender also has lower % of NULLs and can be imputed with Mode"
   ]
  },
  {
   "cell_type": "code",
   "execution_count": null,
   "id": "99742a73",
   "metadata": {
    "id": "99742a73",
    "outputId": "8ff021e7-5a44-4142-b716-78b65397f945"
   },
   "outputs": [],
   "source": [
    "impute_mode('Gender')"
   ]
  },
  {
   "cell_type": "markdown",
   "id": "f93d88e9",
   "metadata": {
    "id": "f93d88e9"
   },
   "source": [
    "##### Imputing NULLs for Product Line"
   ]
  },
  {
   "cell_type": "code",
   "execution_count": null,
   "id": "8c5a75bb",
   "metadata": {
    "id": "8c5a75bb",
    "outputId": "6e2a4021-3374-4701-d1fa-5b4f5698d447",
    "scrolled": true
   },
   "outputs": [],
   "source": [
    "impute_mode('Product line')"
   ]
  },
  {
   "cell_type": "code",
   "execution_count": null,
   "id": "d4f45371",
   "metadata": {},
   "outputs": [],
   "source": [
    "null_perc = sales_data_2.isnull().sum()/len(sales_data_2)*100\n",
    "\n",
    "null_perc.sort_values(ascending = False)"
   ]
  },
  {
   "cell_type": "markdown",
   "id": "fd363371",
   "metadata": {
    "id": "fd363371"
   },
   "source": [
    "##### Imputing NULLs for Branch"
   ]
  },
  {
   "cell_type": "markdown",
   "id": "4725c3c4",
   "metadata": {
    "id": "4725c3c4"
   },
   "source": [
    "One can logically deduce that City and Branch must be linked. \n",
    "A quick look at the data using head() function would confirm the same as below - "
   ]
  },
  {
   "cell_type": "markdown",
   "id": "2c6fd232",
   "metadata": {
    "id": "2c6fd232"
   },
   "source": [
    "NOTE : drop_duplicates() can be used to find the unique values based on a set of fields. "
   ]
  },
  {
   "cell_type": "code",
   "execution_count": null,
   "id": "30bc6350",
   "metadata": {
    "id": "30bc6350",
    "outputId": "f9206c9c-4b36-4d3a-eb22-fda6ae71f8c4"
   },
   "outputs": [],
   "source": [
    "sales_data_2[['Branch','City']].drop_duplicates()\n"
   ]
  },
  {
   "cell_type": "code",
   "execution_count": null,
   "id": "43afe2ba",
   "metadata": {},
   "outputs": [],
   "source": [
    "sales_data_2[['Branch','City']]"
   ]
  },
  {
   "cell_type": "markdown",
   "id": "50d5592d",
   "metadata": {
    "id": "50d5592d"
   },
   "source": [
    "Based on the above values, we can write the following logic to impute Branch as per the City values - "
   ]
  },
  {
   "cell_type": "code",
   "execution_count": null,
   "id": "b2201879",
   "metadata": {},
   "outputs": [],
   "source": [
    "len(sales_data_2['Branch'])"
   ]
  },
  {
   "cell_type": "code",
   "execution_count": null,
   "id": "a99f1194",
   "metadata": {
    "id": "a99f1194",
    "outputId": "6c06b1c0-d30f-4c71-96ca-d3a3316929b3",
    "scrolled": true
   },
   "outputs": [],
   "source": [
    "\n",
    "for i in range(len(sales_data_2['Branch'])):\n",
    "\n",
    "    if pd.isna(sales_data_2['Branch'][i]) == True :\n",
    "        if(sales_data_2['City'][i].strip() == \"Yangon\"):\n",
    "            sales_data_2['Branch'][i] = \"A\"\n",
    "            print(\"NA imputed as Branch A\")\n",
    "\n",
    "        elif(sales_data_2['City'][i].strip() == \"Naypyitaw\"):\n",
    "            sales_data_2['Branch'][i] = \"C\"\n",
    "            print(\"NA imputed as Branch C\")\n",
    "\n",
    "        elif(sales_data_2['City'][i].strip() == \"Mandalay\"):\n",
    "            sales_data_2['Branch'][i] = \"B\"\n",
    "            print(\"NA imputed as Branch B\")\n",
    "\n",
    "        else:\n",
    "            print(\"Invalid city\")\n"
   ]
  },
  {
   "cell_type": "markdown",
   "id": "7b346962",
   "metadata": {
    "id": "7b346962"
   },
   "source": [
    "##### Verifying NULL% after imputations"
   ]
  },
  {
   "cell_type": "markdown",
   "id": "14f86cc7",
   "metadata": {
    "id": "14f86cc7"
   },
   "source": [
    "Finally we can verify that all columns have 0% NULLs suing the same logic as earlier for NULL % calculation - "
   ]
  },
  {
   "cell_type": "code",
   "execution_count": null,
   "id": "789867e2",
   "metadata": {
    "id": "789867e2",
    "outputId": "6827352e-8ec8-4c9b-8c79-fdf60e6971e2",
    "scrolled": false
   },
   "outputs": [],
   "source": [
    "# Null % for all columns in data\n",
    "\n",
    "null_perc = sales_data_2.isnull().sum()/len(sales_data_2)*100\n",
    "\n",
    "null_perc.sort_values(ascending = False)"
   ]
  },
  {
   "cell_type": "markdown",
   "id": "4c5cf2eb",
   "metadata": {
    "id": "4c5cf2eb"
   },
   "source": [
    "### Adding fields for timeseries analysis"
   ]
  },
  {
   "cell_type": "markdown",
   "id": "a1ff7629",
   "metadata": {
    "id": "a1ff7629"
   },
   "source": [
    "Time based analysis becomes really crucial for a sales data. It can inform about patterns, peak & low seasons, events that trigger sales to be high or low etc. \n",
    "It is useful to extract data and have separate time fields for such analysis as done below - "
   ]
  },
  {
   "cell_type": "code",
   "execution_count": null,
   "id": "878584f9",
   "metadata": {
    "id": "878584f9"
   },
   "outputs": [],
   "source": [
    "\n",
    "# Convert date columns into date time \n",
    "\n",
    "sales_data_2.Date = pd.to_datetime(sales_data_2.Date)\n",
    "\n",
    "#Add a month,day and weekday columns\n",
    "sales_data_2['month']=sales_data_2.Date.dt.month\n",
    "sales_data_2['day']=sales_data_2.Date.dt.day\n",
    "sales_data_2['weekday']=sales_data_2.Date.dt.day_name()\n",
    "\n",
    "#Add a hour and minute columns \n",
    "sales_data_2['hour']=sales_data_2.Time.str[0:2]\n",
    "sales_data_2['minute']=sales_data_2.Time.str[3:5]\n",
    "\n",
    "#Make it int values\n",
    "sales_data_2['hour']=pd.to_numeric(sales_data_2['hour'])\n",
    "sales_data_2['minute']=pd.to_numeric(sales_data_2['minute'])"
   ]
  },
  {
   "cell_type": "markdown",
   "id": "04281e46",
   "metadata": {
    "id": "04281e46"
   },
   "source": [
    "##### Checking final data types and NULL counts"
   ]
  },
  {
   "cell_type": "code",
   "execution_count": null,
   "id": "65eb867a",
   "metadata": {
    "id": "65eb867a",
    "outputId": "e1c1f820-cf49-4a64-b462-da610692e2f9",
    "scrolled": true
   },
   "outputs": [],
   "source": [
    "sales_data_2.info()"
   ]
  },
  {
   "cell_type": "code",
   "execution_count": null,
   "id": "fa0825ae",
   "metadata": {},
   "outputs": [],
   "source": [
    "sales_data_2.head()"
   ]
  },
  {
   "cell_type": "markdown",
   "id": "483e67dd",
   "metadata": {
    "id": "483e67dd"
   },
   "source": [
    "## 2. Univariate Analysis ( Quantitative )"
   ]
  },
  {
   "cell_type": "markdown",
   "id": "f7218749",
   "metadata": {
    "id": "f7218749"
   },
   "source": [
    "As already discussed in Day 4 session, we know that Univariate Analysis is simplest form of analysing data. It restricts the analysis to only 1 variable as the name states.\n",
    "\n",
    "It doesn't take into account the mutual relationships and associations among variables. Rather it focuses on finding patterns through a particular field.\n"
   ]
  },
  {
   "cell_type": "markdown",
   "id": "6323b1dc",
   "metadata": {
    "id": "6323b1dc"
   },
   "source": [
    "##### Function for Univariate Charts of quantitative fields - "
   ]
  },
  {
   "cell_type": "markdown",
   "id": "0e096557",
   "metadata": {
    "id": "0e096557"
   },
   "source": [
    "For our Univariate analysis in this case, we are going to plot Violinplot and Stripplot using Seaborn library.\n",
    "Violinplot is a hybrid plot of Box lot & KDE plot which gives us insights about quartiles as well as distribution of a variable.\n",
    "Stripplot is considered to be  good complement to Violinplot because one can see the individual data points along with the distribution. "
   ]
  },
  {
   "cell_type": "code",
   "execution_count": null,
   "id": "4241a90c",
   "metadata": {
    "id": "4241a90c"
   },
   "outputs": [],
   "source": [
    "# Defining function for Univariate Analysis of Quantitative Variables\n",
    "\n",
    "def univariate_quant(col,hue=None):\n",
    "\n",
    "    fig, axes=plt.subplots(nrows =2,ncols=1,figsize=(20,12))                     # Defining 2 subplots, changing fig size\n",
    "    axes[1].set_title( \"Boxenplot of \"+ col , size =14)                          # Chart title for Subplot 1\n",
    "    sns.stripplot(sales_data_2[col],ax=axes[1], color=\"#4CB391\")                 # Distplot in subplot 1\n",
    "\n",
    "\n",
    "    axes[0].set_title(\"Violinplot for  \" + col )                                 #  Title for Subplot 2\n",
    "    sns.violinplot(sales_data_2[col],ax=axes[0], color=\"grey\")                   # Violinplot in Subplot 2\n",
    "    \n",
    "                      \n",
    "    plt.tight_layout()\n",
    "    fig.savefig(\"univariate_\"+col+\".png\") "
   ]
  },
  {
   "cell_type": "markdown",
   "id": "a2c22f66",
   "metadata": {
    "id": "a2c22f66"
   },
   "source": [
    "##### Unit Price"
   ]
  },
  {
   "cell_type": "markdown",
   "id": "cf480e6c",
   "metadata": {
    "id": "cf480e6c"
   },
   "source": [
    "Univariate analysis of Unit Price will help us understand in general how the products are priced in supermarket catalogue "
   ]
  },
  {
   "cell_type": "markdown",
   "id": "ab3d70aa",
   "metadata": {
    "id": "ab3d70aa"
   },
   "source": [
    "Insights- \n",
    "\n",
    "* Unit price doesn't follow a normal distribution, it is more or less similar frequency for range 20-80\n"
   ]
  },
  {
   "cell_type": "code",
   "execution_count": null,
   "id": "9a1b179f",
   "metadata": {
    "id": "9a1b179f",
    "outputId": "b79a74a1-4eb0-43b3-fb22-52300d2abcb5"
   },
   "outputs": [],
   "source": [
    "univariate_quant('Unit price')"
   ]
  },
  {
   "cell_type": "markdown",
   "id": "5959af5f",
   "metadata": {
    "id": "5959af5f"
   },
   "source": [
    "##### Invoice Amount"
   ]
  },
  {
   "cell_type": "markdown",
   "id": "eaa11433",
   "metadata": {
    "id": "eaa11433"
   },
   "source": [
    "Univariate analysis of Invoice Amount will help us understand in general how much is the bill amount per transaction "
   ]
  },
  {
   "cell_type": "markdown",
   "id": "26e70024",
   "metadata": {
    "id": "26e70024"
   },
   "source": [
    "Insights- \n",
    "\n",
    "* It has a right skewed distribution, with majority of values lying in under 500 range.\n"
   ]
  },
  {
   "cell_type": "code",
   "execution_count": null,
   "id": "5c408f5a",
   "metadata": {
    "id": "5c408f5a",
    "outputId": "8672fde7-6803-41d6-a819-32d783e12d9e"
   },
   "outputs": [],
   "source": [
    "univariate_quant('Total')"
   ]
  },
  {
   "cell_type": "markdown",
   "id": "ffffcbd5",
   "metadata": {
    "id": "ffffcbd5"
   },
   "source": [
    "##### Cost of Goods sold"
   ]
  },
  {
   "cell_type": "markdown",
   "id": "3b8d5428",
   "metadata": {
    "id": "3b8d5428"
   },
   "source": [
    "Insights- \n",
    "\n",
    "* It also has a right skewed distribution, with majority of values lying in under 600 range.\n",
    "* It is apparent that  Invoice amount and COGS might be realted with some mathermatical rule/equation.  \n"
   ]
  },
  {
   "cell_type": "code",
   "execution_count": null,
   "id": "d459fb7f",
   "metadata": {
    "id": "d459fb7f",
    "outputId": "5514b693-b6a6-45ea-97ae-c7e725ebc28f",
    "scrolled": true
   },
   "outputs": [],
   "source": [
    "univariate_quant('cogs')"
   ]
  },
  {
   "cell_type": "markdown",
   "id": "1ce83970",
   "metadata": {
    "id": "1ce83970"
   },
   "source": [
    "##### Gross Income"
   ]
  },
  {
   "cell_type": "markdown",
   "id": "d8f49957",
   "metadata": {
    "id": "d8f49957"
   },
   "source": [
    "Insights- \n",
    "\n",
    "* Since gross income is derived out of Invoice amount and COGS, the distribution is similar. \n"
   ]
  },
  {
   "cell_type": "code",
   "execution_count": null,
   "id": "fb8b8def",
   "metadata": {
    "id": "fb8b8def",
    "outputId": "54bdd2de-8094-4c6a-e6ab-c1d00baa19fa"
   },
   "outputs": [],
   "source": [
    "univariate_quant('gross income')"
   ]
  },
  {
   "cell_type": "markdown",
   "id": "1c479358",
   "metadata": {
    "id": "1c479358"
   },
   "source": [
    "##### Ratings"
   ]
  },
  {
   "cell_type": "markdown",
   "id": "d6a4ca62",
   "metadata": {
    "id": "d6a4ca62"
   },
   "source": [
    "Insights- \n",
    "\n",
    "* Ratings do have a similar to normal distribution with mean at around 7.5 rating.. \n",
    "* There are much lesser ratings in 3-5 range which is a good sign for the company. \n"
   ]
  },
  {
   "cell_type": "code",
   "execution_count": null,
   "id": "ecff28ac",
   "metadata": {
    "id": "ecff28ac",
    "outputId": "048ea8f0-0cce-4e56-8ce8-82899d498920"
   },
   "outputs": [],
   "source": [
    "univariate_quant('Rating')"
   ]
  },
  {
   "cell_type": "markdown",
   "id": "1592532e",
   "metadata": {
    "id": "1592532e"
   },
   "source": [
    "##### Quantity purchased"
   ]
  },
  {
   "cell_type": "markdown",
   "id": "fa26d284",
   "metadata": {
    "id": "fa26d284"
   },
   "source": [
    "Insights- \n",
    "\n",
    "* The distribution is relatively a flatter one, the range 1-13 is most dense. \n",
    "* Mean and peak coincide at 7, meaning 7 is the most frequent order size. \n"
   ]
  },
  {
   "cell_type": "code",
   "execution_count": null,
   "id": "dcbd5d1c",
   "metadata": {
    "id": "dcbd5d1c",
    "outputId": "8e359cec-63f3-47c4-a23f-05cda895b5ca"
   },
   "outputs": [],
   "source": [
    "univariate_quant('Quantity')"
   ]
  },
  {
   "cell_type": "markdown",
   "id": "4e6b0a4f",
   "metadata": {
    "id": "4e6b0a4f"
   },
   "source": [
    "##### Alternate Charts - \n",
    "\n",
    "\n",
    "For Quantitative Univariate analysis there is always a range of options to choose from - Box Plot, Histograms, Swarmplots, KDE, Distplot etc. "
   ]
  },
  {
   "cell_type": "markdown",
   "id": "fe2ea955",
   "metadata": {
    "id": "fe2ea955"
   },
   "source": [
    "## 3. Univariate Analysis ( Categorical )"
   ]
  },
  {
   "cell_type": "markdown",
   "id": "dee7f176",
   "metadata": {
    "id": "dee7f176"
   },
   "source": [
    "The Univariate analysis of qualitative variables is fundamentally different from quantitative variables. \n",
    "\n",
    "While for quantitative charts, they are more statistical in nature as we have seen in last section, for categorical analysis  we  simply plot the frequencies via bar/Pie chart."
   ]
  },
  {
   "cell_type": "markdown",
   "id": "bdb767e5",
   "metadata": {
    "id": "bdb767e5"
   },
   "source": [
    "The purpose is to understand the bias in the data with respect to various categories-  "
   ]
  },
  {
   "cell_type": "markdown",
   "id": "0a2dc425",
   "metadata": {
    "id": "0a2dc425"
   },
   "source": [
    "##### Across City"
   ]
  },
  {
   "cell_type": "markdown",
   "id": "968348c9",
   "metadata": {
    "id": "968348c9"
   },
   "source": [
    "Insights - \n",
    "\n",
    "All cities have almost equal number of transactions. \n",
    "In other words, the footprint of the supermarket is similar across cities. "
   ]
  },
  {
   "cell_type": "code",
   "execution_count": null,
   "id": "1eaaf0ba",
   "metadata": {
    "id": "1eaaf0ba",
    "outputId": "db347fe0-5a44-4953-beae-f97a503c95ec"
   },
   "outputs": [],
   "source": [
    "sales_data_2['City'].value_counts().head(10).plot.bar()"
   ]
  },
  {
   "cell_type": "markdown",
   "id": "bc46f125",
   "metadata": {
    "id": "bc46f125"
   },
   "source": [
    "##### Across Gender"
   ]
  },
  {
   "cell_type": "markdown",
   "id": "3fc63564",
   "metadata": {
    "id": "3fc63564"
   },
   "source": [
    "Insights - \n",
    "\n",
    "Females transact more as compared to males. \n",
    "There can be multiple reasons for this which can be a part of further analysis - \n",
    "* Is supermarket known for female oriented products?\n",
    "* Does region in general have more females than males ?\n",
    "* It might be a surprise insight for the supermarket and a particular factor might be causing it - Store aesthetics, offers on a select catalogue etc. "
   ]
  },
  {
   "cell_type": "code",
   "execution_count": null,
   "id": "09d731d8",
   "metadata": {
    "id": "09d731d8",
    "outputId": "6c897f60-b9d1-416b-b84f-e93ad96720ec"
   },
   "outputs": [],
   "source": [
    "sales_data_2['Gender'].value_counts().head(10).plot.bar()"
   ]
  },
  {
   "cell_type": "markdown",
   "id": "5b47cc18",
   "metadata": {
    "id": "5b47cc18"
   },
   "source": [
    "##### Across Product Line"
   ]
  },
  {
   "cell_type": "markdown",
   "id": "4af7a171",
   "metadata": {
    "id": "4af7a171"
   },
   "source": [
    "Insights - \n",
    "\n",
    "There are 2 types of product lines because there is a huge gap in # transaction among top 3 and bottom 3 product lines. \n",
    "\n",
    "1. Health & Beauty , Sports , Fashion constitute majority of the transactions and are high selling product lines for the supermarket. \n",
    "\n",
    "2. The other 3 product lines are not selling as much. \n",
    "\n",
    "3. Health and Beauty is top selling product line with a healthy margin. \n",
    "\n",
    "The possible reasons for this might be following - \n",
    " \n",
    " * There is differentiation on focus by supermarket - there are more products on sale from top 3 as compared to bottom 3 \n",
    " * There are special offers on top 3 which are driving the sales. \n",
    " * The prices and quality for top 3 are more competetive than the rest. \n",
    " * The management is more focused and concerned with the growth of top 3 rather than others ( Possibly due to low margins ) "
   ]
  },
  {
   "cell_type": "code",
   "execution_count": null,
   "id": "90b1292a",
   "metadata": {
    "id": "90b1292a",
    "outputId": "321c9de1-8076-444d-981b-9ef04e9b4105"
   },
   "outputs": [],
   "source": [
    "sales_data_2['Product line'].value_counts().head(10).plot.bar()"
   ]
  },
  {
   "cell_type": "markdown",
   "id": "4cf2e0b3",
   "metadata": {
    "id": "4cf2e0b3"
   },
   "source": [
    "##### Across Payment Modes"
   ]
  },
  {
   "cell_type": "markdown",
   "id": "2f9deb2d",
   "metadata": {
    "id": "2f9deb2d"
   },
   "source": [
    "Insights - \n",
    "\n",
    "* E Wallet is most prefered payment mode while Credit card is least. \n"
   ]
  },
  {
   "cell_type": "code",
   "execution_count": null,
   "id": "c43a271e",
   "metadata": {
    "id": "c43a271e",
    "outputId": "04c3883f-ce47-4093-eb72-a685e2b5e9ae",
    "scrolled": false
   },
   "outputs": [],
   "source": [
    "sales_data_2['Payment'].value_counts().head(10).plot.bar()"
   ]
  },
  {
   "cell_type": "markdown",
   "id": "9276f512",
   "metadata": {
    "id": "9276f512"
   },
   "source": [
    "##### Across Customer Type"
   ]
  },
  {
   "cell_type": "markdown",
   "id": "300358d6",
   "metadata": {
    "id": "300358d6"
   },
   "source": [
    "Insights - \n",
    "\n",
    "2/3rd of the transactions are done by Normal Members and only 1/3rd by Members"
   ]
  },
  {
   "cell_type": "code",
   "execution_count": null,
   "id": "7508857d",
   "metadata": {
    "id": "7508857d",
    "outputId": "f697e14a-672c-483c-b5f9-07c51689c133",
    "scrolled": false
   },
   "outputs": [],
   "source": [
    "sales_data_2['Customer type'].value_counts().head(10).plot.bar()"
   ]
  },
  {
   "cell_type": "markdown",
   "id": "b5cb58b5",
   "metadata": {
    "id": "b5cb58b5"
   },
   "source": [
    "##### Unique Customers who are Member/Non-Members "
   ]
  },
  {
   "cell_type": "markdown",
   "id": "d228c89f",
   "metadata": {
    "id": "d228c89f"
   },
   "source": [
    "While we have already looked at the number of transactions, it is also worthwhile to look at the number of Member/Normal customers that the Supermarket has.\n",
    "\n",
    "There is a subtle difference between number of transactions and number of customers, which is to be noted. \n"
   ]
  },
  {
   "cell_type": "markdown",
   "id": "e3daba28",
   "metadata": {
    "id": "e3daba28"
   },
   "source": [
    "The count of distinct Member/Non Member customers can be obtained by grouping the data by Customer Type and then using nunique() function - "
   ]
  },
  {
   "cell_type": "code",
   "execution_count": null,
   "id": "8b9c3fbe",
   "metadata": {
    "id": "8b9c3fbe",
    "outputId": "f18167e1-9bd1-4596-f38b-9cb90c0df5bc"
   },
   "outputs": [],
   "source": [
    "customer_members = sales_data_2[['CustomerID','Customer type']].groupby(['Customer type'], as_index = False).nunique()\n",
    "_=sns.barplot(x=customer_members[\"Customer type\"], y='CustomerID',data=customer_members) "
   ]
  },
  {
   "cell_type": "markdown",
   "id": "2bcf8c82",
   "metadata": {
    "id": "2bcf8c82"
   },
   "source": [
    "Insights - \n",
    "\n",
    "There are about 250 Members and 375 Normal customers with the Supermarket. \n",
    "\n",
    "It can be seen that the ratio of Members is more than the Transactions done by Members. \n",
    "\n",
    "It is essentially telling us that Members are not contibuting to more transactions as would be expected from those. "
   ]
  },
  {
   "cell_type": "markdown",
   "id": "5f9e8a94",
   "metadata": {
    "id": "5f9e8a94"
   },
   "source": [
    "##### Alternate Charts - \n",
    "\n",
    "Some other ways to look at categorical distributions are - Pie Chart, Countplot, Donut Chart etc. "
   ]
  },
  {
   "cell_type": "markdown",
   "id": "c799b527",
   "metadata": {
    "id": "c799b527"
   },
   "source": [
    "###  Stores Location on map"
   ]
  },
  {
   "cell_type": "markdown",
   "id": "72d8d6fb",
   "metadata": {
    "id": "72d8d6fb"
   },
   "source": [
    "Folium is one of the libraries which provides us with the ability of plotting Geological charts. \n",
    "\n",
    "We will use the same here to understand on the map where exactly the 3 stores are located and how is the proximity like. "
   ]
  },
  {
   "cell_type": "markdown",
   "id": "b600e1aa",
   "metadata": {
    "id": "b600e1aa"
   },
   "source": [
    "First, we'll need to create a dataframe with all the cities, along with their coordinates. \n",
    "\n",
    "Drop_duplicates can be used here to get the unique rows - "
   ]
  },
  {
   "cell_type": "code",
   "execution_count": null,
   "id": "c266b762",
   "metadata": {
    "id": "c266b762",
    "outputId": "fcce1e86-c358-4ce1-d66b-79f9caceb3db"
   },
   "outputs": [],
   "source": [
    "Cities_geo= sales_data_2[['City','Longitude','Latitude']].drop_duplicates()\n",
    "Cities_geo"
   ]
  },
  {
   "cell_type": "markdown",
   "id": "5303dca5",
   "metadata": {
    "id": "5303dca5"
   },
   "source": [
    "In the next step, the map can be plotted using folium.map(). The parameters are passed accordingly. ( Use Shift + tab for more details)\n",
    "\n",
    "folium.Map() just plots the chart. We also need to put city markers on the map. This done by putting markers one by one using folium.marker() function - "
   ]
  },
  {
   "cell_type": "code",
   "execution_count": null,
   "id": "12290319",
   "metadata": {
    "id": "12290319",
    "outputId": "cb81ce2e-206d-419f-aa09-62f0eee3962a",
    "scrolled": false
   },
   "outputs": [],
   "source": [
    "geo_map = folium.Map(location =[16.8409,96.1735], zoom_start = 5, tiles = 'CartoDB Positron', control_scale = True)\n",
    "\n",
    "for (i, j) in Cities_geo.iterrows():\n",
    "  folium.Marker(location = [j.loc['Latitude'], j.loc['Longitude']], popup = j.loc['City'],tooltip = 'click',\n",
    "                icon = folium.Icon(icon = 'glyphicon-shopping-cart', prefix = 'glyphicon')).add_to(geo_map)\n",
    "\n",
    "geo_map\n"
   ]
  },
  {
   "cell_type": "markdown",
   "id": "f93a531c",
   "metadata": {
    "id": "f93a531c"
   },
   "source": [
    "Insights - \n",
    "\n",
    "The cities are distributed across lengths of Myanmar and are not close to each other. \n",
    "\n",
    "Yangon is the only coastal city where the chain is present, other ones are located in the middle of Myanmar. \n",
    "\n",
    "Company can expand in North and East of Myanmar as there is no presence in those areas. \n",
    "\n",
    "Also, a big coastal city Sittwe is also an option for later expansion. \n",
    "\n"
   ]
  },
  {
   "cell_type": "code",
   "execution_count": null,
   "id": "9ac6f120",
   "metadata": {},
   "outputs": [],
   "source": []
  },
  {
   "cell_type": "code",
   "execution_count": null,
   "id": "d004ac61",
   "metadata": {},
   "outputs": [],
   "source": []
  },
  {
   "cell_type": "code",
   "execution_count": null,
   "id": "ca70d52a",
   "metadata": {},
   "outputs": [],
   "source": []
  },
  {
   "cell_type": "code",
   "execution_count": null,
   "id": "009e6d9e",
   "metadata": {},
   "outputs": [],
   "source": []
  },
  {
   "cell_type": "code",
   "execution_count": null,
   "id": "dc0fb25b",
   "metadata": {},
   "outputs": [],
   "source": []
  },
  {
   "cell_type": "code",
   "execution_count": null,
   "id": "e92146c0",
   "metadata": {},
   "outputs": [],
   "source": []
  },
  {
   "cell_type": "code",
   "execution_count": null,
   "id": "f67b9ab8",
   "metadata": {},
   "outputs": [],
   "source": []
  },
  {
   "cell_type": "markdown",
   "id": "b249ba5b",
   "metadata": {
    "id": "b249ba5b"
   },
   "source": [
    "## 4. Bivariate Analysis"
   ]
  },
  {
   "cell_type": "markdown",
   "id": "738dff66",
   "metadata": {
    "id": "738dff66"
   },
   "source": [
    "It is one of the simplest form of statistical analysis where 2 variables are involved. It looks for relationship among the 2 variables. The applications involve hypothesis validation of association among variables, finding trends, regression etc."
   ]
  },
  {
   "cell_type": "markdown",
   "id": "6bc4fe90",
   "metadata": {
    "id": "6bc4fe90"
   },
   "source": [
    "### Heatmap"
   ]
  },
  {
   "cell_type": "markdown",
   "id": "a0d2ab4c",
   "metadata": {
    "id": "a0d2ab4c"
   },
   "source": [
    "The purpose of Heatmap here is to look for any significant correlations among continuous variables in our data. "
   ]
  },
  {
   "cell_type": "markdown",
   "id": "67ea7398",
   "metadata": {
    "id": "67ea7398"
   },
   "source": [
    "Since majority of the quantitative variables in this sales data are mathematically related to each other, the use of Heatmap in this case is not of much help. \n",
    "\n",
    "For example following related variables - \n",
    "* Invoice amount = Unit Price * Quantity\n",
    "* COGS = Invoice Amount * 0.0476\n",
    "* Gross Income = Invoice Amount - COGS\n"
   ]
  },
  {
   "cell_type": "code",
   "execution_count": null,
   "id": "16dc7503",
   "metadata": {
    "id": "16dc7503",
    "outputId": "17dd33e0-9de7-46f9-cd5d-08a44031356b"
   },
   "outputs": [],
   "source": [
    "heatmap_data=sales_data_2.corr()\n",
    "_=sns.heatmap(heatmap_data, annot = True,cmap='YlGnBu')"
   ]
  },
  {
   "cell_type": "markdown",
   "id": "bab96794",
   "metadata": {
    "id": "bab96794"
   },
   "source": [
    "As expected, we see high correlation in almost all sales related fields because they are derived from each other."
   ]
  },
  {
   "cell_type": "markdown",
   "id": "f0a424d1",
   "metadata": {
    "id": "f0a424d1"
   },
   "source": [
    "##### Function for bivariate analysis - "
   ]
  },
  {
   "cell_type": "markdown",
   "id": "ea02fee5",
   "metadata": {
    "id": "ea02fee5"
   },
   "source": [
    "There are 4 important metrics that can provide maximum insights in this sales data - \n",
    "\n",
    "1. Sales \n",
    "2. AOV - Average Order Value\n",
    "3. Mean Order Quantity\n",
    "4. Ratings\n",
    "\n",
    "It would be worthwhile to plot these against multiple categorical variables to see if those categories have an impact on these 4 metrics. \n",
    "\n",
    "It can be a great way to find out what's working for the chain and what is not. "
   ]
  },
  {
   "cell_type": "code",
   "execution_count": null,
   "id": "1c02936b",
   "metadata": {
    "id": "1c02936b"
   },
   "outputs": [],
   "source": [
    "# Defining function for Univariate Analysis of Quantitative Variables\n",
    "\n",
    "def grouped_analysis(col,hue=None):\n",
    "    \n",
    "    plt.figure(figsize=(20,10))\n",
    "    \n",
    "    def custom_fmt(x):                                                     # Custom format function to show values in pie chart\n",
    "        return '{:.0f}%\\n({:.0f})'.format(x, sales_grouped['Total'].sum()*x/100)  # It is used in autopct parameter in pie chart\n",
    "\n",
    "    \n",
    "    sales_grouped= sales_data_2[[col,'Total']].groupby(col).sum()                # Sales grouped by col\n",
    "    mean_ratings = sales_data_2[[col,'Rating']].groupby(col).mean()              # Avg ratings grouped by col\n",
    "    aov  = sales_data_2[[col,'Total']].groupby(col).mean()                       # AOV by col\n",
    "    mean_units_qty = sales_data_2[[col,'Quantity']].groupby(col).mean()          # Mean order qty by col\n",
    "\n",
    "    fig, axes=plt.subplots(nrows =2,ncols=2,figsize=(20,12))                      # Defining 4 subplots, changing fig size\n",
    "    axes[0,0].set_title(\"Sales by \" + col , size = 25)                            # Chart title for Subplot 1\n",
    "    axes[0,0].set_xticklabels(axes[0,0].get_xticklabels(), fontsize=20)\n",
    "   \n",
    "    _=axes[0,0].pie(sales_grouped['Total'], labels = sales_grouped.index, autopct= custom_fmt,textprops={'fontsize': 14})\n",
    "\n",
    "\n",
    "    axes[0,1].set_title(\"AOV by \"  + col,size = 25 )                              #  Title for Subplot 2\n",
    "    axes[0,1].set_xticklabels(axes[0,0].get_xticklabels(), fontsize=20)    \n",
    "    axes[0,1].set_xlabel( axes[0,0].get_xticklabels(),fontsize=20)\n",
    "    axes[0,1].set_ylabel( axes[0,0].get_yticklabels(),fontsize=20)\n",
    "    g=sns.barplot(x=aov.index, y='Total', color=\"#f7a516\",data=aov,ax=axes[0,1]) \n",
    "    g.set_xticklabels(\n",
    "    labels=aov.index, rotation=45)                                                # Rotating lables so that they dont overlap\n",
    "    \n",
    "    \n",
    "    axes[1,0].set_title(\"Mean Ratings by \" + col,size = 25 )                      # Title for Subplot 3\n",
    "    axes[1,0].set_xlabel( axes[0,0].get_xticklabels(),fontsize=20)\n",
    "    axes[1,0].set_ylabel( axes[0,0].get_yticklabels(),fontsize=20)\n",
    "    sns.barplot(y=mean_ratings.index, x='Rating', color=\"#305cb0\",data=mean_ratings,ax=axes[1,0],orient='h')\n",
    "\n",
    "    \n",
    "    axes[1,1].set_title(\"Mean Units Qty by \" + col,size = 25 )                    # Title for Subplot 4\n",
    "    axes[1,1].set_xlabel( axes[0,0].get_xticklabels(),fontsize=20)\n",
    "    axes[1,1].set_ylabel( axes[0,0].get_yticklabels(),fontsize=20)\n",
    "    sns.barplot(y=mean_units_qty.index, x='Quantity', color=\"#712f80\",data=mean_units_qty,ax=axes[1,1],orient='h')\n",
    "\n",
    "    plt.tight_layout()\n",
    "    fig.savefig(\"grouped_analysis\"+col+\".png\") "
   ]
  },
  {
   "cell_type": "markdown",
   "id": "6161f2cc",
   "metadata": {
    "id": "6161f2cc"
   },
   "source": [
    "#### Across City"
   ]
  },
  {
   "cell_type": "markdown",
   "id": "fbeab5b3",
   "metadata": {
    "id": "fbeab5b3"
   },
   "source": [
    "Insights - \n",
    "\n",
    "* Although the number of transactions were similar as we saw earlier in Univariate analysis, Mandalay city have significantly more sales at 39%\n",
    "\n",
    "* Yangon sales are least at 28%\n",
    "\n",
    "* The difference in sales is essentially driven by the differences in AOV, which is maximum for Mandalay and really low for Yangon\n",
    "\n",
    "* Further, we can say that the higher AOV is driven by higher mean quantity as seen in the Right bottom chart\n",
    "\n",
    "* Ratings also reflect a similar story, with highest ratings for Mandalay and least for Yangon. \n",
    "\n",
    "* All of above points point to a big scope of improvement in Yangon for the supermarket chain. "
   ]
  },
  {
   "cell_type": "code",
   "execution_count": null,
   "id": "868dfe88",
   "metadata": {
    "id": "868dfe88",
    "outputId": "06ac3953-bd11-4cd2-caab-41f37632c1a4"
   },
   "outputs": [],
   "source": [
    "grouped_analysis('City')"
   ]
  },
  {
   "cell_type": "markdown",
   "id": "b2c91c4d",
   "metadata": {
    "id": "b2c91c4d"
   },
   "source": [
    "#### Across Customer Type"
   ]
  },
  {
   "cell_type": "markdown",
   "id": "2e2d8281",
   "metadata": {
    "id": "2e2d8281"
   },
   "source": [
    "Insights - \n",
    "\n",
    "* Members are contributing to 43% of sales, driven by really high AOV of 500 a compared to 300 of a normal customer\n",
    "\n",
    "* The difference in AOV is driven by the difference in Average order quantity\n",
    "\n",
    "* Ratings are similar by Member and Normal customers.\n",
    "\n"
   ]
  },
  {
   "cell_type": "code",
   "execution_count": null,
   "id": "e686cd0e",
   "metadata": {
    "id": "e686cd0e",
    "outputId": "4641baa3-2a5b-4403-8493-d379e853e491",
    "scrolled": false
   },
   "outputs": [],
   "source": [
    "grouped_analysis('Customer type')"
   ]
  },
  {
   "cell_type": "markdown",
   "id": "cae50527",
   "metadata": {
    "id": "cae50527"
   },
   "source": [
    "#### Across Gender"
   ]
  },
  {
   "cell_type": "markdown",
   "id": "add9e446",
   "metadata": {
    "id": "add9e446"
   },
   "source": [
    "Insights - \n",
    "\n",
    "* As expected after Univariate analysis, females are driving more sales at 55%\n",
    "\n",
    "* The AOV and average order quantity are also significantly higher for females\n",
    "\n",
    "* The ratings are not impacted by Gender\n",
    "\n",
    "\n"
   ]
  },
  {
   "cell_type": "code",
   "execution_count": null,
   "id": "b2826a8d",
   "metadata": {
    "id": "b2826a8d",
    "outputId": "fb02434d-9d97-4a11-b32d-16b489bcfeab"
   },
   "outputs": [],
   "source": [
    "grouped_analysis('Gender')"
   ]
  },
  {
   "cell_type": "markdown",
   "id": "4f6af5c4",
   "metadata": {
    "id": "4f6af5c4"
   },
   "source": [
    "#### Across Product Line"
   ]
  },
  {
   "cell_type": "markdown",
   "id": "b8df3a2b",
   "metadata": {
    "id": "b8df3a2b"
   },
   "source": [
    "Insights - \n",
    "\n",
    "* Health and Beauty is the most prominent segment with 30% of sales.\n",
    "* 3 bottom segments - Food & Beverages, Electronics, and Home & lifestyle together make 30% of the sales. \n",
    "* Food & Beverages have the maximum AOV among all categories, Home and lifestyle also has a relatively higher AOV. \n",
    "* Customers love these 2 segments as the ratings are also highest for these 2 segments. \n",
    "* If the company could drive more transactions in above 2 segments, it will boost the sales significantly due to their higher AOV\n",
    "\n",
    "\n",
    "\n",
    "\n"
   ]
  },
  {
   "cell_type": "code",
   "execution_count": null,
   "id": "ef6c9031",
   "metadata": {
    "id": "ef6c9031",
    "outputId": "b8233cdc-16ca-4103-c6fa-f6e23acf9b28"
   },
   "outputs": [],
   "source": [
    "grouped_analysis('Product line')"
   ]
  },
  {
   "cell_type": "markdown",
   "id": "fbdafac9",
   "metadata": {
    "id": "fbdafac9"
   },
   "source": [
    "#### Across Payment Modes"
   ]
  },
  {
   "cell_type": "markdown",
   "id": "e5487971",
   "metadata": {
    "id": "e5487971"
   },
   "source": [
    "Insights - \n",
    "\n",
    "* Payment mode doesn't seem to have an impact in any metric as modes have equal distribution in sales, ratings etc. \n",
    "* AOV for Credti cards is relatively higher but the difference is not significant for it to prove a hypothesis. \n",
    "\n",
    "\n"
   ]
  },
  {
   "cell_type": "code",
   "execution_count": null,
   "id": "317fb53e",
   "metadata": {
    "id": "317fb53e",
    "outputId": "cd2cc78b-cd50-4e88-8e71-e703e7c451c1"
   },
   "outputs": [],
   "source": [
    "grouped_analysis('Payment')"
   ]
  },
  {
   "cell_type": "markdown",
   "id": "50a139f5",
   "metadata": {
    "id": "50a139f5"
   },
   "source": [
    "### Timeseries Analysis"
   ]
  },
  {
   "cell_type": "markdown",
   "id": "77eed376",
   "metadata": {
    "id": "77eed376"
   },
   "source": [
    "Timeseries analysis is when a particular metric (sales/aov etc) is analysed with respect to a time variable ( day/month/year etc)\n",
    "\n",
    "Although timeseries analysis is always beneficial wherever applicable, but in case of Sales related data it becomes even more valuable. \n",
    "This can be attributed to following reasons - \n",
    "\n",
    "* Cyclicity in sales can be visualised\n",
    "* Seasonal sales patterns can be identified\n",
    "* Impact of various events ( Festivals, Market collapse, Natural disasters etc. ) can be identified\n",
    "* New strategies can be devised based on the insights to lift up sales during specific times. \n",
    "* Ideal promotional times can be identified. "
   ]
  },
  {
   "cell_type": "markdown",
   "id": "5e7d2e54",
   "metadata": {
    "id": "5e7d2e54"
   },
   "source": [
    "Here, we will be plotting the same 4 metrics as in last sections against a time variable for our analysis - "
   ]
  },
  {
   "cell_type": "code",
   "execution_count": null,
   "id": "6f2e0b8d",
   "metadata": {
    "id": "6f2e0b8d"
   },
   "outputs": [],
   "source": [
    "# Defining function for Univariate Analysis of Quantitative Variables\n",
    "\n",
    "def timeseries_analysis(col,hue=None):\n",
    "    \n",
    "    plt.figure(figsize=(20,10))\n",
    "    \n",
    "    sales_grouped= sales_data_2[[col,'Total']].groupby(col).sum()              # Sales grouped by col\n",
    "    mean_ratings = sales_data_2[[col,'Rating']].groupby(col).mean()            # Avg ratings grouped by col\n",
    "    aov  = sales_data_2[[col,'Total']].groupby(col).mean()                      # AOV by col\n",
    "    mean_units_qty = sales_data_2[[col,'Quantity']].groupby(col).mean()         # Mean order qty by col\n",
    "\n",
    "\n",
    "    fig, axes=plt.subplots(nrows =2,ncols=2,figsize=(20,12))                      # Defining 4 subplots, changing fig size\n",
    "     \n",
    "    \n",
    "    axes[0,0].set_title(\"Sales by \" + col , size = 25)                            # Chart titl for Subplot 1\n",
    "    sns.lineplot(x=sales_grouped.index , y= sales_grouped['Total'], data=sales_grouped, ax=axes[0,0])\n",
    "\n",
    "\n",
    "    axes[0,1].set_title(\"AOV by \"  + col,size = 25 )                              #  Title for Subplot 2\n",
    "    axes[0,1].set_xticklabels(axes[0,1].get_xticklabels(), fontsize=20)    \n",
    "    axes[0,1].set_xlabel( axes[0,1].get_xticklabels(),fontsize=20)\n",
    "    axes[0,1].set_ylabel( axes[0,1].get_yticklabels(),fontsize=20)\n",
    "    sns.barplot(x=aov.index, y='Total', color=\"#f7a516\",data=aov,ax=axes[0,1])    \n",
    "    \n",
    "    \n",
    "    axes[1,0].set_title(\"Mean Ratings by \" + col,size = 25 )                      # Title for Subplot 3\n",
    "    axes[1,0].set_xlabel( axes[1,0].get_xticklabels(),fontsize=20)\n",
    "    axes[1,0].set_ylabel( axes[1,0].get_yticklabels(),fontsize=20)\n",
    "    sns.barplot(y=mean_ratings.index, x='Rating', color=\"#305cb0\",data=mean_ratings,ax=axes[1,0],orient='h')\n",
    "\n",
    "    \n",
    "    axes[1,1].set_title(\"Mean Units Qty by \" + col,size = 25 )                    # Title for Subplot 4\n",
    "    axes[1,1].set_xlabel( axes[1,1].get_xticklabels(),fontsize=20)\n",
    "    axes[1,1].set_ylabel( axes[1,1].get_yticklabels(),fontsize=20)\n",
    "    sns.barplot(y=mean_units_qty.index, x='Quantity', color=\"#712f80\",data=mean_units_qty,ax=axes[1,1],orient='h')\n",
    "\n",
    "    plt.tight_layout()\n",
    "    fig.savefig(\"timeseries_analysis\"+col+\".png\") "
   ]
  },
  {
   "cell_type": "markdown",
   "id": "9ee77952",
   "metadata": {
    "id": "9ee77952"
   },
   "source": [
    "##### Timeseries Analysus - by Hour"
   ]
  },
  {
   "cell_type": "markdown",
   "id": "d0640017",
   "metadata": {
    "id": "d0640017"
   },
   "source": [
    "Insights - \n",
    "\n",
    "* Sales peak sharply at 7PM in the evening \n",
    "* 4PM-6PM is a dead period with really low sales\n",
    "* Stores see moderate sales during 10 AM to 3 PM\n",
    "* Ratings, Order quantity logically should not be related to time of the day, hence any variation should be attributed to a random phenomenon. "
   ]
  },
  {
   "cell_type": "code",
   "execution_count": null,
   "id": "3e78fe9d",
   "metadata": {
    "id": "3e78fe9d",
    "outputId": "f855af8e-812d-4fdf-9906-d205a75f6036",
    "scrolled": false
   },
   "outputs": [],
   "source": [
    "timeseries_analysis('hour')"
   ]
  },
  {
   "cell_type": "markdown",
   "id": "d0d9ddfa",
   "metadata": {
    "id": "d0d9ddfa"
   },
   "source": [
    "##### Timeseries Analysis - by Month"
   ]
  },
  {
   "cell_type": "markdown",
   "id": "5bb88493",
   "metadata": {
    "id": "5bb88493"
   },
   "source": [
    "Insights - \n",
    "\n",
    "* February is peak sales month where sales go beyond 50k+. Jut for comparison, most of the other month accumulate less than 35k revenue.  \n",
    "* There must be a reason for this spike in February. It can either be a festival in the region, or a season that's driving sales of particular segment or a promotional campaign that has worked well. \n",
    "* December also sees a significant spike, although not as steep as February but still significant. \n",
    "* April-Nov sales are on the lower side, with sales dipping close to 25k in July. "
   ]
  },
  {
   "cell_type": "code",
   "execution_count": null,
   "id": "614c0197",
   "metadata": {
    "id": "614c0197",
    "outputId": "957024cd-921f-4c9c-9e91-a9d2a1ed85af",
    "scrolled": false
   },
   "outputs": [],
   "source": [
    "timeseries_analysis('month')"
   ]
  },
  {
   "cell_type": "markdown",
   "id": "52d702ff",
   "metadata": {
    "id": "52d702ff"
   },
   "source": [
    "##### Month on Month sales - Members and Non Members "
   ]
  },
  {
   "cell_type": "markdown",
   "id": "f7e8b862",
   "metadata": {
    "id": "f7e8b862"
   },
   "source": [
    "Insights - \n",
    "\n",
    "* Members always have significantly more AOV than normal customers. \n",
    "* Members AOV has lesser fluctuations than Non members. "
   ]
  },
  {
   "cell_type": "code",
   "execution_count": null,
   "id": "7a8b4d74",
   "metadata": {
    "id": "7a8b4d74",
    "outputId": "ca2128ef-8964-4088-e0cb-d7f9eceb0e5b",
    "scrolled": false
   },
   "outputs": [],
   "source": [
    "plt.figure(figsize=(15,8))\n",
    "plt.title('AOV per Month by Customer Type')\n",
    "sns.lineplot(data=sales_data_2,x='month',y='Total',hue='Customer type',markers=True,style='Customer type',dashes=False); "
   ]
  },
  {
   "cell_type": "markdown",
   "id": "4c3d9f0d",
   "metadata": {
    "id": "4c3d9f0d"
   },
   "source": [
    "###  Customers across Cities"
   ]
  },
  {
   "cell_type": "markdown",
   "id": "d41ea5bf",
   "metadata": {
    "id": "d41ea5bf"
   },
   "source": [
    "Insights - \n",
    "\n",
    "\n",
    "* Mandalay has least unique customers (90), while Yangon hs most (200+)\n",
    "* Sales per customers metric has opposite trend where each customer spends maximum in Mandalay ( 1600).\n"
   ]
  },
  {
   "cell_type": "markdown",
   "id": "809b84be",
   "metadata": {
    "id": "809b84be"
   },
   "source": [
    "NOTE : nunique function is used to calculate distinct customers "
   ]
  },
  {
   "cell_type": "code",
   "execution_count": null,
   "id": "47a5d15b",
   "metadata": {
    "id": "47a5d15b",
    "outputId": "6abb019c-722b-4350-e3f9-b78a8b43e391",
    "scrolled": false
   },
   "outputs": [],
   "source": [
    "plt.figure(figsize=(15,8))\n",
    "\n",
    "customer_city = sales_data_2[['City', 'CustomerID']].groupby(['City']).nunique()\n",
    "sales_city= sales_data_2[[\"City\",'Total']].groupby(\"City\").sum()\n",
    "sales_per_cx = sales_city[\"Total\"]/customer_city[\"CustomerID\"]\n",
    "\n",
    "fig, ax=plt.subplots(nrows =1,ncols=2,figsize=(20,12))                      # Defining 4 subplots, changing fig size\n",
    "\n",
    "sns.barplot(x=customer_city.index, y='CustomerID', color=\"#f7a516\",data=customer_city,ax=ax[0])  \n",
    "_=ax[0].set_title(\"Customer Count by Cities\", size = 25)                            # Chart titl for Subplot 1\n",
    "\n",
    "\n",
    "sns.barplot(x=customer_city.index, y=sales_per_cx.values, color=\"#f7a516\",ax=ax[1]) \n",
    "_=ax[1].set_title(\"Sales per Customer by Cities\", size = 25)                            # Chart title for Subplot 2\n",
    "\n",
    "\n"
   ]
  },
  {
   "cell_type": "markdown",
   "id": "430447d5",
   "metadata": {
    "id": "430447d5"
   },
   "source": [
    "### Member/Non-Member Deep Dive"
   ]
  },
  {
   "cell_type": "markdown",
   "id": "7f1bbbfb",
   "metadata": {
    "id": "7f1bbbfb"
   },
   "source": [
    "Finally, we'll see how our Member and Non Members perform across 4 metrics that we've used for bivariate analysis. \n",
    "\n",
    "We'll make use of Grouped bar chart to represent the comparison in a better way - "
   ]
  },
  {
   "cell_type": "code",
   "execution_count": null,
   "id": "89022d55",
   "metadata": {
    "id": "89022d55",
    "outputId": "c4b07102-7498-46ef-ac7a-7f57204c962b",
    "scrolled": false
   },
   "outputs": [],
   "source": [
    "sales_grouped= sales_data_2[[\"City\",\"Customer type\",'Total']].groupby([\"City\",\"Customer type\"], as_index = False).sum()\n",
    "mean_ratings = sales_data_2[[\"City\",\"Customer type\",'Rating']].groupby([\"City\",\"Customer type\"], as_index = False).mean()\n",
    "aov  = sales_data_2[[\"City\",\"Customer type\",'Total']].groupby([\"City\",\"Customer type\"], as_index = False).mean()\n",
    "mean_units_qty = sales_data_2[[\"City\",'Customer type','Quantity']].groupby([\"City\",\"Customer type\"], as_index = False).mean()\n",
    "                               \n",
    "fig,axes= plt.subplots(nrows =2,ncols=2,figsize=(20,12)) \n",
    "                              \n",
    "_=sns.barplot(x=sales_grouped[\"City\"], y='Total',data=sales_grouped,hue = 'Customer type', ax = axes[0,0])  \n",
    "axes[0,0].set_xticklabels(axes[0,0].get_xticklabels(), fontsize=20)    \n",
    "axes[0,0].set_title(\"Sales by City/Cutomer Type \"  , size = 25)     \n",
    "                              \n",
    "_=sns.barplot(x=aov[\"City\"], y='Total',data=aov,hue = 'Customer type', ax = axes[0,1])  \n",
    "axes[0,1].set_xticklabels(axes[0,1].get_xticklabels(), fontsize=20)    \n",
    "axes[0,1].set_title(\"AOV by City/Cutomer Type \"  , size = 25)  \n",
    "                              \n",
    "_=sns.barplot(x=mean_ratings[\"City\"], y='Rating',data=mean_ratings,hue = 'Customer type', ax = axes[1,0])  \n",
    "axes[1,0].set_xticklabels(axes[1,0].get_xticklabels(), fontsize=20)    \n",
    "axes[1,0].set_title(\"Mean Ratings by City/Cutomer Type \"  , size = 25)  \n",
    "                              \n",
    "_=sns.barplot(x=mean_units_qty[\"City\"], y='Quantity',data=mean_units_qty,hue = 'Customer type', ax = axes[1,1])  \n",
    "axes[1,1].set_xticklabels(axes[1,1].get_xticklabels(), fontsize=20)    \n",
    "axes[1,1].set_title(\"Mean Order Qty by City/Cutomer Type \"  , size = 25)  \n",
    "\n",
    "plt.tight_layout()"
   ]
  },
  {
   "cell_type": "markdown",
   "id": "90abf295",
   "metadata": {
    "id": "90abf295"
   },
   "source": [
    "Insights - \n",
    "\n",
    "* Normal customers have more sales in all cities. But that may be due to the fact that Non Members are higher in count as we've seen earlier.\n",
    "* Members consistently have higher AOV than non members. \n",
    "* The AOV is driven by higher order quantity. \n"
   ]
  },
  {
   "cell_type": "markdown",
   "id": "19917ebc",
   "metadata": {
    "id": "19917ebc"
   },
   "source": [
    "## 5. Final Insights"
   ]
  },
  {
   "cell_type": "markdown",
   "id": "94581dca",
   "metadata": {
    "id": "94581dca"
   },
   "source": [
    "As per the insights discussed so far, we can have following final recommendations -\n",
    "\n",
    "•\tThe Members are doing really well in terms of sales numbers for the company. Thus a campaign can be formulated to promote the member sign ups.\n",
    "\n",
    "•\tThe spike in Feb sales are a hint that the stores have the potential to have higher sales throughout the year. Specially April to November period sales can be significantly improved by some focused marketing.\n",
    "\n",
    "•\tFood & Beverages, Home and lifestyle have the maximum AOV among all categories, but constitute just 20% of the total sales together. The ratings are also better than other categories. It is a sign that a strategy around promoting these categories can be formulated.\n",
    "\n",
    "•\tIt is a good sign for the supermarket chain that Females are driving majority of the sales. Even females' dominated categories such as Health & Beauty, Fashion are top product categories. The company can scale this further to improve overall revenue. Female tend to be higher spenders than Men, and company can take more advantage of this data insight.\n",
    "\n",
    "•\tYangon has least sales and AOV of all cities and the difference is significant too. Hence a focused marketing campaign can be launched to meet the potential sale in this city.\n"
   ]
  }
 ],
 "metadata": {
  "colab": {
   "collapsed_sections": [
    "d8d6643e",
    "648be95c",
    "5ec23b6f",
    "17be877a",
    "ad6f80c1",
    "4c5cf2eb",
    "483e67dd",
    "fe2ea955",
    "c799b527",
    "b249ba5b",
    "6bc4fe90",
    "6161f2cc",
    "b2c91c4d",
    "cae50527",
    "4f6af5c4",
    "fbdafac9",
    "50a139f5",
    "4c3d9f0d",
    "430447d5",
    "19917ebc"
   ],
   "name": "Week14_Day5_CaseStudy.ipynb",
   "provenance": []
  },
  "kernelspec": {
   "display_name": "Python 3 (ipykernel)",
   "language": "python",
   "name": "python3"
  },
  "language_info": {
   "codemirror_mode": {
    "name": "ipython",
    "version": 3
   },
   "file_extension": ".py",
   "mimetype": "text/x-python",
   "name": "python",
   "nbconvert_exporter": "python",
   "pygments_lexer": "ipython3",
   "version": "3.11.5"
  }
 },
 "nbformat": 4,
 "nbformat_minor": 5
}
